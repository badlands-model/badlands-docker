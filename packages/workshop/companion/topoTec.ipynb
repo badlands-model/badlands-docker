{
 "cells": [
  {
   "cell_type": "markdown",
   "metadata": {},
   "source": [
    "# Simple vertical displacement grid generation\n",
    "\n",
    "In this notebook, we will see how to generate vertical displacements (uplift & subsidence) over a regular topographic grid that could directly be uploaded for running Badlands models. The proposed examples showcase 3 cases:\n",
    "+ an uplift based on a slope function \n",
    "+ a step function subsidence\n",
    "+ a sine wave uplift\n",
    "\n",
    "The displacement **CSV** file required by Badlands should provide the **cumulative vertical changes** through the simulated period for each node of the regular grid (in meters). \n",
    "\n",
    "For a given simulation, it is possible to upload several maps corresponding to different tectonic history. For each of these maps you will need to define the starting and ending time in the XmL input file.\n",
    "\n",
    "**Attention:** the file defines the *cumulative* displacement **and not** the displacement *rate*.\n",
    "\n",
    "**Note:** the nodes are read in increasing order based on the regular grid discretization starting from the South-West corner and going first along the X axis (West to East)."
   ]
  },
  {
   "cell_type": "code",
   "execution_count": null,
   "metadata": {},
   "outputs": [],
   "source": [
    "%matplotlib inline\n",
    "\n",
    "# Import badlands displacement map generation toolbox\n",
    "import badlands_companion.toolTec as tec\n",
    "\n",
    "# display plots in SVG format\n",
    "%config InlineBackend.figure_format = 'svg' "
   ]
  },
  {
   "cell_type": "markdown",
   "metadata": {},
   "source": [
    "# 1. Building a displacements map using a slope function\n",
    "\n",
    "We first initialize the extent of the simulation area.\n",
    "\n",
    "The function takes 3 arguments:\n",
    "+ the extent of the domain along the X-axis [xmin,xmax] in metres,\n",
    "+ the extent of the domain along the Y-axis [ymin,ymax] in metres,\n",
    "+ the grid spacing `dx` in metres.\n",
    "\n",
    "These parameters are the same as the one used for building your surface grid.\n",
    "\n",
    "For more information regarding the function uncomment the following cell."
   ]
  },
  {
   "cell_type": "code",
   "execution_count": null,
   "metadata": {},
   "outputs": [],
   "source": [
    "#help(tec.toolTec.__init__)"
   ]
  },
  {
   "cell_type": "code",
   "execution_count": null,
   "metadata": {},
   "outputs": [],
   "source": [
    "tecslp = tec.toolTec(extentX=[0.,100000.], extentY=[0.,100000.], dx=100.)"
   ]
  },
  {
   "cell_type": "markdown",
   "metadata": {},
   "source": [
    "The slope function takes 3 parameters:\n",
    "+ the base of the cumulative displacement in metres,\n",
    "+ the slope (as dz/dx)\n",
    "+ the direction of the displacement slope: either along the X or Y axis\n",
    "\n",
    "**Note:** negative values for the slope corresponds to subsidence and positive ones to uplift. However, this is relative to the `base` variable. \n",
    "\n",
    "For more information regarding the function uncomment the following cell."
   ]
  },
  {
   "cell_type": "code",
   "execution_count": null,
   "metadata": {},
   "outputs": [],
   "source": [
    "#help(tecslp.slopeTec)"
   ]
  },
  {
   "cell_type": "code",
   "execution_count": null,
   "metadata": {},
   "outputs": [],
   "source": [
    "tecslp.disp = tecslp.slopeTec(base=10000.,slope=0.00, axis='X')"
   ]
  },
  {
   "cell_type": "markdown",
   "metadata": {},
   "source": [
    "It is possible to have a look at the grid surface using **plotly** library before proceeding to the creation of the badlands surface."
   ]
  },
  {
   "cell_type": "code",
   "execution_count": null,
   "metadata": {},
   "outputs": [],
   "source": [
    "#help(tecslp.dispView)"
   ]
  },
  {
   "cell_type": "code",
   "execution_count": null,
   "metadata": {},
   "outputs": [],
   "source": [
    "tecslp.dispView(width=600, height=600, dispmin=-1000, dispmax=11000, dispData=tecslp.disp, title='Export Slope Map')"
   ]
  },
  {
   "cell_type": "markdown",
   "metadata": {},
   "source": [
    "Once the displacement map has been generated, we export a **CSV** regular map that will be loaded in the simulation. The file provides for each node only one information:\n",
    "+ the cumulative displacement value in meters.\n",
    "\n",
    "**Note:** Nodes are defined in increasing order from the South/West corner, first along the X axis.\n",
    "\n",
    "The `dispGrid` function takes the return displacements field from the `slopeTec` function and creates the badlands map in the appropriate format.\n",
    "\n",
    "For more information regarding the function uncomment the following cell."
   ]
  },
  {
   "cell_type": "code",
   "execution_count": null,
   "metadata": {},
   "outputs": [],
   "source": [
    "#help(tecslp.dispGrid)"
   ]
  },
  {
   "cell_type": "code",
   "execution_count": null,
   "metadata": {},
   "outputs": [],
   "source": [
    "tecslp.disp[:,0] = 0.\n",
    "tecslp.disp[:,-1] = 0.\n",
    "tecslp.disp[0,:] = 0.\n",
    "tecslp.disp[-1,:] = 0."
   ]
  },
  {
   "cell_type": "code",
   "execution_count": null,
   "metadata": {},
   "outputs": [],
   "source": [
    "tecslp.dispGrid(disp=tecslp.disp, nameCSV='disp10km')"
   ]
  },
  {
   "cell_type": "markdown",
   "metadata": {},
   "source": [
    "# 2. Building a displacements map using  sine wave function\n",
    "\n",
    "Now, we move to another displacements map generation based on a sine wave function. \n",
    "\n",
    "Here again, we first initialize the extent of the simulation area based on the regular topographic grid.\n",
    "\n",
    "The function takes 3 arguments:\n",
    "+ the extent of the domain along the X-axis [xmin,xmax] in metres,\n",
    "+ the extent of the domain along the Y-axis [ymin,ymax] in metres,\n",
    "+ the grid spacing `dx` in metres.\n",
    "\n",
    "For more information regarding the function uncomment the following cell."
   ]
  },
  {
   "cell_type": "code",
   "execution_count": null,
   "metadata": {},
   "outputs": [],
   "source": [
    "#help(simple.toolTec.__init__)"
   ]
  },
  {
   "cell_type": "code",
   "execution_count": null,
   "metadata": {},
   "outputs": [],
   "source": [
    "tecwave = tec.toolTec(extentX=[0.,50000.], extentY=[0.,50000.], dx=100.)"
   ]
  },
  {
   "cell_type": "markdown",
   "metadata": {},
   "source": [
    "We create a wave by defining 3 parameters:\n",
    "\n",
    "+ the amplitude of the wave: A in metres,\n",
    "+ the period of the wave: P in metres,\n",
    "+ the base of the cumulative displacement in metres,\n",
    "+ the center of the wave.\n",
    "+ the axis used to build the wave function (either the X or Y axis)\n",
    "\n",
    "For more information regarding the function uncomment the following cell."
   ]
  },
  {
   "cell_type": "code",
   "execution_count": null,
   "metadata": {},
   "outputs": [],
   "source": [
    "#help(tecwave.waveTec)"
   ]
  },
  {
   "cell_type": "code",
   "execution_count": null,
   "metadata": {},
   "outputs": [],
   "source": [
    "tecwave.disp = tecwave.waveTec(A=-550., P=20000., base=100., center=25000., axis='Y')"
   ]
  },
  {
   "cell_type": "markdown",
   "metadata": {},
   "source": [
    "It is possible to have a look at the grid surface using **plotly** library before proceeding to the creation of the badlands surface."
   ]
  },
  {
   "cell_type": "code",
   "execution_count": null,
   "metadata": {},
   "outputs": [],
   "source": [
    "#help(tecwave.dispView)"
   ]
  },
  {
   "cell_type": "code",
   "execution_count": null,
   "metadata": {},
   "outputs": [],
   "source": [
    "tecwave.dispView(width=600, height=600, dispmin=-1000, dispmax=1000, dispData=tecwave.disp, title='Export Wave Map')"
   ]
  },
  {
   "cell_type": "markdown",
   "metadata": {},
   "source": [
    "Once the displacement map has been generated, we export a **CSV** regular map that will be loaded in the simulation. The file provides for each node only one information:\n",
    "+ the cumulative displacement value in meters.\n",
    "\n",
    "**Note:** Nodes are defined in increasing order from the South/West corner, first along the X axis.\n",
    "\n",
    "The `dispGrid` function takes the return displacements field from the `slopeTec` function and creates the badlands map in the appropriate format.\n",
    "\n",
    "For more information regarding the function uncomment the following cell."
   ]
  },
  {
   "cell_type": "code",
   "execution_count": null,
   "metadata": {},
   "outputs": [],
   "source": [
    "#help(tecwave.buildGrid)"
   ]
  },
  {
   "cell_type": "code",
   "execution_count": null,
   "metadata": {},
   "outputs": [],
   "source": [
    "tecwave.dispGrid(disp=tecwave.disp, nameCSV='waveMap')"
   ]
  },
  {
   "cell_type": "markdown",
   "metadata": {},
   "source": [
    "# 3. Building displacements map using a step function\n",
    "\n",
    "The last example show how to create a displacements map with a step function. \n",
    "\n",
    "Here again, we first initialize the extent of the simulation area.\n",
    "\n",
    "The function takes 3 arguments:\n",
    "+ the extent of the domain along the X-axis [xmin,xmax] in metres,\n",
    "+ the extent of the domain along the Y-axis [ymin,ymax] in metres,\n",
    "+ the grid spacing `dx` in metres.\n",
    "\n",
    "For more information regarding the function uncomment the following cell."
   ]
  },
  {
   "cell_type": "code",
   "execution_count": null,
   "metadata": {},
   "outputs": [],
   "source": [
    "#help(tec.toolTec.__init__)"
   ]
  },
  {
   "cell_type": "code",
   "execution_count": null,
   "metadata": {},
   "outputs": [],
   "source": [
    "stpTec = tec.toolTec(extentX=[0.,50000.], extentY=[0.,50000.], dx=100.)"
   ]
  },
  {
   "cell_type": "markdown",
   "metadata": {},
   "source": [
    "We create the step function by defining 5 parameters:\n",
    "\n",
    "+ the amplitude of the dispacement `A` in metres,\n",
    "+ the base of the cumulative displacement in metres,\n",
    "+ the extent of the step function *i.e.* min/max (in metres),\n",
    "+ the axis used to build the wave function (either the X or Y axis)\n",
    "\n",
    "For more information regarding the function uncomment the following cell.\n"
   ]
  },
  {
   "cell_type": "code",
   "execution_count": null,
   "metadata": {},
   "outputs": [],
   "source": [
    "#help(stpTec.stepTec)"
   ]
  },
  {
   "cell_type": "code",
   "execution_count": null,
   "metadata": {},
   "outputs": [],
   "source": [
    "stpTec.disp = stpTec.stepTec(A=300, base=100., edge1=20000., edge2=30000., axis='X')"
   ]
  },
  {
   "cell_type": "markdown",
   "metadata": {},
   "source": [
    "It is possible to have a look at the grid surface using plotly library before proceeding to the creation of the badlands surface."
   ]
  },
  {
   "cell_type": "code",
   "execution_count": null,
   "metadata": {},
   "outputs": [],
   "source": [
    "#help(stpTec.dispView)"
   ]
  },
  {
   "cell_type": "code",
   "execution_count": null,
   "metadata": {},
   "outputs": [],
   "source": [
    "stpTec.dispView(width=600, height=600, dispmin=-1000, dispmax=1000, dispData=stpTec.disp, title='Export Step Map')"
   ]
  },
  {
   "cell_type": "markdown",
   "metadata": {},
   "source": [
    "Once the displacement map has been generated, we export a **CSV** regular map that will be loaded in the simulation. The file provides for each node only one information:\n",
    "+ the cumulative displacement value in meters.\n",
    "\n",
    "**Note:** Nodes are defined in increasing order from the South/West corner, first along the X axis.\n",
    "\n",
    "The `dispGrid` function takes the return displacements field from the `slopeTec` function and creates the badlands map in the appropriate format.\n",
    "\n",
    "For more information regarding the function uncomment the following cell."
   ]
  },
  {
   "cell_type": "code",
   "execution_count": null,
   "metadata": {},
   "outputs": [],
   "source": [
    "#help(stpTec.dispGrid)"
   ]
  },
  {
   "cell_type": "code",
   "execution_count": null,
   "metadata": {},
   "outputs": [],
   "source": [
    "stpTec.dispGrid(disp=stpTec.disp, nameCSV='stepMap')"
   ]
  },
  {
   "cell_type": "code",
   "execution_count": null,
   "metadata": {},
   "outputs": [],
   "source": []
  }
 ],
 "metadata": {
  "kernelspec": {
   "display_name": "Python 3",
   "language": "python",
   "name": "python3"
  },
  "language_info": {
   "codemirror_mode": {
    "name": "ipython",
    "version": 3
   },
   "file_extension": ".py",
   "mimetype": "text/x-python",
   "name": "python",
   "nbconvert_exporter": "python",
   "pygments_lexer": "ipython3",
   "version": "3.5.3"
  }
 },
 "nbformat": 4,
 "nbformat_minor": 1
}
