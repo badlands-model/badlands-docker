{
 "cells": [
  {
   "cell_type": "markdown",
   "metadata": {},
   "source": [
    "# Analyse Badlands stratigraphic output\n",
    "\n",
    "If the stratigraphic structure is turned on in the XmL input file, **Badlands** produces sedimentary layers Hdf5 files. The stratigraphic layers are defined on a regularly spaced grid and a layer is recorded at each layer time interval given by the user.\n",
    "\n",
    "Here we show how we can visualise quickly the structure of the stratigraphic layer in an IPython notebook."
   ]
  },
  {
   "cell_type": "code",
   "execution_count": null,
   "metadata": {},
   "outputs": [],
   "source": [
    "%matplotlib inline\n",
    "\n",
    "import numpy as np\n",
    "import colorlover as cl\n",
    "\n",
    "# Import badlands grid generation toolbox\n",
    "import badlands_companion.stratalAnalyse as strata\n",
    "\n",
    "# display plots in SVG format\n",
    "%config InlineBackend.figure_format = 'svg' "
   ]
  },
  {
   "cell_type": "markdown",
   "metadata": {},
   "source": [
    "# Loading stratigraphic file\n",
    "\n",
    "First we need to load one of the stratigraphic file. The files are located in the **h5/** folder in the simulation main output folder and are named using the following convention:\n",
    "- `sed.time`T`.hdf5`\n",
    "\n",
    "with T the display time index and X the number of the partition (used in the parallel version). In cases where you ran your simulation in parallel you will also need to give the number of CPUs used (_cpus_).\n",
    "\n",
    "To load a file you will need to give the folder name and the number of processors used in your simulation.\n",
    "\n",
    "For more information regarding the function uncomment the following line."
   ]
  },
  {
   "cell_type": "code",
   "execution_count": null,
   "metadata": {},
   "outputs": [],
   "source": [
    "#help(strata.stratalSection.__init__)"
   ]
  },
  {
   "cell_type": "code",
   "execution_count": null,
   "metadata": {},
   "outputs": [],
   "source": [
    "folder = '/live/share/output/h5/'\n",
    "strat = strata.stratalSection(folder)"
   ]
  },
  {
   "cell_type": "markdown",
   "metadata": {},
   "source": [
    "Then we need to load a particular output time interval (this is the T parameter in the hdf5 file name convention).\n",
    "\n",
    "**Note**\n",
    "\n",
    "This number is not always the number of sedimentary layers for this particular time step as you could have chosen in the input file to have more than 1 sedimentary layer recorded by output interval!"
   ]
  },
  {
   "cell_type": "code",
   "execution_count": null,
   "metadata": {},
   "outputs": [],
   "source": [
    "#help(strat.loadStratigraphy)"
   ]
  },
  {
   "cell_type": "code",
   "execution_count": null,
   "metadata": {},
   "outputs": [],
   "source": [
    "strat.loadStratigraphy(50)"
   ]
  },
  {
   "cell_type": "markdown",
   "metadata": {},
   "source": [
    "# Building a cross-section\n",
    "\n",
    "We then slice the stratigraphic mesh to visualise the sedimentary architecture along a given cross-section.\n",
    "\n",
    "To create the cross-section you will need to provide the position of the segment in the simulation space _(xo,yo)_ and _(xm,ym)_, a gaussian filter value for smoothing (_gfilt_ a value of 0 can be used for non-smoothing) and the resolution of the cross-section (based on a number of points: _nbpts_). "
   ]
  },
  {
   "cell_type": "code",
   "execution_count": null,
   "metadata": {},
   "outputs": [],
   "source": [
    "# Position of the cross-section\n",
    "x1 = 0\n",
    "y1 = 12000\n",
    "x2 = 24000\n",
    "y2 = 12000\n",
    "\n",
    "# Interpolation parameters\n",
    "gfilt = 5\n",
    "nbpts = 1000"
   ]
  },
  {
   "cell_type": "code",
   "execution_count": null,
   "metadata": {},
   "outputs": [],
   "source": [
    "#help(strat.buildSection)"
   ]
  },
  {
   "cell_type": "code",
   "execution_count": null,
   "metadata": {},
   "outputs": [],
   "source": [
    "strat.buildSection(xo = x1, yo = y1, xm = x2, ym = y2, pts = nbpts, gfilter = gfilt)"
   ]
  },
  {
   "cell_type": "markdown",
   "metadata": {},
   "source": [
    "# Plot cross-section\n",
    "\n",
    "We use **plotly** to visualise the cross-section and the associated sedimentary packages."
   ]
  },
  {
   "cell_type": "code",
   "execution_count": null,
   "metadata": {},
   "outputs": [],
   "source": [
    "#help(strata.viewSection)"
   ]
  },
  {
   "cell_type": "code",
   "execution_count": null,
   "metadata": {},
   "outputs": [],
   "source": [
    "strata.viewSection(width = 1000, height = 600, cs=strat, \n",
    "                   rangeX=[2000,9000], rangeY=[-400,100], \n",
    "                   linesize=0.5, title='stratigraphic stack coloured by time')"
   ]
  },
  {
   "cell_type": "markdown",
   "metadata": {},
   "source": [
    "# System tract\n",
    "\n",
    "There are several models of systems tracts within depositional sequences, here we use the most simple one called the four systems tract model:\n",
    "\n",
    "- lowstand systems tract **LST**, \n",
    "- transgressive systems tract **TST**, \n",
    "- highstand systems tract **HST**, and \n",
    "- falling-stage systems tract **FST**.\n",
    "\n",
    "For each of these system tracts we define a given color. We use the 'colorlover' library [link](http://moderndata.plot.ly/color-scales-in-ipython-notebook/)"
   ]
  },
  {
   "cell_type": "code",
   "execution_count": null,
   "metadata": {},
   "outputs": [],
   "source": [
    "#colormap = cl.scales['9']['seq']['BuPu']\n",
    "#colorrgb = cl.to_rgb( colormap )\n",
    "#cLST = colormap[1]\n",
    "#cTST = colormap[3]\n",
    "#cHST = colormap[5]\n",
    "#cFST = colormap[7]\n",
    "\n",
    "cLST = 'rgb(220,213,166)' #colormap[1]\n",
    "cTST = 'rgb(161,206,146)' #colormap[3]\n",
    "cHST = 'rgb(72, 106,162)' #colormap[5]\n",
    "cFST = 'rgb(119,11,116)' #colormap[7]"
   ]
  },
  {
   "cell_type": "markdown",
   "metadata": {},
   "source": [
    "### Plot sea-level fluctuations"
   ]
  },
  {
   "cell_type": "code",
   "execution_count": null,
   "metadata": {},
   "outputs": [],
   "source": [
    "seafile = '/workspace/volume/Examples/delta/data/sea.csv'\n",
    "stime,sea = strata.viewSea(seafile)"
   ]
  },
  {
   "cell_type": "markdown",
   "metadata": {},
   "source": [
    "Based on the sea-level curve, we define a series of **system tracts** periods."
   ]
  },
  {
   "cell_type": "code",
   "execution_count": null,
   "metadata": {},
   "outputs": [],
   "source": [
    "LST1 = np.array([0,90000],dtype=int)\n",
    "TST1 = np.array([90000,160000],dtype=int)\n",
    "HST1 = np.array([160000,220000],dtype=int)\n",
    "FST1 = np.array([220000,340000],dtype=int)\n",
    "LST2 = np.array([340000,420000],dtype=int)\n",
    "TST2 = np.array([420000,500000],dtype=int)"
   ]
  },
  {
   "cell_type": "markdown",
   "metadata": {},
   "source": [
    "The simulation ran for 500,000 years and each sedimentary layer is produced every 2500 years which give us 200 layers. \n",
    "\n",
    "We can use the stratal mesh to retreive this information:"
   ]
  },
  {
   "cell_type": "code",
   "execution_count": null,
   "metadata": {},
   "outputs": [],
   "source": [
    "LST1 = LST1/2500\n",
    "TST1 = TST1/2500\n",
    "HST1 = HST1/2500\n",
    "FST1 = FST1/2500\n",
    "LST2 = LST2/2500\n",
    "TST2 = TST2/2500\n",
    "print('Number of layers recorded in the output :',strat.nz)"
   ]
  },
  {
   "cell_type": "markdown",
   "metadata": {},
   "source": [
    "We can now associate each layer to a given system tract by defining a specific color map:\n",
    "\n",
    "- HST / STcolor[2]\n",
    "- FST / STcolor[3]\n",
    "- LST / STcolor[0]\n",
    "- TST / STcolor[1]"
   ]
  },
  {
   "cell_type": "code",
   "execution_count": null,
   "metadata": {},
   "outputs": [],
   "source": [
    "STcolors = []\n",
    "for k in range(LST1[0],LST1[1]):\n",
    "    STcolors.append(cLST)\n",
    "for k in range(TST1[0],TST1[1]):\n",
    "    STcolors.append(cTST)\n",
    "for k in range(HST1[0],HST1[1]):\n",
    "    STcolors.append(cHST)\n",
    "for k in range(FST1[0],FST1[1]):\n",
    "    STcolors.append(cFST)\n",
    "for k in range(LST2[0],LST2[1]):\n",
    "    STcolors.append(cLST)\n",
    "for k in range(TST2[0],TST2[1]):\n",
    "    STcolors.append(cTST)"
   ]
  },
  {
   "cell_type": "markdown",
   "metadata": {},
   "source": [
    "Again we use **plotly** to visualise the cross-section and the associated system tracts:\n",
    "\n",
    "\n",
    "- LST = yellow\n",
    "- TST = green\n",
    "- HST = blue\n",
    "- FST = purple"
   ]
  },
  {
   "cell_type": "code",
   "execution_count": null,
   "metadata": {
    "collapsed": true
   },
   "outputs": [],
   "source": [
    "#help(strata.viewSectionST)"
   ]
  },
  {
   "cell_type": "code",
   "execution_count": null,
   "metadata": {},
   "outputs": [],
   "source": [
    "strata.viewSectionST(width = 1000, height = 600, cs=strat, colors=STcolors,\n",
    "                   rangeX=[2000,9000], rangeY=[-400,100], \n",
    "                   linesize=0.5, title='system tract cross-section')"
   ]
  },
  {
   "cell_type": "markdown",
   "metadata": {},
   "source": [
    "# Wheeler diagram\n",
    "\n"
   ]
  },
  {
   "cell_type": "markdown",
   "metadata": {},
   "source": [
    "It is also possible to plot a _wheeler_-like diagram of the fluvial to marine depositional sequence using the previous cross-section (dip oriented stratigraphic succession). For that we need to define depositional environment types such as:\n",
    "\n",
    "- meandering systems **MS**\n",
    "- braided systems **BS**\n",
    "- mouthbar / upper-delta front **UD**\n",
    "- lower delta front **LD**\n",
    "- shelf **S**\n",
    "\n",
    "For each of these systems we will define their elevations range (this is relative to sea-level):"
   ]
  },
  {
   "cell_type": "code",
   "execution_count": null,
   "metadata": {
    "collapsed": true
   },
   "outputs": [],
   "source": [
    "envi = []\n",
    "S = np.array([-100.,-60.])\n",
    "envi.append(S)\n",
    "LD = np.array([-60.,-30.])\n",
    "envi.append(LD)\n",
    "UD = np.array([-20.,-5.])\n",
    "envi.append(UD)\n",
    "MS = np.array([-5.,20.])\n",
    "envi.append(MS)\n",
    "BS = np.array([20.,100.])\n",
    "envi.append(BS)"
   ]
  },
  {
   "cell_type": "markdown",
   "metadata": {},
   "source": [
    "An associate a color value to each of them:"
   ]
  },
  {
   "cell_type": "code",
   "execution_count": null,
   "metadata": {},
   "outputs": [],
   "source": [
    "WHcolors = []\n",
    "cS = 'rgb(250,250,250)' # white\n",
    "WHcolors.append(cS)\n",
    "cLD = 'rgb(72, 106,162)' # blue\n",
    "WHcolors.append(cLD)\n",
    "cUD = 'rgb(158,202,225)' # light blue\n",
    "WHcolors.append(cUD)\n",
    "cMS = 'rgb(220,213,166)' # yellow\n",
    "WHcolors.append(cMS)\n",
    "cBS = 'rgb(133,193,143)' # green\n",
    "WHcolors.append(cBS)"
   ]
  },
  {
   "cell_type": "markdown",
   "metadata": {},
   "source": [
    "The wheeler diagram plot the extent of each of the depositional environments over time, which means that we need to define the time based on the simulation parameters. This is done by getting the following: \n",
    "- start time, \n",
    "- end time, and \n",
    "- the number of sedimentary layers."
   ]
  },
  {
   "cell_type": "code",
   "execution_count": null,
   "metadata": {
    "collapsed": true
   },
   "outputs": [],
   "source": [
    "times = np.linspace(0,500000,strat.nz)"
   ]
  },
  {
   "cell_type": "code",
   "execution_count": null,
   "metadata": {},
   "outputs": [],
   "source": [
    "strata.viewWheeler(width = 800, height = 800, cs = strat, time = times, colors = WHcolors, \n",
    "                    rangeE=envi, rangeX=[2000,9000], rangeY=[times[0],times[-1]], contourdx = 10,\n",
    "                    title = 'wheeler-type diagram')"
   ]
  },
  {
   "cell_type": "code",
   "execution_count": null,
   "metadata": {},
   "outputs": [],
   "source": []
  }
 ],
 "metadata": {
  "kernelspec": {
   "display_name": "Python 3",
   "language": "python",
   "name": "python3"
  },
  "language_info": {
   "codemirror_mode": {
    "name": "ipython",
    "version": 3
   },
   "file_extension": ".py",
   "mimetype": "text/x-python",
   "name": "python",
   "nbconvert_exporter": "python",
   "pygments_lexer": "ipython3",
   "version": "3.5.3"
  }
 },
 "nbformat": 4,
 "nbformat_minor": 1
}
