{
 "cells": [
  {
   "cell_type": "markdown",
   "metadata": {},
   "source": [
    "# Importing a sea-level curve\n",
    "\n",
    "To simulate the impact of sea level fluctuations through geological time, it is possible to import a description of sea level evolution within Badlands.\n",
    "\n",
    "The file (**CSV format**) provides for each line the following information:\n",
    "* Time in years,\n",
    "* Sea-level elevation for the considered time in meters.\n",
    "    \n",
    "In addition the defined fluctuation times should be set in **increasing order starting from the oldest time**.\n",
    "\n",
    "In this notebook we show how this could be done using a digitized version of the long-term **Haq curve** (*1987*) for the last 260 Ma."
   ]
  },
  {
   "cell_type": "code",
   "execution_count": null,
   "metadata": {},
   "outputs": [],
   "source": [
    "%matplotlib inline\n",
    "\n",
    "# Import badlands grid generation toolbox\n",
    "import badlands_companion.toolSea as tools\n",
    "\n",
    "# display plots in SVG format\n",
    "%config InlineBackend.figure_format = 'svg' "
   ]
  },
  {
   "cell_type": "markdown",
   "metadata": {},
   "source": [
    "The dataset provided are stored in the `data` folder. The data were digitized using Didger4 [software](http://www.goldensoftware.com/products/didger) and come from Haq (1987) [paper](http://www.mantleplumes.org/WebDocuments/Haq1987.pdf) by Dr Sabin Zahirovic.\n",
    "\n",
    "Didger used a copied from the PDF [paper](http://www.mantleplumes.org/WebDocuments/Haq1987.pdf) extracted from Adobe Photoshop (*300 dpi*). \n",
    "\n",
    "The figure width was then doubled (proportionally) and resolution was increased to 600 dpi to help Didger with interpolation accuracy.\n",
    "\n",
    "Then the figure was exported as **JPG** and *geo*referenced in Didger 4. \n",
    "\n",
    "Finally the curve was digitized as spline and exported as **DAT** file.\n",
    "\n",
    "The obtained dataset is formated as follow:\n",
    "* Column 1 = Sea Level (m)\n",
    "* Column 2 = Absolute Age (Ma)\n",
    "\n",
    "The digitization error is at best **-/+ 1 m** and up to **+/- 5 m**. \n",
    "\n",
    "`\n",
    "NOTE: Please be aware that the TIMESCALE has not been updated or changed. This is the original Haq et al. (1987) curve! For any detailed use and comparison, the timescales should be standardised. Refer to the paper for timescale information. \n",
    "`"
   ]
  },
  {
   "cell_type": "markdown",
   "metadata": {},
   "source": [
    "# 1. Load Haq curves\n",
    "\n",
    "First we define the path to the digitized Haq curve and the normalized one. We then initialise the `toolSea` python class."
   ]
  },
  {
   "cell_type": "code",
   "execution_count": null,
   "metadata": {},
   "outputs": [],
   "source": [
    "#help(tools.toolSea.__init__)"
   ]
  },
  {
   "cell_type": "code",
   "execution_count": null,
   "metadata": {},
   "outputs": [],
   "source": [
    "haq87 = 'data/Haq87_Longterm_Combined.dat'\n",
    "haq87N = 'data/Haq87_Longterm_Combined_Normalized.dat'\n",
    "\n",
    "#haq87_HR = 'data/Haq_87_SealevelCurve.dat'\n",
    "#haq87_HRF = 'data/Haq_87_SealevelCurve_filtered.dat'\n",
    "\n",
    "sea = tools.toolSea(curve1 = haq87, curve2 = haq87N)"
   ]
  },
  {
   "cell_type": "markdown",
   "metadata": {},
   "source": [
    "We then read the curves and define: \n",
    "\n",
    "1. the extent of the simulation curve based on the simulation start and end time,\n",
    "2. the discretisation timestep for curve fitting interpolation.\n",
    "\n",
    "It is worth noting that the dataset is expressed in Ma and that the time is positive going backward in time. "
   ]
  },
  {
   "cell_type": "code",
   "execution_count": null,
   "metadata": {},
   "outputs": [],
   "source": [
    "#help(sea.readCurve)"
   ]
  },
  {
   "cell_type": "code",
   "execution_count": null,
   "metadata": {},
   "outputs": [],
   "source": [
    "sea.readCurve(timeMax=180, timeMin=80, dt = 0.05)"
   ]
  },
  {
   "cell_type": "markdown",
   "metadata": {},
   "source": [
    "# 2. Plot sea level curves\n",
    "\n",
    "We make 2 subplots of sea-level fluctuations for the digitized dataset. \n",
    "1. The left one represents the entire data for both the Haq and normalized curves. \n",
    "2. The right one represents the curves for around the simulation time."
   ]
  },
  {
   "cell_type": "code",
   "execution_count": null,
   "metadata": {},
   "outputs": [],
   "source": [
    "#help(sea.plotCurves)"
   ]
  },
  {
   "cell_type": "code",
   "execution_count": null,
   "metadata": {},
   "outputs": [],
   "source": [
    "sea.plotCurves(fsize=(8,8), saveFig = False, figName = 'sealevel')"
   ]
  },
  {
   "cell_type": "markdown",
   "metadata": {},
   "source": [
    "# 3. Export dataset\n",
    "\n",
    "We then choose the zoomed normalised Haq curve to create the sea level fluctuations **CSV** file for the simulation. The *exportCurve* function transform the Time data from Ma to a using the **factor** parameter."
   ]
  },
  {
   "cell_type": "code",
   "execution_count": null,
   "metadata": {},
   "outputs": [],
   "source": [
    "#help(sea.exportCurve)"
   ]
  },
  {
   "cell_type": "code",
   "execution_count": null,
   "metadata": {},
   "outputs": [],
   "source": [
    "sea.exportCurve(curve='HaqNorm', factor=1.e6, nameCSV='sea')"
   ]
  },
  {
   "cell_type": "code",
   "execution_count": null,
   "metadata": {},
   "outputs": [],
   "source": []
  }
 ],
 "metadata": {
  "kernelspec": {
   "display_name": "Python 3",
   "language": "python",
   "name": "python3"
  },
  "language_info": {
   "codemirror_mode": {
    "name": "ipython",
    "version": 3
   },
   "file_extension": ".py",
   "mimetype": "text/x-python",
   "name": "python",
   "nbconvert_exporter": "python",
   "pygments_lexer": "ipython3",
   "version": "3.5.3"
  }
 },
 "nbformat": 4,
 "nbformat_minor": 1
}
