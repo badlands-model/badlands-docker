{
 "cells": [
  {
   "cell_type": "markdown",
   "metadata": {},
   "source": [
    "# Stratigraphic evolution of a passive continental margin influenced by dynamic topography \n",
    "\n",
    "In this example, we investigate the stratigraphic evolution of a passive continental margin under _sea-level fluctuations_, _thermal subsidence_ and _dynamic topography_ (transient uplift and subsidence). Dynamic topography is the surface expression of the deep Earth mantle convection, and could be recorded in sedimentary layers when it interacts with surface processes. However, its low amplitude and long wavelength make it diffucult to be extracted from geological recordes. Our goal here is to set up a work-flow of building a forward stratigraphic modelling framework, to quantify the influence of dynamic topography on the development of stratal architecture at a passive continental margin. \n",
    "\n",
    "The initial surface is 300 km by 200 km with the space resolution of 1.0 km (a higher resolution could be 0.5 km). It includes a flat plateau, a gently-sloping continental plain and a continental margin consisting of a continetal shelf, a slope and a basin floor.  \n",
    "\n",
    "<img src=\"images/Geometry.png\" alt=\"Initial surface\"  width=\"600\" height=\"400\" border=\"10\" />\n",
    "\n",
    "See specific parameters in the table below:\n",
    "\n",
    "|   | Plateau | Plain | Continental shelf | Continental slope | Oean floor|\n",
    "| :-----------: |:-----------:|:-----------:|:-----------:|:-----------:|:-----------:|\n",
    "|Width/km| 100 | 50 | 100 | 30 | 20 |\n",
    "|Elevation/m| 200~1000 | 0~200 | -250~0 | -1000~-250 | -1000|\n",
    "|Slope| 0.008 | 0.004 | 0.0025 | 0.025 | 0.0 |\n",
    "\n",
    "The sea-level is simply modelled using a sin. curve. The shape of dynamic topogrpahy is also described by a sin. curve. In this model, we define the amplitude of the dynamic topography 100 meters, the wavelength 200 km, and the velocity 0.05 m/yr. A uniform precipitation rate of 1 m/a is applied to the whole area and we test the evolution of the surface and associated deposits due to both hillslope and channel flow. The erodibility coefficient of 2.0$\\cdot e^{-7}$ is uniform spatially. Two diffusion coefficients are defined for the aerial (0.01 $m^2/a$) and marine (0.05 $m^2/a$) environments. The higher value for the marine environment is used to account for sediments reworking by waves and/or currents. The simulation runs for 10 Myr, with the timestep of 100000 yr."
   ]
  },
  {
   "cell_type": "code",
   "execution_count": null,
   "metadata": {},
   "outputs": [],
   "source": [
    "%matplotlib inline\n",
    "\n",
    "# Import badlands dynamic topography generation toolbox\n",
    "import badlands_companion.toolDynTopo as dispDT\n",
    "\n",
    "# display plots in SVG format\n",
    "%config InlineBackend.figure_format = 'svg'"
   ]
  },
  {
   "cell_type": "markdown",
   "metadata": {},
   "source": [
    "# Creating dynamic topography waves"
   ]
  },
  {
   "cell_type": "markdown",
   "metadata": {},
   "source": [
    "We use a Sine function to describe the dynamic topogrpahy:\n",
    "\n",
    "$$ z(x) = A \\cdot sin(\\pi \\cdot (x-\\nu t) / \\lambda) $$\n",
    "\n",
    "- $z_0$  amplitude\n",
    "- $\\nu$  velocity\n",
    "- $t$  time\n",
    "- $\\lambda$  wavelength"
   ]
  },
  {
   "cell_type": "code",
   "execution_count": null,
   "metadata": {},
   "outputs": [],
   "source": [
    "#help(dispDT.toolDynTopo.__init__)"
   ]
  },
  {
   "cell_type": "markdown",
   "metadata": {},
   "source": [
    "**Note**: you will need to create the folder where you want to store your tectonic file for this notebook to work. In the following case you will have to build the folder 'data/tectonicY'. It can be done by running the uncommented command (_i.e._ deleting the **#** key in front of the line) in the following cell:"
   ]
  },
  {
   "cell_type": "code",
   "execution_count": null,
   "metadata": {},
   "outputs": [],
   "source": [
    "#!mkdir data/tectonicY"
   ]
  },
  {
   "cell_type": "code",
   "execution_count": null,
   "metadata": {},
   "outputs": [],
   "source": [
    "dyntopo = dispDT.toolDynTopo(extentX=[0,300000], extentY=[0,200000], dx=1000, filename='data/tectonicY/disp')"
   ]
  },
  {
   "cell_type": "markdown",
   "metadata": {},
   "source": [
    "## Generate and export the displacement files\n",
    "\n",
    "**Note:** Nodes are defined in increasing order from the South/West corner, first along the X axis."
   ]
  },
  {
   "cell_type": "code",
   "execution_count": null,
   "metadata": {},
   "outputs": [],
   "source": [
    "#help(dispDT.waveDT)"
   ]
  },
  {
   "cell_type": "code",
   "execution_count": null,
   "metadata": {},
   "outputs": [],
   "source": [
    "dispTimeStep=20000\n",
    "endTime=10000000  # 10 Myr\n",
    "dyntopo.waveDT(A=100, L=200000, V=0.05, endTime=endTime, dispTimeStep=dispTimeStep, axis='Y')"
   ]
  },
  {
   "cell_type": "markdown",
   "metadata": {},
   "source": [
    " ## Write the tectonic section for the XML input file\n",
    " \n",
    " You can then copy it in your XML file."
   ]
  },
  {
   "cell_type": "code",
   "execution_count": null,
   "metadata": {},
   "outputs": [],
   "source": [
    "for k in range(0,dyntopo.stepNb):\n",
    "    print(\"<disp>\")\n",
    "    print(\"    <dstart>\"+str(k*dispTimeStep)+\"</dstart>\")\n",
    "    print(\"    <dend>\"+str((k+1)*dispTimeStep)+\"</dend>\")\n",
    "    print(\"    <dfile>\"+dyntopo.filename+str(k)+\".csv</dfile>\")\n",
    "    print(\"</disp>\")"
   ]
  },
  {
   "cell_type": "code",
   "execution_count": null,
   "metadata": {},
   "outputs": [],
   "source": []
  }
 ],
 "metadata": {
  "kernelspec": {
   "display_name": "Python 3",
   "language": "python",
   "name": "python3"
  },
  "language_info": {
   "codemirror_mode": {
    "name": "ipython",
    "version": 3
   },
   "file_extension": ".py",
   "mimetype": "text/x-python",
   "name": "python",
   "nbconvert_exporter": "python",
   "pygments_lexer": "ipython3",
   "version": "3.5.3"
  }
 },
 "nbformat": 4,
 "nbformat_minor": 1
}
