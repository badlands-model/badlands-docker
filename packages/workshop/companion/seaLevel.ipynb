{
 "cells": [
  {
   "cell_type": "markdown",
   "metadata": {},
   "source": [
    "# Building your own sea-level curve\n",
    "\n",
    "To simulate the impact of sea level fluctuations through geological time, it is possible to import a description of sea level evolution within Badlands.\n",
    "\n",
    "The file (**CSV format**) provides for each line the following information:\n",
    "* Time in years,\n",
    "* Sea-level elevation for the considered time in meters.\n",
    "    \n",
    "In addition the defined fluctuation times should be set in **increasing order starting from the oldest time**.\n",
    "\n",
    "In this notebook we show how you can create a sea level curve from scratch."
   ]
  },
  {
   "cell_type": "code",
   "execution_count": null,
   "metadata": {},
   "outputs": [],
   "source": [
    "%matplotlib inline\n",
    "\n",
    "# Import badlands grid generation toolbox\n",
    "import badlands_companion.toolSea as tools\n",
    "\n",
    "# display plots in SVG format\n",
    "%config InlineBackend.figure_format = 'svg' "
   ]
  },
  {
   "cell_type": "markdown",
   "metadata": {},
   "source": [
    "First we initialize the `toolSea` python class. "
   ]
  },
  {
   "cell_type": "code",
   "execution_count": null,
   "metadata": {},
   "outputs": [],
   "source": [
    "#help(tools.toolSea.__init__)"
   ]
  },
  {
   "cell_type": "code",
   "execution_count": null,
   "metadata": {},
   "outputs": [],
   "source": [
    "sea = tools.toolSea()"
   ]
  },
  {
   "cell_type": "markdown",
   "metadata": {},
   "source": [
    "# 1. Creating the curve\n",
    "\n",
    "To build the curve you need to provide the following parameters:\n",
    "\n",
    "+ the extent of the simulation time: start/end time (in years)\n",
    "+ the discretisation timestep for sampling the sea level curve (in years)\n",
    "+ the averaged sea level value for starting and ending times (in metres)\n",
    "+ the averaged amplitude of the sea level wave for starting and ending times (in metres)\n",
    "+ the averaged period of the sea level wave for starting and ending times (in years)\n",
    "\n",
    "With the following information a simple curve is created which interpolate linearly the averaged values of sea-level trends over the specified time period.\n",
    "\n",
    "For further information about this function uncomment the next cell."
   ]
  },
  {
   "cell_type": "code",
   "execution_count": null,
   "metadata": {},
   "outputs": [],
   "source": [
    "#help(sea.buildCurve)"
   ]
  },
  {
   "cell_type": "code",
   "execution_count": null,
   "metadata": {},
   "outputs": [],
   "source": [
    "sea.buildCurve(timeExt = [-10000.,50000.], timeStep = 100., seaExt = [-100.,100.], \n",
    "                   ampExt = [20.,100.], periodExt = [10000.,4000.])"
   ]
  },
  {
   "cell_type": "markdown",
   "metadata": {},
   "source": [
    "# 2. Plot sea level curves\n",
    "\n",
    "We use **plotly** to visualise our newly created sea level curve."
   ]
  },
  {
   "cell_type": "code",
   "execution_count": null,
   "metadata": {},
   "outputs": [],
   "source": [
    "#help(sea.plotCurves)"
   ]
  },
  {
   "cell_type": "code",
   "execution_count": null,
   "metadata": {},
   "outputs": [],
   "source": [
    "sea.plotCurves(fsize=(6,8), figName = 'Sea level')"
   ]
  },
  {
   "cell_type": "markdown",
   "metadata": {},
   "source": [
    "# 3. Export dataset\n",
    "\n",
    "We then choose the zoomed normalised Haq curve to create the sea level fluctuations **CSV** file for the simulation."
   ]
  },
  {
   "cell_type": "code",
   "execution_count": null,
   "metadata": {},
   "outputs": [],
   "source": [
    "#help(sea.exportCurve)"
   ]
  },
  {
   "cell_type": "code",
   "execution_count": null,
   "metadata": {},
   "outputs": [],
   "source": [
    "sea.exportCurve(nameCSV='myCurve')"
   ]
  },
  {
   "cell_type": "code",
   "execution_count": null,
   "metadata": {},
   "outputs": [],
   "source": []
  }
 ],
 "metadata": {
  "kernelspec": {
   "display_name": "Python 3",
   "language": "python",
   "name": "python3"
  },
  "language_info": {
   "codemirror_mode": {
    "name": "ipython",
    "version": 3
   },
   "file_extension": ".py",
   "mimetype": "text/x-python",
   "name": "python",
   "nbconvert_exporter": "python",
   "pygments_lexer": "ipython3",
   "version": "3.5.3"
  }
 },
 "nbformat": 4,
 "nbformat_minor": 1
}
