{
 "cells": [
  {
   "cell_type": "markdown",
   "metadata": {},
   "source": [
    "# Build a later thickness grid\n",
    "\n",
    "We set the dimension of the map based on the requested dimension from **Badlands XmL** input file."
   ]
  },
  {
   "cell_type": "code",
   "execution_count": null,
   "metadata": {},
   "outputs": [],
   "source": [
    "%matplotlib inline\n",
    "\n",
    "import numpy as np\n",
    "import pandas as pd\n",
    "import matplotlib.pyplot as plt"
   ]
  },
  {
   "cell_type": "markdown",
   "metadata": {},
   "source": [
    "## Reading surface file"
   ]
  },
  {
   "cell_type": "code",
   "execution_count": null,
   "metadata": {},
   "outputs": [],
   "source": [
    "xyzfile = '/live/badlands-workshop/examples/delta/data/deltaHR.csv'\n",
    "xyz = pd.read_csv(xyzfile, sep=r'\\s+', engine='c', header=None, \n",
    "                  na_filter=False, dtype=np.float, low_memory=False)\n",
    "\n",
    "xr = xyz.values[:,0]\n",
    "yr = xyz.values[:,0]\n",
    "dx = xr[1]-xr[0]\n",
    "\n",
    "nx = int((xr[-1]-xr[0])/dx)+1\n",
    "ny = int((yr[-1]-yr[0])/dx)+1\n",
    "\n",
    "assert nx*ny==len(xr), 'Values not matching'\n",
    "\n",
    "xm = xr.reshape((nx,ny),order='F')\n",
    "ym = yr.reshape((nx,ny))\n",
    "print(nx,ny)"
   ]
  },
  {
   "cell_type": "markdown",
   "metadata": {},
   "source": [
    "## Creating one thickness, one rock type layer"
   ]
  },
  {
   "cell_type": "code",
   "execution_count": null,
   "metadata": {},
   "outputs": [],
   "source": [
    "layth = 250.\n",
    "rockID = 0\n",
    "\n",
    "th = np.zeros(len(xr),dtype=float)\n",
    "rock = np.zeros(len(xr),dtype=int)\n",
    "\n",
    "th.fill(layth)\n",
    "rock.fill(rockID)\n",
    "\n",
    "df = pd.DataFrame({'th':th,'rock':rock})\n",
    "df.to_csv('data/thlay0.csv',columns=['th','rock'], sep=' ', index=False ,header=0)"
   ]
  },
  {
   "cell_type": "markdown",
   "metadata": {},
   "source": [
    "## Creating one thickness, multiple rock types layer"
   ]
  },
  {
   "cell_type": "code",
   "execution_count": null,
   "metadata": {},
   "outputs": [],
   "source": [
    "layth = 250.\n",
    "\n",
    "th = np.zeros(len(xr),dtype=float)\n",
    "th.fill(layth)\n",
    "\n",
    "rock = np.zeros((nx,ny),dtype=int)\n",
    "\n",
    "rock[:240,:] = 0\n",
    "rock[240:,:] = 1\n",
    "#rock[:,240:] = 3\n",
    "\n",
    "df = pd.DataFrame({'th':th,'rock':rock.flatten(order='F')})\n",
    "df.to_csv('data/thlay1.csv',columns=['th','rock'], sep=' ', index=False ,header=0)"
   ]
  },
  {
   "cell_type": "code",
   "execution_count": null,
   "metadata": {},
   "outputs": [],
   "source": [
    "plt.pcolor(xm, ym, rock, cmap='RdBu_r', vmin=rock.min(), vmax=rock.max())\n",
    "# set the limits of the plot to the limits of the data\n",
    "plt.axis([xm.min(), xm.max(), ym.min(), ym.max()])\n",
    "plt.colorbar()"
   ]
  },
  {
   "cell_type": "markdown",
   "metadata": {},
   "source": [
    "## Creating variable thickness, one rock type layer"
   ]
  },
  {
   "cell_type": "code",
   "execution_count": null,
   "metadata": {},
   "outputs": [],
   "source": [
    "th = np.zeros((nx,ny),dtype=float)\n",
    "\n",
    "tmpth = np.zeros(nx)\n",
    "tmpx = xm[:,0]\n",
    "tmpth = 100. * np.sin( 2.* np.pi * (tmpx - 8500) / 22000) + 30.\n",
    "tmpth[tmpth<30.] = 30.\n",
    "\n",
    "th = np.array([tmpth,]*ny)\n",
    "\n",
    "rockID = 0\n",
    "rock = np.zeros(len(xr),dtype=int)\n",
    "rock.fill(rockID)\n",
    "\n",
    "df = pd.DataFrame({'th':th.flatten(order='F'),'rock':rock})\n",
    "df.to_csv('data/thlay1.csv',columns=['th','rock'], sep=' ', index=False ,header=0)"
   ]
  },
  {
   "cell_type": "code",
   "execution_count": null,
   "metadata": {},
   "outputs": [],
   "source": [
    "plt.pcolor(xm, ym, th, cmap='RdBu_r', vmin=th.min(), vmax=th.max())\n",
    "# set the limits of the plot to the limits of the data\n",
    "plt.axis([xm.min(), xm.max(), ym.min(), ym.max()])\n",
    "plt.colorbar()"
   ]
  },
  {
   "cell_type": "code",
   "execution_count": null,
   "metadata": {},
   "outputs": [],
   "source": []
  }
 ],
 "metadata": {
  "kernelspec": {
   "display_name": "Python 3",
   "language": "python",
   "name": "python3"
  },
  "language_info": {
   "codemirror_mode": {
    "name": "ipython",
    "version": 3
   },
   "file_extension": ".py",
   "mimetype": "text/x-python",
   "name": "python",
   "nbconvert_exporter": "python",
   "pygments_lexer": "ipython3",
   "version": "3.5.3"
  }
 },
 "nbformat": 4,
 "nbformat_minor": 1
}
