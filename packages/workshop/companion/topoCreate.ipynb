{
 "cells": [
  {
   "cell_type": "markdown",
   "metadata": {},
   "source": [
    "# Simple topographic grid generation\n",
    "\n",
    "In this notebook, we will see how to generate a regular topographic grid for generic cases based on 3 simple geometrical forms:\n",
    "+ [a regular slope](#2.-Constant-slope)\n",
    "+ [a sine wave](#3.-Sine-surface) \n",
    "+ [a dome](#4.-Half-ellipsoid-surface)\n",
    "\n",
    "**\n",
    "Combining these simple forms it is possible to create some complex geometries that will have the desired format for running a badlands simulation.\n",
    "**\n",
    "\n",
    "Badlands imports a regular grid that is later triangularized and used to compute erosion and deposition induced by a combination of climate, tectonics and sea-level changes."
   ]
  },
  {
   "cell_type": "code",
   "execution_count": null,
   "metadata": {},
   "outputs": [],
   "source": [
    "%matplotlib inline\n",
    "\n",
    "# Import badlands grid generation toolbox\n",
    "import badlands_companion.toolGeo as simple\n",
    "\n",
    "# display plots in SVG format\n",
    "%config InlineBackend.figure_format = 'svg' "
   ]
  },
  {
   "cell_type": "markdown",
   "metadata": {},
   "source": [
    "# 1. Building a regular surface\n",
    "\n",
    "We first initialize the extent of the simulation area.\n",
    "\n",
    "The function takes 3 arguments:\n",
    "+ the extent of the domain along the X-axis [xmin,xmax] in metres,\n",
    "+ the extent of the domain along the Y-axis [ymin,ymax] in metres,\n",
    "+ the grid spacing `dx` in metres.\n",
    "\n",
    "For more information regarding the function uncomment the following cell."
   ]
  },
  {
   "cell_type": "code",
   "execution_count": null,
   "metadata": {},
   "outputs": [],
   "source": [
    "#help(simple.toolGeo.__init__)"
   ]
  },
  {
   "cell_type": "code",
   "execution_count": null,
   "metadata": {},
   "outputs": [],
   "source": [
    "slope = simple.toolGeo(extentX=[0.,100000.], extentY=[0.,100000.], dx=1000.)"
   ]
  },
  {
   "cell_type": "code",
   "execution_count": null,
   "metadata": {},
   "outputs": [],
   "source": [
    "slope.Z = slope.buildSlope(base=100.,slope=0.0, axis='X')"
   ]
  },
  {
   "cell_type": "code",
   "execution_count": null,
   "metadata": {},
   "outputs": [],
   "source": [
    "import numpy as np\n",
    "\n",
    "rdd = np.random.rand(slope.Z.shape[0],slope.Z.shape[1])"
   ]
  },
  {
   "cell_type": "code",
   "execution_count": null,
   "metadata": {},
   "outputs": [],
   "source": [
    "slope.buildGrid(elevation=slope.Z+rdd, nameCSV='xyz')"
   ]
  },
  {
   "cell_type": "markdown",
   "metadata": {},
   "source": [
    "# 2. Constant slope\n",
    "\n",
    "The slope function takes 3 parameters:\n",
    "+ the initial base of the elevation in metres,\n",
    "+ the slope (as dz/dx)\n",
    "+ the direction of the slope: either along the X or Y axis\n",
    "\n",
    "For more information regarding the function uncomment the following cell."
   ]
  },
  {
   "cell_type": "code",
   "execution_count": null,
   "metadata": {},
   "outputs": [],
   "source": [
    "#help(slope.buildSlope)"
   ]
  },
  {
   "cell_type": "code",
   "execution_count": null,
   "metadata": {},
   "outputs": [],
   "source": [
    "slope.Z = slope.buildSlope(base=100.,slope=0.0, axis='X')"
   ]
  },
  {
   "cell_type": "markdown",
   "metadata": {},
   "source": [
    "It is possible to have a look at the grid surface using **plotly** library before proceeding to the creation of the badlands surface."
   ]
  },
  {
   "cell_type": "code",
   "execution_count": null,
   "metadata": {},
   "outputs": [],
   "source": [
    "#help(slope.viewGrid)"
   ]
  },
  {
   "cell_type": "code",
   "execution_count": null,
   "metadata": {},
   "outputs": [],
   "source": [
    "slope.viewGrid(width=600, height=600, zmin=-1000, zmax=1000, zData=slope.Z, title='Export Slope Grid')"
   ]
  },
  {
   "cell_type": "markdown",
   "metadata": {},
   "source": [
    "Once the surface has been generated, we export a **CSV** regular grid that will be loaded in the simulation. The file provides for each line the following information:\n",
    "+ X coordinates in meters (this axis has a West to East orientation),\n",
    "+ Y coordinates in meters (this axis has a South to West orientation), \n",
    "+ Z coordinates in meters.\n",
    "\n",
    "**Note:** Nodes must be defined in increasing order from the South/West corner, first along the X axis.\n",
    "\n",
    "The `buildGrid` function takes the return elevation from the `buildSlope` function and creates the badlands grid in the appropriate format.\n",
    "\n",
    "For more information regarding the function uncomment the following cell."
   ]
  },
  {
   "cell_type": "code",
   "execution_count": null,
   "metadata": {},
   "outputs": [],
   "source": [
    "#help(slope.buildGrid)"
   ]
  },
  {
   "cell_type": "code",
   "execution_count": null,
   "metadata": {},
   "outputs": [],
   "source": [
    "slope.buildGrid(elevation=slope.Z, nameCSV='nodes-coarse.csv')"
   ]
  },
  {
   "cell_type": "markdown",
   "metadata": {},
   "source": [
    "# 3. Sine surface\n",
    "\n",
    "Now, we move to another surface generation model based on a cosine wave. \n",
    "\n",
    "Here again, we first initialize the extent of the simulation area.\n",
    "\n",
    "The function takes 3 arguments:\n",
    "+ the extent of the domain along the X-axis [xmin,xmax] in metres,\n",
    "+ the extent of the domain along the Y-axis [ymin,ymax] in metres,\n",
    "+ the grid spacing `dx` in metres.\n",
    "\n",
    "For more information regarding the function uncomment the following cell."
   ]
  },
  {
   "cell_type": "code",
   "execution_count": null,
   "metadata": {},
   "outputs": [],
   "source": [
    "#help(simple.toolGeo.__init__)"
   ]
  },
  {
   "cell_type": "code",
   "execution_count": null,
   "metadata": {},
   "outputs": [],
   "source": [
    "wave = simple.toolGeo(extentX=[0.,50000.], extentY=[0.,50000.], dx=100.)"
   ]
  },
  {
   "cell_type": "markdown",
   "metadata": {},
   "source": [
    "We create a wave by defining 3 parameters:\n",
    "\n",
    "+ the amplitude of the wave: A in metres,\n",
    "+ the period of the wave: P in metres,\n",
    "+ the baselevel of the simulatin grid,\n",
    "+ the center of the wave along the X-axis.\n",
    "\n",
    "For more information regarding the function uncomment the following cell."
   ]
  },
  {
   "cell_type": "code",
   "execution_count": null,
   "metadata": {},
   "outputs": [],
   "source": [
    "#help(wave.buildWave)"
   ]
  },
  {
   "cell_type": "code",
   "execution_count": null,
   "metadata": {},
   "outputs": [],
   "source": [
    "wave.Z = wave.buildWave(A=250., P=20000., base=100., xcenter=25000.)"
   ]
  },
  {
   "cell_type": "markdown",
   "metadata": {},
   "source": [
    "It is possible to have a look at the grid surface using **plotly** library before proceeding to the creation of the badlands surface."
   ]
  },
  {
   "cell_type": "code",
   "execution_count": null,
   "metadata": {},
   "outputs": [],
   "source": [
    "#help(wave.viewGrid)"
   ]
  },
  {
   "cell_type": "code",
   "execution_count": null,
   "metadata": {},
   "outputs": [],
   "source": [
    "wave.viewGrid(width=600, height=600, zmin=-1000, zmax=1000, zData=wave.Z, title='Export Wave Grid')"
   ]
  },
  {
   "cell_type": "markdown",
   "metadata": {},
   "source": [
    "Once the surface has been generated, we export a **CSV** regular grid that will be loaded in the simulation. The file provides for each line the following information:\n",
    "+ X coordinates in meters (this axis has a West to East orientation),\n",
    "+ Y coordinates in meters (this axis has a South to West orientation), \n",
    "+ Z coordinates in meters.\n",
    "\n",
    "**Note:** Nodes must be defined in increasing order from the South/West corner, first along the X axis.\n",
    "\n",
    "The `buildGrid` function takes the return elevation from the `buildWave` function and creates the badlands grid in the appropriate format.\n",
    "\n",
    "For more information regarding the function uncomment the following cell."
   ]
  },
  {
   "cell_type": "code",
   "execution_count": null,
   "metadata": {},
   "outputs": [],
   "source": [
    "#help(wave.buildGrid)"
   ]
  },
  {
   "cell_type": "code",
   "execution_count": null,
   "metadata": {},
   "outputs": [],
   "source": [
    "wave.buildGrid(elevation=wave.Z, nameCSV='xyz')"
   ]
  },
  {
   "cell_type": "markdown",
   "metadata": {},
   "source": [
    "# 4. Half-ellipsoid surface\n",
    "\n",
    "The last example show how to create a half-ellipsoid (**dome**-shape) surface. The ellipsoid equation center on ($x_o,y_o,z_o$) is of the form:\n",
    "\n",
    "$$ \\frac{(x-x_o)^2}{a^2} + \\frac{(y-y_o)^2}{b^2} + \\frac{(z-z_o)^2}{c^2} = 1 $$\n",
    "\n",
    "where $a,b,c$ are strictly positives and equal to the lenght of the ellipsoid half axes.\n",
    "\n",
    "Here again, we first initialize the extent of the simulation area.\n",
    "\n",
    "The function takes 3 arguments:\n",
    "+ the extent of the domain along the X-axis [xmin,xmax] in metres,\n",
    "+ the extent of the domain along the Y-axis [ymin,ymax] in metres,\n",
    "+ the grid spacing `dx` in metres.\n",
    "\n",
    "For more information regarding the function uncomment the following cell."
   ]
  },
  {
   "cell_type": "code",
   "execution_count": null,
   "metadata": {},
   "outputs": [],
   "source": [
    "#help(simple.toolGeo.__init__)"
   ]
  },
  {
   "cell_type": "code",
   "execution_count": null,
   "metadata": {},
   "outputs": [],
   "source": [
    "dome = simple.toolGeo(extentX=[0.,50000.], extentY=[0.,50000.], dx=100.)"
   ]
  },
  {
   "cell_type": "markdown",
   "metadata": {},
   "source": [
    "We create the dome wave by defining 6 parameters:\n",
    "\n",
    "+ the ellipsoif half axes: {a,b,c} in metres,\n",
    "+ the baselevel of the simulatin grid ($z_o$) in metres,\n",
    "+ the center of the dome {x,y} coordinates in metres.\n",
    "\n",
    "\n",
    "The function `buildDome` solves for the given parameters the following equation for the elevation:\n",
    "\n",
    "$$ z = z_o + c \\sqrt{1 - \\frac{(x-x_o)^2}{a^2} -\\frac{(y-y_o)^2}{b^2} } $$\n",
    "\n",
    "For more information regarding the function uncomment the following cell.\n"
   ]
  },
  {
   "cell_type": "code",
   "execution_count": null,
   "metadata": {},
   "outputs": [],
   "source": [
    "#help(dome.buildDome)"
   ]
  },
  {
   "cell_type": "code",
   "execution_count": null,
   "metadata": {},
   "outputs": [],
   "source": [
    "dome.Z = dome.buildDome(a=10000., b=20000., c=500., base=100., xcenter=25000., ycenter=25000.)"
   ]
  },
  {
   "cell_type": "markdown",
   "metadata": {},
   "source": [
    "It is possible to have a look at the grid surface using plotly library before proceeding to the creation of the badlands surface."
   ]
  },
  {
   "cell_type": "code",
   "execution_count": null,
   "metadata": {},
   "outputs": [],
   "source": [
    "#help(dome.viewGrid)"
   ]
  },
  {
   "cell_type": "code",
   "execution_count": null,
   "metadata": {},
   "outputs": [],
   "source": [
    "dome.viewGrid(width=600, height=600, zmin=-1000, zmax=1000, zData=dome.Z, title='Export Dome Grid')"
   ]
  },
  {
   "cell_type": "markdown",
   "metadata": {},
   "source": [
    "Once the surface has been generated, we export a **CSV** regular grid that will be loaded in the simulation. The file provides for each line the following information:\n",
    "+ X coordinates in meters (this axis has a West to East orientation),\n",
    "+ Y coordinates in meters (this axis has a South to West orientation), \n",
    "+ Z coordinates in meters.\n",
    "\n",
    "**Note:** Nodes must be defined in increasing order from the South/West corner, first along the X axis.\n",
    "\n",
    "The `buildGrid` function takes the return elevation from the `buildDome` function and creates the badlands grid in the appropriate format.\n",
    "\n",
    "For more information regarding the function uncomment the following cell."
   ]
  },
  {
   "cell_type": "code",
   "execution_count": null,
   "metadata": {},
   "outputs": [],
   "source": [
    "#help(dome.buildGrid)"
   ]
  },
  {
   "cell_type": "code",
   "execution_count": null,
   "metadata": {},
   "outputs": [],
   "source": [
    "dome.buildGrid(elevation=dome.Z, nameCSV='xyz')"
   ]
  },
  {
   "cell_type": "code",
   "execution_count": null,
   "metadata": {},
   "outputs": [],
   "source": []
  }
 ],
 "metadata": {
  "kernelspec": {
   "display_name": "Python 3",
   "language": "python",
   "name": "python3"
  },
  "language_info": {
   "codemirror_mode": {
    "name": "ipython",
    "version": 3
   },
   "file_extension": ".py",
   "mimetype": "text/x-python",
   "name": "python",
   "nbconvert_exporter": "python",
   "pygments_lexer": "ipython3",
   "version": "3.5.3"
  }
 },
 "nbformat": 4,
 "nbformat_minor": 1
}
