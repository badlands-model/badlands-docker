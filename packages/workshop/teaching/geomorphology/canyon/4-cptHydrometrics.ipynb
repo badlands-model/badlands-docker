{
 "cells": [
  {
   "cell_type": "markdown",
   "metadata": {},
   "source": [
    "# Hydrometrics\n",
    "\n",
    "In this notebook, we show how to compute several **hydrometics parameters** based on stream network produced from  model. The analysis relies on the `flow` files (*i.e.* stream) found in Badlands outputs. If you are interested in looking at morphometrics and stratigraphic analysis there are other notebooks specially designed for that in the **Badlands companion** repository.\n",
    "\n",
    "**Hydrometrics** here refers only to quantitative description and analysis of water surface and we don't consider groundwater analysis. We will show how you can extract a particular catchment from a given model and compute for this particular catchment a series of paramters such as:\n",
    "\n",
    "- **river profile** evolution based on main stream elevation and distance to outlet,\n",
    "- **peclet number** distribution which evaluates the dominant processes shaping the landscape,\n",
    "- $\\chi$ **parameter** that characterizes rivers system evolution based on terrain steepness and the arrangement of tributaries,\n",
    "- **discharge** profiles "
   ]
  },
  {
   "cell_type": "code",
   "execution_count": null,
   "metadata": {},
   "outputs": [],
   "source": [
    "%matplotlib inline\n",
    "\n",
    "import numpy as np\n",
    "from matplotlib import cm\n",
    "\n",
    "# Import badlands grid generation toolbox\n",
    "import badlands_companion.hydroGrid as hydr\n",
    "\n",
    "# display plots in SVG format\n",
    "%config InlineBackend.figure_format = 'svg' "
   ]
  },
  {
   "cell_type": "markdown",
   "metadata": {
    "collapsed": true
   },
   "source": [
    "# 1. Load catchments parameters\n",
    "\n",
    "We first have to define the path to the Badlands outputs we want to analyse.\n",
    "\n",
    "We then need to provide a point coordinates (X,Y) contained in the catchment of interest. This point doesn't need to be the outlet of the catchment. \n",
    "\n",
    "For more information regarding the function uncomment the following line."
   ]
  },
  {
   "cell_type": "code",
   "execution_count": null,
   "metadata": {},
   "outputs": [],
   "source": [
    "#help(hydr.hydroGrid.__init__)"
   ]
  },
  {
   "cell_type": "code",
   "execution_count": null,
   "metadata": {},
   "outputs": [],
   "source": [
    "hydro = hydr.hydroGrid(folder='output/h5', ptXY = [236531,4.00034e+06])"
   ]
  },
  {
   "cell_type": "markdown",
   "metadata": {},
   "source": [
    "# 2. Extract particular catchment dataset\n",
    "\n",
    "We now extract the data from a particular time step (`timestep`) and for the catchment of interest, which contained the point specified in previous function.\n",
    "\n",
    "**Note**\n",
    "\n",
    "If you are interested in making some hydrometric comparisons between different time steps you can create multiple instances of the hydrometrics python class each of them associated to a given time step."
   ]
  },
  {
   "cell_type": "code",
   "execution_count": null,
   "metadata": {},
   "outputs": [],
   "source": [
    "#help(hydro.getCatchment)"
   ]
  },
  {
   "cell_type": "code",
   "execution_count": null,
   "metadata": {},
   "outputs": [],
   "source": [
    "hydro.getCatchment(timestep=12)"
   ]
  },
  {
   "cell_type": "markdown",
   "metadata": {},
   "source": [
    "# 3. Extract catchment main stream\n",
    "\n",
    "We now extract the main stream for the considered catchment based on flow \n",
    "discharge values."
   ]
  },
  {
   "cell_type": "code",
   "execution_count": null,
   "metadata": {},
   "outputs": [],
   "source": [
    "#help(hydro.extractMainstream)"
   ]
  },
  {
   "cell_type": "code",
   "execution_count": null,
   "metadata": {},
   "outputs": [],
   "source": [
    "hydro.extractMainstream()"
   ]
  },
  {
   "cell_type": "markdown",
   "metadata": {},
   "source": [
    "# 4. Compute main stream hydrometrics\n",
    "\n",
    "Here, we compute the stream parameters using the distance from outlet and the Badlands simulation coefficients for the **stream power law** and the **hillslope linear diffusion**.\n",
    "\n",
    "The formulation for the Peclet number is: \n",
    "\n",
    "$$Pe =\\frac {\\kappa_{c}l^{2(m+1)-n}}{\\kappa_{d}z^{1-n}}$$\n",
    "\n",
    "where $\\kappa_{c}$ is the erodibility coefficient, $\\kappa_{d}$ the hillslope diffusion coefficient and *m*, *n* the exponents from the stream power law equation. Their values are defined in your model input file.\n",
    "\n",
    "The formulation for the $\\chi$ parameter follows:\n",
    "\n",
    "$$\\chi = \\int_{x_b}^x \\left( \\frac{A_o}{A(x')} \\right)^{m/n} dx' $$\n",
    "\n",
    "where $A_o$ is an arbitrary scaling area, and the integration is performed upstream from base level to location $x$.\n",
    "         \n",
    "In addition the function `computeParams` requires an additional parameter `num` which is the number of samples to generate along the main stream profile for linear interpolation."
   ]
  },
  {
   "cell_type": "code",
   "execution_count": null,
   "metadata": {},
   "outputs": [],
   "source": [
    "hydro.computeParams(kd=0.003, kc=1.e-6, m=0.5, n=1., num=100)"
   ]
  },
  {
   "cell_type": "markdown",
   "metadata": {},
   "source": [
    "The following combination of parameters can be visualised with the `viewPlot` function:\n",
    "- 'dist': distance from catchment outlet\n",
    "- 'FA': flow discharge (logorithmic)\n",
    "- 'Pe': Peclet number\n",
    "- 'chi': $\\chi$ parameter\n",
    "- 'Z': elevation from outlet."
   ]
  },
  {
   "cell_type": "code",
   "execution_count": null,
   "metadata": {},
   "outputs": [],
   "source": [
    "#help(hydro1.viewPlot)"
   ]
  },
  {
   "cell_type": "code",
   "execution_count": null,
   "metadata": {},
   "outputs": [],
   "source": [
    "hydro.viewPlot(lineWidth = 3, markerSize = 5, xval = 'dist', yval = 'Z',\n",
    "               width = 1000, height = 500, colorLine = 'black', colorMarker = 'black',\n",
    "               opacity = 0.2, title = 'Elevation vs distance to outlet')"
   ]
  },
  {
   "cell_type": "markdown",
   "metadata": {
    "collapsed": true
   },
   "source": [
    "# 5. River profile through time\n",
    "\n",
    "Using the same functions as before we can now create the river profile evolution through time and plot it on a single graph."
   ]
  },
  {
   "cell_type": "code",
   "execution_count": null,
   "metadata": {},
   "outputs": [],
   "source": [
    "#help(hydro.timeProfiles)"
   ]
  },
  {
   "cell_type": "code",
   "execution_count": null,
   "metadata": {},
   "outputs": [],
   "source": [
    "timeStp = [1,3,6,9,12]\n",
    "timeMA = map(lambda x: x * 0.5, timeStp)\n",
    "print('Profile time in Ma:',timeMA)\n",
    "dist = []\n",
    "elev = []\n",
    "for t in range(len(timeStp)):\n",
    "    hydro.getCatchment(timestep=timeStp[t])\n",
    "    hydro.extractMainstream()\n",
    "    hydro.computeParams(kd=0.01, kc=1.e-6, m=0.5, n=1., num=100)\n",
    "    ids = np.where(hydro.dist<=1000000)[0]\n",
    "    tdist = hydro.dist[ids]\n",
    "    tZdata = hydro.Zdata[ids]\n",
    "    dist.append(tdist)\n",
    "    elev.append(tZdata)\n",
    "    hydro.dist = tdist\n",
    "    hydro.Zdata = tZdata\n",
    "    hydro.viewPlot(lineWidth = 3, markerSize = 5, xval = 'dist', yval = 'Z',\n",
    "               width = 1000, height = 300, colorLine = 'black', colorMarker = 'black',\n",
    "               opacity = 0.2, title = 'Elevation vs distance to outlet')"
   ]
  },
  {
   "cell_type": "code",
   "execution_count": null,
   "metadata": {},
   "outputs": [],
   "source": [
    "hydro.timeProfiles(pData = elev, pDist = dist, width = 1000, height = 500, linesize = 3,\n",
    "                    title = 'River profile through time')"
   ]
  },
  {
   "cell_type": "code",
   "execution_count": null,
   "metadata": {},
   "outputs": [],
   "source": []
  }
 ],
 "metadata": {
  "kernelspec": {
   "display_name": "Python 3 (ipykernel)",
   "language": "python",
   "name": "python3"
  },
  "language_info": {
   "codemirror_mode": {
    "name": "ipython",
    "version": 3
   },
   "file_extension": ".py",
   "mimetype": "text/x-python",
   "name": "python",
   "nbconvert_exporter": "python",
   "pygments_lexer": "ipython3",
   "version": "3.8.13"
  }
 },
 "nbformat": 4,
 "nbformat_minor": 1
}
