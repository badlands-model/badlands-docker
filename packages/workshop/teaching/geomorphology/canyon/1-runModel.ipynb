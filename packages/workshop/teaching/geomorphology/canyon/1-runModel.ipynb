{
 "cells": [
  {
   "cell_type": "markdown",
   "metadata": {
    "collapsed": true
   },
   "source": [
    "# Grand Canyon formation \n",
    "\n",
    "In this lab, you will use pyBadlands to test:\n",
    "+ the impact of erodibility coefficients maps on the propagation of the canyon\n",
    "+ estimate the control of the Grand Wash Fault on the evolution of the Canyon with 3 different conditions\n",
    "\n",
    "<div align=\"center\">\n",
    "    <img src=\"image/gc.png\" alt=\"grand canyon\" width=\"500\" height=\"200\"/>\n",
    "</div>\n",
    "\n",
    "We investigate the landscape dynamics and the Grand Canyon formation that emerge from an application of these different forcing mechanisms.\n",
    "\n",
    "The first part of the scenario starts from an initial filled surface derived for current topography. The formation of the Grand Canyon in this study is induced by the activation of the Grand Wash Fault and is known to form in 6 Ma. \n",
    "\n",
    "## Initial settings\n",
    "\n",
    "For this model, we use the *stream power law sediment transport model* which scale the incision rate $E$ as a power function of surface water discharge $A$ and slope $S=\\nabla z$:\n",
    "\n",
    "$$ E = \\kappa A^m (\\nabla z)^n$$\n",
    "\n",
    "where $\\kappa$ is the erodibility coefficient dependent on lithology and mean precipitation rate, channel width, flood frequency, channel hydraulics. We have 2 types of erodibility maps for our study. These maps are stored in the **data** folder.\n",
    "\n",
    "The values given to these parameters ($\\kappa$, $m$, $n$) have been set in the **XmL** input file.\n",
    "\n",
    "For this particular setting we do not need to record any deposition and the model is considered as purely erosive.\n",
    "\n",
    "## Starting pyBadlands\n",
    "\n",
    "First we initialise the model and set the path to the **XmL** input file.\n",
    "\n",
    "You can edit the **XmL** configuration file at [/edit/volume/canyon/canyon.xml](/edit/volume/canyon/canyon.xml).\n",
    "\n",
    "To view the complete **XmL** options you can follow this link to github page: [complete.xml](https://github.com/badlands-model/pyBadlands/blob/master/test/input_complete.xml)."
   ]
  },
  {
   "cell_type": "code",
   "execution_count": 2,
   "metadata": {
    "scrolled": true
   },
   "outputs": [],
   "source": [
    "from badlands.model import Model as badlandsModel\n",
    "\n",
    "# Initialise model\n",
    "model = badlandsModel()\n",
    "# Define the XmL input file\n",
    "model.load_xml('canyon.xml')"
   ]
  },
  {
   "cell_type": "markdown",
   "metadata": {},
   "source": [
    "## Running pyBadlands\n",
    "\n",
    "We can run the model for a given period. The end time in the **XmL** input file is set to _6M years_ but you might want to run the model for a coupled of iterations and check the output before running the model for the entire simulation time. This is done by putting the time in the **run_to_time** function. \n",
    "\n",
    "Here we go for the full time directly... it should take about 5 minutes on a single processor if you keep the initial setting unchanged. "
   ]
  },
  {
   "cell_type": "code",
   "execution_count": 3,
   "metadata": {
    "scrolled": true
   },
   "outputs": [
    {
     "name": "stdout",
     "output_type": "stream",
     "text": [
      "   - Writing outputs (0.54 seconds; tNow = 0.0)\n",
      "tNow = 154820.0 (step took 0.08 seconds)\n",
      "tNow = 295822.0 (step took 0.08 seconds)\n",
      "tNow = 434536.0 (step took 0.08 seconds)\n",
      "   - Writing outputs (0.48 seconds; tNow = 500000.0)\n",
      "tNow = 631892.0 (step took 0.09 seconds)\n",
      "tNow = 770606.0 (step took 0.09 seconds)\n",
      "tNow = 911594.0 (step took 0.08 seconds)\n",
      "   - Writing outputs (0.47 seconds; tNow = 1000000.0)\n",
      "tNow = 1154632.0 (step took 0.07 seconds)\n",
      "tNow = 1309260.0 (step took 0.07 seconds)\n",
      "tNow = 1447874.0 (step took 0.08 seconds)\n",
      "   - Writing outputs (0.48 seconds; tNow = 1500000.0)\n",
      "tNow = 1638592.0 (step took 0.10 seconds)\n",
      "tNow = 1784000.0 (step took 0.07 seconds)\n",
      "tNow = 1949856.0 (step took 0.08 seconds)\n",
      "   - Writing outputs (0.48 seconds; tNow = 2000000.0)\n",
      "tNow = 2163572.0 (step took 0.07 seconds)\n",
      "tNow = 2304312.0 (step took 0.09 seconds)\n",
      "tNow = 2445052.0 (step took 0.08 seconds)\n",
      "   - Writing outputs (0.49 seconds; tNow = 2500000.0)\n",
      "tNow = 2667980.0 (step took 0.07 seconds)\n",
      "tNow = 2829150.0 (step took 0.07 seconds)\n",
      "tNow = 2978890.0 (step took 0.08 seconds)\n",
      "   - Writing outputs (0.49 seconds; tNow = 3000000.0)\n",
      "tNow = 3170100.0 (step took 0.07 seconds)\n",
      "tNow = 3335664.0 (step took 0.07 seconds)\n",
      "tNow = 3498960.0 (step took 0.07 seconds)\n",
      "   - Writing outputs (0.50 seconds; tNow = 3500000.0)\n",
      "tNow = 3649608.0 (step took 0.08 seconds)\n",
      "tNow = 3790100.0 (step took 0.11 seconds)\n",
      "tNow = 3937390.0 (step took 0.06 seconds)\n",
      "   - Writing outputs (0.47 seconds; tNow = 4000000.0)\n",
      "tNow = 4156310.0 (step took 0.08 seconds)\n",
      "tNow = 4305734.0 (step took 0.07 seconds)\n",
      "tNow = 4464126.0 (step took 0.08 seconds)\n",
      "   - Writing outputs (0.48 seconds; tNow = 4500000.0)\n",
      "tNow = 4648986.0 (step took 0.08 seconds)\n",
      "tNow = 4797882.0 (step took 0.07 seconds)\n",
      "tNow = 4962570.0 (step took 0.07 seconds)\n",
      "   - Writing outputs (0.49 seconds; tNow = 5000000.0)\n",
      "tNow = 5153286.0 (step took 0.07 seconds)\n",
      "tNow = 5311066.0 (step took 0.06 seconds)\n",
      "tNow = 5480116.0 (step took 0.07 seconds)\n",
      "   - Writing outputs (0.47 seconds; tNow = 5500000.0)\n",
      "tNow = 6000000 (0.54 seconds)\n",
      "   - Writing outputs (0.46 seconds; tNow = 6000000)\n"
     ]
    }
   ],
   "source": [
    "model.run_to_time(6000000)"
   ]
  },
  {
   "cell_type": "markdown",
   "metadata": {},
   "source": [
    "# Visualise in Paraview\n",
    "\n",
    "For an in-depth visualisation of the model output it is recommended to install [Paraview](http://www.paraview.org) on your local machine (this is already done on the USyd Madsen computer labs).\n",
    "\n",
    "**Badlands** outputs are created in the directory you've specified in your **XmL** input file. In cases where you have ran several instances of the same input you will end up with multiple directories with the same name followed with the simulation number.\n",
    "\n",
    "The folder contains xdmf series files:\n",
    "+ **tin.series.xdmf** which will display the time series of surface evolution.\n",
    "+ **flow.series.xdmf** which will display the time series of drainage network evolution.\n",
    "\n",
    "<div align=\"center\">\n",
    "    <img src=\"image/output.png\" alt=\"output example\" width=\"450\" height=\"200\"/>\n",
    "</div>\n",
    "\n",
    "Using paraview you will be able to extract several of the information computed by badlands. \n",
    "\n",
    "For additional post-processing functions you will use the following notebooks:\n",
    "+ **Morphometrics **\n",
    "+ **Hydrometrics **"
   ]
  },
  {
   "cell_type": "code",
   "execution_count": null,
   "metadata": {
    "collapsed": true
   },
   "outputs": [],
   "source": []
  }
 ],
 "metadata": {
  "kernelspec": {
   "display_name": "Python 3 (ipykernel)",
   "language": "python",
   "name": "python3"
  },
  "language_info": {
   "codemirror_mode": {
    "name": "ipython",
    "version": 3
   },
   "file_extension": ".py",
   "mimetype": "text/x-python",
   "name": "python",
   "nbconvert_exporter": "python",
   "pygments_lexer": "ipython3",
   "version": "3.9.2"
  }
 },
 "nbformat": 4,
 "nbformat_minor": 1
}
