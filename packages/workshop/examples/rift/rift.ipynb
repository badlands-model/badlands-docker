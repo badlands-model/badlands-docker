{
 "cells": [
  {
   "cell_type": "markdown",
   "metadata": {},
   "source": [
    "# Rift model\n",
    "\n",
    "<div class=\"alert alert-block alert-info\">\n",
    "<b>Credit:</b> <i>Heng Wu (Lynn)</i> -  College of Geosciences - China University of Petroleum\n",
    "</div>\n",
    "\n",
    "<div align=\"center\">\n",
    "    <img src=\"image/rift.png\" alt=\"landscape evolution in a rift system\" width=\"750\" height=\"600\"/>\n",
    "</div>\n",
    "\n",
    "\n",
    "## Starting badlands\n",
    "\n",
    "First we initialise the model and set the path to the **XmL** input file.\n",
    "\n",
    "\n",
    "> You can edit the **XmL** configuration file at [rift.xml](rift.xml) by changing the url from:\n",
    "+ http://localhost:32771/files/share/.../rift.xml to \n",
    "+ http://localhost:32771/edit/share/.../rift.xml\n",
    "where `files` has been modified to `edit`. \n",
    "\n",
    "\n",
    "<div class=\"alert alert-block alert-success\">To view the complete <b>XmL</b> options you can look at the documentation: <a href=\"https://badlands.readthedocs.io/en/latest/xml.html\"><b>badlands readthedoc</b></a>.</div>\n"
   ]
  },
  {
   "cell_type": "code",
   "execution_count": null,
   "metadata": {
    "ExecuteTime": {
     "end_time": "2017-03-14T23:31:26.429068",
     "start_time": "2017-03-14T23:31:18.575146"
    },
    "scrolled": true
   },
   "outputs": [],
   "source": [
    "from badlands.model import Model as badlandsModel\n",
    "\n",
    "# Initialise model\n",
    "model = badlandsModel()\n",
    "\n",
    "model.load_xml('rift.xml')"
   ]
  },
  {
   "cell_type": "markdown",
   "metadata": {},
   "source": [
    "## Running badlands\n",
    "\n",
    "We can run the model for a given period. The end time in the **XmL** input file is set to _250k years_ but you might want to run the model for a coupled of iterations and check the output before running the model for the entire simulation time. \n",
    "\n",
    "This is done by putting the time in the `run_to_time` function. \n",
    "\n",
    "Here we go for the full time directly... "
   ]
  },
  {
   "cell_type": "code",
   "execution_count": null,
   "metadata": {
    "ExecuteTime": {
     "end_time": "2017-03-14T23:31:44.287007",
     "start_time": "2017-03-14T23:31:43.880246"
    }
   },
   "outputs": [],
   "source": [
    "model.run_to_time(250000)"
   ]
  },
  {
   "cell_type": "code",
   "execution_count": null,
   "metadata": {},
   "outputs": [],
   "source": []
  }
 ],
 "metadata": {
  "kernelspec": {
   "display_name": "Python 3",
   "language": "python",
   "name": "python3"
  },
  "language_info": {
   "codemirror_mode": {
    "name": "ipython",
    "version": 3
   },
   "file_extension": ".py",
   "mimetype": "text/x-python",
   "name": "python",
   "nbconvert_exporter": "python",
   "pygments_lexer": "ipython3",
   "version": "3.5.3"
  }
 },
 "nbformat": 4,
 "nbformat_minor": 1
}
