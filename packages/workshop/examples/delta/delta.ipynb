{
 "cells": [
  {
   "cell_type": "markdown",
   "metadata": {
    "collapsed": true
   },
   "source": [
    "# Delta evolution with sea-level change\n",
    "\n",
    "<div class=\"alert alert-block alert-info\">\n",
    "In this example, we investigate the formation of river-dominated deltas under <i>steady climatic conditions</i> (uniform precipitation) and <i>sea-level fluctuations</i>. Our goal is to reproduced <b>first-order sea-level control on river deltas formation</b>. \n",
    "</div>\n",
    "\n",
    "> The initial surface defines an island that is defined by a half ellipsoid of 2 km height (pretty high!) and a circular diameter of 8 km. \n",
    "\n",
    "\n",
    "| Initial elevation | Selevel | \n",
    "| :-------------: |:-------------:|\n",
    "| <img src=\"images/initialsurface.png\" alt=\"surface step 0\" width=\"500\" height=\"500\" border=\"10\" />| <img src=\"images/sealevel.png\" alt=\"sealevel\" width=\"200\" height=\"500\" border=\"10\" /> | \n",
    "|[Badlands companion](https://github.com/badlands-model/pyBadlands-Companion): **toolGeo python class**|[Badlands companion](https://github.com/badlands-model/pyBadlands-Companion): **toolSea python class**|\n",
    "\n",
    "\n",
    "### Forcings\n",
    "\n",
    "+ The sea-level is initially set at the base of the island at an elevation of 0 m. \n",
    "+ A uniform precipitation rate of 1 m/a is applied on the entire area  \n",
    "\n",
    "\n",
    "We test the evolution of the surface and associated deposits due to both hillslope and channel flow. Two diffusion coefficients are defined for the aerial (0.3 m$^2$/a) and marine (0.5 m$^2$/a) environments. The higher value for the marine environment is used to account for sediments reworking by waves and/or currents. \n",
    "\n",
    "The simulation runs for 0.5 Ma and we vary the sea-level through time.\n",
    " \n",
    "For this model, we use the *stream power law sediment transport model* which scale the incision rate $E$ as a power function of surface water discharge $A$ and slope $S=\\nabla z$:\n",
    "\n",
    "$$ E = \\kappa A^m (\\nabla z)^n$$\n",
    "\n",
    "where $\\kappa$ is the erodibility coefficient dependent on lithology and mean precipitation rate, channel width, flood frequency, channel hydraulics.\n",
    "\n",
    "The values given to these parameters ($\\kappa$, $m$, $n$) need to be set in the **XmL** input file.\n",
    "\n",
    "\n",
    "## Starting badlands\n",
    "\n",
    "First we initialise the model and set the path to the **XmL** input file.\n",
    "\n",
    "> You can edit the **XmL** configuration file at [delta.xml](delta.xml) by changing the url from:\n",
    "+ http://localhost:32771/files/share/.../delta.xml to \n",
    "+ http://localhost:32771/edit/share/.../delta.xml\n",
    "where `files` has been modified to `edit`. \n",
    "\n",
    "\n",
    "<div class=\"alert alert-block alert-success\">To view the complete <b>XmL</b> options you can look at the documentation: <a href=\"https://badlands.readthedocs.io/en/latest/xml.html\"><b>badlands readthedoc</b></a>.</div>"
   ]
  },
  {
   "cell_type": "code",
   "execution_count": null,
   "metadata": {
    "scrolled": true
   },
   "outputs": [],
   "source": [
    "from badlands.model import Model as badlandsModel"
   ]
  },
  {
   "cell_type": "code",
   "execution_count": null,
   "metadata": {},
   "outputs": [],
   "source": [
    "# Initialise model\n",
    "model = badlandsModel()\n",
    "# Define the XmL input file\n",
    "model.load_xml('delta.xml')"
   ]
  },
  {
   "cell_type": "markdown",
   "metadata": {},
   "source": [
    "## Running badlands\n",
    "\n",
    "We can run the model for a given period. The end time in the **XmL** input file is set to _500k years_ but you might want to run the model for a coupled of iterations and check the output before running the model for the entire simulation time. \n",
    "\n",
    "This is done by putting the time in the `run_to_time` function. \n",
    "\n",
    "Here we go for the full time directly..."
   ]
  },
  {
   "cell_type": "code",
   "execution_count": null,
   "metadata": {
    "scrolled": true
   },
   "outputs": [],
   "source": [
    "# Run model for 500k years. This takes a few minutes.\n",
    "model.run_to_time(500000)"
   ]
  },
  {
   "cell_type": "markdown",
   "metadata": {},
   "source": [
    "# Visualise in Paraview\n",
    "\n",
    "For an in-depth visualisation of the model output it is recommended to install on your local machine a visualisation package such as [Paraview](http://www.paraview.org) or [Visit](https://wci.llnl.gov/simulation/computer-codes/visit/).\n",
    "\n",
    "**Badlands** outputs are created in the directory you've specified in your **XmL** input file. In cases where you have ran several instances of the same input you will end up with multiple directories with the same name followed with the simulation number.\n",
    "\n",
    "The folder contains xdmf series files:\n",
    "+ **tin.series.xdmf** which will display the time series of surface evolution.\n",
    "+ **flow.series.xdmf** which will display the time series of drainage network evolution.\n",
    "\n",
    "| Time step 25| Time step 50 | \n",
    "| :-------------: |:-------------:|\n",
    "| <img src=\"images/step25.png\" alt=\"Step 25\" width=\"540\" height=\"180\" border=\"10\" />| <img src=\"images/step50.png\" alt=\"Step 50\" width=\"540\" height=\"180\" border=\"10\" /> | \n",
    "\n",
    "| Time step 75| Time step 100| \n",
    "| :-------------: |:-------------:|\n",
    "| <img src=\"images/step75.png\" alt=\"Step 75\" width=\"540\" height=\"180\" border=\"10\" /> | <img src=\"images/step100.png\" alt=\"Step 75\" width=\"540\" height=\"180\" border=\"10\" />|\n",
    "\n",
    "Using paraview you will be able to extract several of the information computed by badlands and there also in the [Badlands companion](https://github.com/badlands-model/pyBadlands-Companion) container additional post-processing functions to look at:\n",
    "+ **morphometrics**\n",
    "+ **hydrometrics**\n"
   ]
  },
  {
   "cell_type": "code",
   "execution_count": null,
   "metadata": {},
   "outputs": [],
   "source": []
  }
 ],
 "metadata": {
  "kernelspec": {
   "display_name": "Python 3",
   "language": "python",
   "name": "python3"
  },
  "language_info": {
   "codemirror_mode": {
    "name": "ipython",
    "version": 3
   },
   "file_extension": ".py",
   "mimetype": "text/x-python",
   "name": "python",
   "nbconvert_exporter": "python",
   "pygments_lexer": "ipython3",
   "version": "3.5.3"
  }
 },
 "nbformat": 4,
 "nbformat_minor": 1
}
