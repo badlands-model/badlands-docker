{
 "cells": [
  {
   "cell_type": "markdown",
   "metadata": {},
   "source": [
    "# Stratigraphic evolution of a passive continental margin influenced by dynamic topography \n",
    "\n",
    "In this example, we investigate the stratigraphic evolution of a passive continental margin under _sea-level fluctuations_, _thermal subsidence_ and _dynamic topography_ (transient uplift and subsidence). \n",
    "\n",
    "> Dynamic topography is the surface expression of the deep Earth mantle convection, and could be recorded in sedimentary layers when it interacts with surface processes. However, its low amplitude and long wavelength make it diffucult to be extracted from geological recordes. Our goal here is to set up a work-flow of building a forward stratigraphic modelling framework, to quantify the influence of dynamic topography on the development of stratal architecture at a passive continental margin. \n",
    "\n",
    "The initial surface is 300 km by 200 km with the space resolution of 1.0 km (a higher resolution could be 0.5 km). It includes a flat plateau, a gently-sloping continental plain and a continental margin consisting of a continetal shelf, a slope and a basin floor.  \n",
    "\n",
    "\n",
    "<img src=\"images/Geometry.png\" alt=\"Initial surface\"  width=\"600\" height=\"400\" border=\"10\" />\n",
    "\n",
    "See specific parameters in the table below:\n",
    "\n",
    "|   | Plateau | Plain | Continental shelf | Continental slope | Oean floor|\n",
    "| :-----------: |:-----------:|:-----------:|:-----------:|:-----------:|:-----------:|\n",
    "|Width/km| 100 | 50 | 100 | 30 | 20 |\n",
    "|Elevation/m| 200~1000 | 0~200 | -250~0 | -1000~-250 | -1000|\n",
    "|Slope| 0.008 | 0.004 | 0.0025 | 0.025 | 0.0 |\n",
    "\n",
    "+ The sea-level is simply modelled using a sin. curve. \n",
    "+ The shape of dynamic topogrpahy is also described by a sin. curve. \n",
    "+ In this model, we define the amplitude of the dynamic topography 100 meters, the wavelength 200 km, and the velocity 0.05 m/yr. \n",
    "+ A uniform precipitation rate of 1 m/a is applied to the whole area and \n",
    "+ we test the evolution of the surface and associated deposits due to both hillslope and channel flow. \n",
    "\n",
    "\n",
    "> The erodibility coefficient of 2.0$\\cdot e^{-7}$ is uniform spatially. Two diffusion coefficients are defined for the aerial (0.01 $m^2/a$) and marine (0.05 $m^2/a$) environments. The higher value for the marine environment is used to account for sediments reworking by waves and/or currents. The simulation runs for 10 Myr, with the timestep of 100000 yr.\n",
    "\n",
    "\n",
    "# Starting badlands\n",
    "\n",
    "First we initialise the model and set the path to the **XmL** input file."
   ]
  },
  {
   "cell_type": "code",
   "execution_count": null,
   "metadata": {},
   "outputs": [],
   "source": [
    "from badlands.model import Model as badlandsModel\n",
    "\n",
    "# Initialise model\n",
    "model = badlandsModel()\n",
    "# Define the XmL input file\n",
    "model.load_xml('input.xml')"
   ]
  },
  {
   "cell_type": "markdown",
   "metadata": {},
   "source": [
    "## Running badlands\n",
    "\n",
    "We can run the model for a given period. \n",
    "\n",
    "The end time in the **XmL** input file is set to **10 Myr** but you might want to run the model for a coupled of iterations and check the output before running the model for the entire simulation time. This is done by putting the time in the `run_to_time` function. \n",
    "\n",
    "Here we go for the full time directly..."
   ]
  },
  {
   "cell_type": "code",
   "execution_count": null,
   "metadata": {
    "scrolled": true
   },
   "outputs": [],
   "source": [
    "# Run model to 10 Myr.\n",
    "model.run_to_time(10000000)"
   ]
  },
  {
   "cell_type": "code",
   "execution_count": null,
   "metadata": {},
   "outputs": [],
   "source": []
  }
 ],
 "metadata": {
  "anaconda-cloud": {},
  "kernelspec": {
   "display_name": "Python 3",
   "language": "python",
   "name": "python3"
  },
  "language_info": {
   "codemirror_mode": {
    "name": "ipython",
    "version": 3
   },
   "file_extension": ".py",
   "mimetype": "text/x-python",
   "name": "python",
   "nbconvert_exporter": "python",
   "pygments_lexer": "ipython3",
   "version": "3.5.3"
  }
 },
 "nbformat": 4,
 "nbformat_minor": 1
}
