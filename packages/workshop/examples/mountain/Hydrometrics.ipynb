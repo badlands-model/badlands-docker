{
 "cells": [
  {
   "cell_type": "markdown",
   "metadata": {},
   "source": [
    "# Hydrometrics\n",
    "\n",
    "In this notebook, we show how to compute several **hydrometics parameters** based on stream network produced from  model. The analysis relies on the `flow` files (*i.e.* stream) found in Badlands outputs. If you are interested in looking at morphometrics and stratigraphic analysis there are other notebooks specially designed for that in the **Badlands companion** repository.\n",
    "\n",
    "**Hydrometrics** here refers only to quantitative description and analysis of water surface and we don't consider groundwater analysis. We will show how you can extract a particular catchment from a given model and compute for this particular catchment a series of paramters such as:\n",
    "\n",
    "- **river profile** evolution based on main stream elevation and distance to outlet,\n",
    "- **peclet number** distribution which evaluates the dominant processes shaping the landscape,\n",
    "- $\\chi$ **parameter** that characterizes rivers system evolution based on terrain steepness and the arrangement of tributaries,\n",
    "- **discharge** profiles "
   ]
  },
  {
   "cell_type": "code",
   "execution_count": null,
   "metadata": {},
   "outputs": [],
   "source": [
    "%matplotlib inline\n",
    "\n",
    "from matplotlib import cm\n",
    "\n",
    "# Import badlands grid generation toolbox\n",
    "import badlands_companion.hydroGrid as hydr\n",
    "\n",
    "# display plots in SVG format\n",
    "%config InlineBackend.figure_format = 'svg' "
   ]
  },
  {
   "cell_type": "markdown",
   "metadata": {
    "collapsed": true
   },
   "source": [
    "# 1. Load catchments parameters\n",
    "\n",
    "We first have to define the path to the Badlands outputs we want to analyse.\n",
    "\n",
    "We then need to provide a point coordinates (X,Y) contained in the catchment of interest. This point doesn't need to be the outlet of the catchment. \n",
    "\n",
    "For more information regarding the function uncomment the following line."
   ]
  },
  {
   "cell_type": "code",
   "execution_count": null,
   "metadata": {},
   "outputs": [],
   "source": [
    "#help(hydr.hydroGrid.__init__)"
   ]
  },
  {
   "cell_type": "code",
   "execution_count": null,
   "metadata": {},
   "outputs": [],
   "source": [
    "hydro1 = hydr.hydroGrid(folder='output/h5', ptXY = [40599,7656.65])\n",
    "hydro2 = hydr.hydroGrid(folder='output/h5', ptXY = [33627.6,30672.9])"
   ]
  },
  {
   "cell_type": "markdown",
   "metadata": {},
   "source": [
    "# 2. Extract particular catchment dataset\n",
    "\n",
    "We now extract the data from a particular time step (`timestep`) and for the catchment of interest, which contained the point specified in previous function.\n",
    "\n",
    "**Note**\n",
    "\n",
    "If you are interested in making some hydrometric comparisons between different time steps you can create multiple instances of the hydrometrics python class each of them associated to a given time step."
   ]
  },
  {
   "cell_type": "code",
   "execution_count": null,
   "metadata": {},
   "outputs": [],
   "source": [
    "#help(hydro.getCatchment)"
   ]
  },
  {
   "cell_type": "code",
   "execution_count": null,
   "metadata": {},
   "outputs": [],
   "source": [
    "hydro1.getCatchment(timestep=200)\n",
    "hydro2.getCatchment(timestep=200)"
   ]
  },
  {
   "cell_type": "markdown",
   "metadata": {},
   "source": [
    "We can visualise the stream network using the `viewNetwork` function. The following paramters can be displayed:\n",
    "- $\\chi$ paramater 'chi',\n",
    "- elevation 'Z',\n",
    "- discharge 'FA' (logarithmic values)"
   ]
  },
  {
   "cell_type": "code",
   "execution_count": null,
   "metadata": {},
   "outputs": [],
   "source": [
    "#help(hydro.viewNetwork)"
   ]
  },
  {
   "cell_type": "code",
   "execution_count": null,
   "metadata": {
    "scrolled": false
   },
   "outputs": [],
   "source": [
    "hydro1.viewNetwork(markerPlot = False, linePlot = True, lineWidth = 2, markerSize = 15, \n",
    "                 val = 'chi', width = 500, height = 700, colorMap = cm.viridis, \n",
    "                 colorScale = 'Viridis', title = 'Stream network graph 1')\n",
    "\n",
    "# hydro2.viewNetwork(markerPlot = False, linePlot = True, lineWidth = 2, markerSize = 15, \n",
    "#                  val = 'chi', width = 500, height = 700, colorMap = cm.viridis, \n",
    "#                  colorScale = 'Viridis', title = 'Stream network graph 2')"
   ]
  },
  {
   "cell_type": "code",
   "execution_count": null,
   "metadata": {},
   "outputs": [],
   "source": [
    "hydro1.viewNetwork(markerPlot = True, linePlot = True, lineWidth = 3, markerSize = 3, \n",
    "                 val = 'FA', width = 500, height = 700, colorMap = cm.Blues, \n",
    "                 colorScale = 'Blues', title = 'Stream network graph 1')\n",
    "\n",
    "# hydro2.viewNetwork(markerPlot = True, linePlot = True, lineWidth = 3, markerSize = 3, \n",
    "#                  val = 'FA', width = 500, height = 700, colorMap = cm.Blues, \n",
    "#                  colorScale = 'Blues', title = '<br>Stream network graph 2')"
   ]
  },
  {
   "cell_type": "markdown",
   "metadata": {},
   "source": [
    "# 3. Extract catchment main stream\n",
    "\n",
    "We now extract the main stream for the considered catchment based on flow \n",
    "discharge values."
   ]
  },
  {
   "cell_type": "code",
   "execution_count": null,
   "metadata": {},
   "outputs": [],
   "source": [
    "#help(hydro.extractMainstream)"
   ]
  },
  {
   "cell_type": "code",
   "execution_count": null,
   "metadata": {},
   "outputs": [],
   "source": [
    "hydro1.extractMainstream()\n",
    "hydro2.extractMainstream()"
   ]
  },
  {
   "cell_type": "markdown",
   "metadata": {},
   "source": [
    "As for the global stream network, you can use the `viewStream` function to visualise the main stream dataset."
   ]
  },
  {
   "cell_type": "code",
   "execution_count": null,
   "metadata": {},
   "outputs": [],
   "source": [
    "#help(hydro.viewStream)"
   ]
  },
  {
   "cell_type": "code",
   "execution_count": null,
   "metadata": {},
   "outputs": [],
   "source": [
    "hydro1.viewStream(linePlot = False, lineWidth = 1, markerSize = 7, \n",
    "                 val = 'Z', width = 500, height = 700, colorMap = cm.jet, \n",
    "                 colorScale = 'Jet', title = 'Stream network graph 1')\n",
    "\n",
    "# hydro2.viewStream(linePlot = True, lineWidth = 1, markerSize = 7, \n",
    "#                  val = 'Z', width = 300, height = 500, colorMap = cm.jet, \n",
    "#                  colorScale = 'Jet', title = 'Stream network graph 2')"
   ]
  },
  {
   "cell_type": "markdown",
   "metadata": {},
   "source": [
    "# 4. Compute main stream hydrometrics\n",
    "\n",
    "Here, we compute the stream parameters using the distance from outlet and the Badlands simulation coefficients for the **stream power law** and the **hillslope linear diffusion**.\n",
    "\n",
    "The formulation for the Peclet number is: \n",
    "\n",
    "$$Pe =\\frac {\\kappa_{c}l^{2(m+1)-n}}{\\kappa_{d}z^{1-n}}$$\n",
    "\n",
    "where $\\kappa_{c}$ is the erodibility coefficient, $\\kappa_{d}$ the hillslope diffusion coefficient and *m*, *n* the exponents from the stream power law equation. Their values are defined in your model input file.\n",
    "\n",
    "The formulation for the $\\chi$ parameter follows:\n",
    "\n",
    "$$\\chi = \\int_{x_b}^x \\left( \\frac{A_o}{A(x')} \\right)^{m/n} dx' $$\n",
    "\n",
    "where $A_o$ is an arbitrary scaling area, and the integration is performed upstream from base level to location $x$.\n",
    "         \n",
    "In addition the function `computeParams` requires an additional parameter `num` which is the number of samples to generate along the main stream profile for linear interpolation."
   ]
  },
  {
   "cell_type": "code",
   "execution_count": null,
   "metadata": {},
   "outputs": [],
   "source": [
    "hydro1.computeParams(kd=8.e-1, kc=5.e-6, m=0.5, n=1., num=100)\n",
    "hydro2.computeParams(kd=8.e-1, kc=5.e-6, m=0.5, n=1., num=100)"
   ]
  },
  {
   "cell_type": "markdown",
   "metadata": {},
   "source": [
    "The following combination of parameters can be visualised with the `viewPlot` function:\n",
    "- 'dist': distance from catchment outlet\n",
    "- 'FA': flow discharge (logorithmic)\n",
    "- 'Pe': Peclet number\n",
    "- 'Chi': $\\chi$ parameter\n",
    "- 'Z': elevation from outlet."
   ]
  },
  {
   "cell_type": "code",
   "execution_count": null,
   "metadata": {},
   "outputs": [],
   "source": [
    "#help(hydro1.viewPlot)"
   ]
  },
  {
   "cell_type": "code",
   "execution_count": null,
   "metadata": {},
   "outputs": [],
   "source": [
    "hydro1.viewPlot(lineWidth = 3, markerSize = 5, xval = 'dist', yval = 'Z',\n",
    "               width = 800, height = 500, colorLine = 'black', colorMarker = 'black',\n",
    "               opacity = 0.2, title = 'Chi vs distance to outlet')\n",
    "# hydro2.viewPlot(lineWidth = 3, markerSize = 5, xval = 'dist', yval = 'Z',\n",
    "#                width = 800, height = 500, colorLine = 'orange', colorMarker = 'purple',\n",
    "#                opacity = 0.2, title = 'Chi vs distance to outlet')"
   ]
  },
  {
   "cell_type": "markdown",
   "metadata": {
    "collapsed": true
   },
   "source": [
    "# 5. River profile through time\n",
    "\n",
    "Using the same functions as before we can now create the river profile evolution through time and plot it on a single graph."
   ]
  },
  {
   "cell_type": "code",
   "execution_count": null,
   "metadata": {},
   "outputs": [],
   "source": [
    "#help(hydro.timeProfiles)"
   ]
  },
  {
   "cell_type": "code",
   "execution_count": null,
   "metadata": {},
   "outputs": [],
   "source": [
    "hydro0 = hydr.hydroGrid(folder='output/h5', ptXY = [40599,7656.65])\n",
    "\n",
    "timeStp = [20,40,60,80,100,120,140,160,180,200]\n",
    "timeMA = map(lambda x: x * 0.25, timeStp)\n",
    "print('Profile time in Ma:',list(timeMA))\n",
    "dist = []\n",
    "elev = []\n",
    "for t in range(len(timeStp)):\n",
    "    hydro0.getCatchment(timestep=timeStp[t])\n",
    "    hydro0.extractMainstream()\n",
    "    hydro0.computeParams(kd=8.e-1, kc=5.e-6, m=0.5, n=1., num=1000)\n",
    "    dist.append(hydro0.dist)\n",
    "    elev.append(hydro0.Zdata)\n",
    "\n",
    "hydro0.timeProfiles(pData = elev, pDist = dist, width = 1000, height = 600, linesize = 3,\n",
    "                    title = 'River profile through time')"
   ]
  },
  {
   "cell_type": "code",
   "execution_count": null,
   "metadata": {},
   "outputs": [],
   "source": [
    "hydro00 = hydr.hydroGrid(folder='output/h5', ptXY = [33627.6,30672.9])\n",
    "\n",
    "timeStp = [20,40,60,80,100,120,140,160,180,200]\n",
    "timeMA = map(lambda x: x * 0.25, timeStp)\n",
    "print('Profile time in Ma:',list(timeMA))\n",
    "dist = []\n",
    "elev = []\n",
    "for t in range(len(timeStp)):\n",
    "    hydro00.getCatchment(timestep=timeStp[t])\n",
    "    hydro00.extractMainstream()\n",
    "    hydro00.computeParams(kd=8.e-1, kc=5.e-6, m=0.5, n=1., num=50)\n",
    "    dist.append(hydro00.dist)\n",
    "    elev.append(hydro00.Zdata)\n",
    "    \n",
    "hydro00.timeProfiles(pData = elev, pDist = dist, width = 1000, height = 600, linesize = 3,\n",
    "                    title = 'River profile through time')"
   ]
  },
  {
   "cell_type": "code",
   "execution_count": null,
   "metadata": {},
   "outputs": [],
   "source": []
  }
 ],
 "metadata": {
  "kernelspec": {
   "display_name": "Python 3",
   "language": "python",
   "name": "python3"
  },
  "language_info": {
   "codemirror_mode": {
    "name": "ipython",
    "version": 3
   },
   "file_extension": ".py",
   "mimetype": "text/x-python",
   "name": "python",
   "nbconvert_exporter": "python",
   "pygments_lexer": "ipython3",
   "version": "3.5.3"
  }
 },
 "nbformat": 4,
 "nbformat_minor": 1
}
