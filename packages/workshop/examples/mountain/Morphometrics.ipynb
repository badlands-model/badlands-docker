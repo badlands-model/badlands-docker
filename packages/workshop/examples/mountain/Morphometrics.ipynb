{
 "cells": [
  {
   "cell_type": "markdown",
   "metadata": {},
   "source": [
    "# Morphometrics\n",
    "\n",
    "We will see how we can use any given surface from Badlands to extract several parameters relative to **morphometrics analysis**. The analysis relies only on the `tin` files (*i.e.* surface) produced by Badlands. If you are interested in looking at hydrometrics and stratigraphic analysis there are other notebooks specially designed for that in the **Badlands companion** repository.\n",
    "\n",
    "**Morphometrics** refers to quantitative description and analysis of the produced Badlands landforms which could be applied to a particular kind of landform or to drainage basins and large regions.\n",
    "\n",
    "The following suite of geomorphic attributes could be extracted:\n",
    "- **gradient**: magnitude of maximum gradient\n",
    "- **horizontal curvature** describes convergent or divergent fluxes\n",
    "- **vertical curvature**: positive values describe convex profile curvature, negative values concave profile.\n",
    "- **aspect**: direction of maximum gradient\n",
    "- **discharge**:  it relates to the drainage area\n",
    "\n",
    "In addition, the last section of this notebook shows how you can `slice` the model in any direction to plot a **profile** of the elevation."
   ]
  },
  {
   "cell_type": "code",
   "execution_count": null,
   "metadata": {},
   "outputs": [],
   "source": [
    "%matplotlib inline\n",
    "\n",
    "import numpy as np\n",
    "# Import badlands grid generation toolbox\n",
    "import morphoGrid as morph\n",
    "\n",
    "# display plots in SVG format\n",
    "%config InlineBackend.figure_format = 'svg' "
   ]
  },
  {
   "cell_type": "markdown",
   "metadata": {
    "collapsed": true
   },
   "source": [
    "# 1. Define analyse bounding box\n",
    "\n",
    "We first have to define the path to the Badlands outputs we want to analyse. In addition Badlands is creating several files for each processors that have been used, you need to specify this number in the `ncpus` variable. \n",
    "\n",
    "We then need to provide the extent of the area we want to perform morphometrics analysis on using the `bbox` parameters which is numpy array containing the extent in the following order [xlow,ylow,xup,yup]. \n",
    "\n",
    "Finally you need to specify the resolution you want to work on. Usually Badlands model are ran on resolution of several hundred of metres but you might want to extract the morphemetrics attributes at a much higher resolution. This is done using the `dx` parameter which is in metres.\n",
    "\n",
    "For more information regarding the function uncomment the following line."
   ]
  },
  {
   "cell_type": "code",
   "execution_count": null,
   "metadata": {},
   "outputs": [],
   "source": [
    "#help(morph.morphoGrid.__init__)"
   ]
  },
  {
   "cell_type": "code",
   "execution_count": null,
   "metadata": {},
   "outputs": [],
   "source": [
    "morpho = morph.morphoGrid(folder='output/h5', bbox = [20000,0,60000,40000], dx=50)"
   ]
  },
  {
   "cell_type": "markdown",
   "metadata": {},
   "source": [
    "# 2. Interpolation of TIN data\n",
    "\n",
    "We now interpolate the data from a particular time step (`timestep`) from the TIN to the regular grid, which extent and resolution have been specified in previous function.\n",
    "\n",
    "**Note**\n",
    "\n",
    "If you are interested in making some morphometric comparisons between different time steps you could create multiple instances of the morphometrics python class each of them associated to a given time step."
   ]
  },
  {
   "cell_type": "code",
   "execution_count": null,
   "metadata": {},
   "outputs": [],
   "source": [
    "#help(morpho.loadHDF5)"
   ]
  },
  {
   "cell_type": "code",
   "execution_count": null,
   "metadata": {},
   "outputs": [],
   "source": [
    "morpho.loadHDF5(timestep=200)"
   ]
  },
  {
   "cell_type": "markdown",
   "metadata": {},
   "source": [
    "# 3. Cross-sections analyses\n",
    "\n",
    "The last function provided here helps you to create a cross-section from 2 points (xo,yo) and (xm,ym). The create section will interpolate the attributes over the desired slice using a bivariate spline method. \n",
    "\n",
    "The resulting section is then plotted as a 2D scatter and line graph using **plotly** library."
   ]
  },
  {
   "cell_type": "code",
   "execution_count": null,
   "metadata": {},
   "outputs": [],
   "source": [
    "# Number of cross-sections\n",
    "nbCS = 40\n",
    "# Number of points per cross-section\n",
    "nbPts = 401\n",
    "# Extent of the cross-section along Y-axis\n",
    "ymin = 0.\n",
    "ymax = 40000.\n",
    "# Extent of the cross-section along X-axis\n",
    "xmin = 24000.\n",
    "xmax = 57000.\n",
    "# Define timestep and according time interval based on display time in the XML input file\n",
    "timeStp = [20,40,60,80,100,120,140,160,180,200]\n",
    "timeMA = list(map(lambda x: x * 0.25, timeStp))"
   ]
  },
  {
   "cell_type": "markdown",
   "metadata": {},
   "source": [
    "Now that we have defined the parameters we use the following loop to create the averaged representation at each time step of the landscape along the combined cross-section (based on mean, max & min values)\n",
    "\n",
    "For more information regarding the functions used here uncomment the following line."
   ]
  },
  {
   "cell_type": "code",
   "execution_count": null,
   "metadata": {},
   "outputs": [],
   "source": [
    "#help(morpho.extractSection)\n",
    "#help(morpho.statProfiles)"
   ]
  },
  {
   "cell_type": "code",
   "execution_count": null,
   "metadata": {
    "scrolled": false
   },
   "outputs": [],
   "source": [
    "xlist = [None] * nbCS\n",
    "zlist = np.zeros((nbCS,nbPts))\n",
    "dx = (xmax - xmin)/(nbCS-1)\n",
    "\n",
    "zmin = np.zeros((len(timeStp),nbPts))\n",
    "zmean = np.zeros((len(timeStp),nbPts))\n",
    "zmax = np.zeros((len(timeStp),nbPts))\n",
    "\n",
    "for t in range(len(timeStp)):\n",
    "    step = timeStp[t]\n",
    "    morpho.loadHDF5(timestep=step)\n",
    "\n",
    "    for i in range(0,nbCS):\n",
    "        xlist[i] = xmin+i*dx\n",
    "        dist, zlist[i,:] = morpho.extractSection(xo = xlist[i], yo = ymin, xm = xlist[i], ym = ymax, pts = nbPts, vData = morpho.z, \n",
    "                   view = False, width = 800, height = 400, color = 'black', linesize = 3, \n",
    "                   markersize = 1, title = 'Cross section %d'% step)\n",
    "    if timeMA[t] > 15.: \n",
    "        color = 'rgba(104, 192, 98, 0.4)'\n",
    "    else:\n",
    "        color = 'rgba(243, 133, 79, 0.4)'\n",
    "    zmin[t,:], zmean[t,:], zmax[t,:] = morpho.statProfiles(pData = zlist, pDist = dist, width = 1000, height = 500, \n",
    "                   color = color, linesize = 3, title = 'Analyse sections time %5.2f Ma' %timeMA[t])"
   ]
  },
  {
   "cell_type": "markdown",
   "metadata": {},
   "source": [
    "# 4. Time evolution\n",
    "\n",
    "We can then visualise the averaged profiles through time on a single graph:"
   ]
  },
  {
   "cell_type": "code",
   "execution_count": null,
   "metadata": {},
   "outputs": [],
   "source": [
    "#help(morpho.timeProfiles)"
   ]
  },
  {
   "cell_type": "code",
   "execution_count": null,
   "metadata": {},
   "outputs": [],
   "source": [
    "morpho.timeProfiles(pData = zmean, pDist = dist, width = 1000, height = 600, linesize = 3,\n",
    "                    title = 'Profiles evolution with time')"
   ]
  },
  {
   "cell_type": "markdown",
   "metadata": {},
   "source": [
    "## 4.1. Evolution of profile elevation with time\n",
    "\n",
    "We can create other plots for example the evolution of the maximum value of the min, mean, & max profile through time."
   ]
  },
  {
   "cell_type": "code",
   "execution_count": null,
   "metadata": {},
   "outputs": [],
   "source": [
    "zz = np.zeros((3,len(timeStp)))\n",
    "\n",
    "zz[0,:] = np.amax(zmin, axis=1)\n",
    "zz[1,:] = np.amax(zmean, axis=1)\n",
    "zz[2,:] = np.amax(zmax, axis=1)"
   ]
  },
  {
   "cell_type": "code",
   "execution_count": null,
   "metadata": {},
   "outputs": [],
   "source": [
    "morpho.timeProfiles(pData = zz, pDist = timeMA, width = 800, height = 500, linesize = 3,\n",
    "                    title = 'Averaged Evolution through Time')"
   ]
  },
  {
   "cell_type": "markdown",
   "metadata": {},
   "source": [
    "# 4.2. Position of maximum profiles along an axis\n",
    "\n",
    "Or the position of a given value from the different profiles with time."
   ]
  },
  {
   "cell_type": "code",
   "execution_count": null,
   "metadata": {},
   "outputs": [],
   "source": [
    "zpos = np.zeros((3,len(timeStp)))\n",
    "zpos[0,:] = dist[np.argmax(zmin, axis=1)] / (ymax-ymin)\n",
    "zpos[1,:] = dist[np.argmax(zmean, axis=1)] / (ymax-ymin)\n",
    "zpos[2,:] = dist[np.argmax(zmax, axis=1)] / (ymax-ymin)"
   ]
  },
  {
   "cell_type": "code",
   "execution_count": null,
   "metadata": {},
   "outputs": [],
   "source": [
    "morpho.timeProfiles(pData = zpos, pDist = timeMA, width = 1000, height = 600, linesize = 3,\n",
    "                    title = 'Position of min, mean & max profile through Time')"
   ]
  },
  {
   "cell_type": "code",
   "execution_count": null,
   "metadata": {},
   "outputs": [],
   "source": []
  }
 ],
 "metadata": {
  "kernelspec": {
   "display_name": "Python 3",
   "language": "python",
   "name": "python3"
  },
  "language_info": {
   "codemirror_mode": {
    "name": "ipython",
    "version": 3
   },
   "file_extension": ".py",
   "mimetype": "text/x-python",
   "name": "python",
   "nbconvert_exporter": "python",
   "pygments_lexer": "ipython3",
   "version": "3.5.3"
  }
 },
 "nbformat": 4,
 "nbformat_minor": 1
}
