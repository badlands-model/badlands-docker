{
 "cells": [
  {
   "cell_type": "markdown",
   "metadata": {
    "collapsed": true
   },
   "source": [
    "# Orogenic landscapes modelling\n",
    "\n",
    "In this example, we simulate landscape evolution in response to two simple climatic scenarios: \n",
    "+ **uniform** and \n",
    "+ **orographic** precipitation. \n",
    "\n",
    "<div align=\"center\">\n",
    "    <img src=\"images/oro_rain.jpg\" alt=\"orographic precipitation\" width=\"450\" height=\"200\"/>\n",
    "</div>\n",
    "\n",
    "We investigate the drainage network dynamics and the steady-state fluvial patterns that emerge from an application of these climatic forcing mechanisms.\n",
    "\n",
    "The first part of the scenario starts from a flat topography subjected to a constant and uniform rate of tectonic rock uplift (>1 mm/a) and precipitation (1 m/a). The domain is rectangular and the four edges are kept at a constant base-level elevation. The area is a 40x80 km domain. \n",
    "\n",
    "After 8 Ma, the second scenario is applied and consists in a linearly varying rainfall pattern corresponding to an orographic precipitation with the same uniform tectonic uplift rate. The Northern part of the domain is experiencing a 2 m/a precipitation rate and the Southern part is subject to a 0.1 m/a precipitation rate for the next 12 Ma. \n",
    "\n",
    "## Initial settings\n",
    "\n",
    "For this model, we use the *stream power law sediment transport model* which scale the incision rate $E$ as a power function of surface water discharge $A$ and slope $S=\\nabla z$:\n",
    "\n",
    "$$ E = \\kappa A^m (\\nabla z)^n$$\n",
    "\n",
    "where $\\kappa$ is the erodibility coefficient dependent on lithology and mean precipitation rate, channel width, flood frequency, channel hydraulics.\n",
    "\n",
    "The values given to these parameters ($\\kappa$, $m$, $n$) need to be set in the **XmL** input file.\n",
    "\n",
    "For this particular setting we do not need to record any deposition as the model is purely erosive. To speed up the model we turn off the deposition computation in **badlands** by setting the **dep** element to *0* in the input file. \n",
    "\n",
    "## Starting badlands\n",
    "\n",
    "First we initialise the model and set the path to the **XmL** input file.\n",
    "\n",
    "\n",
    "> You can edit the **XmL** configuration file at [mountain.xml](mountain.xml) by changing the url from:\n",
    "+ http://localhost:32771/files/share/.../mountain.xml to \n",
    "+ http://localhost:32771/edit/share/.../mountain.xml\n",
    "where `files` has been modified to `edit`. \n",
    "\n",
    "\n",
    "<div class=\"alert alert-block alert-success\">To view the complete <b>XmL</b> options you can look at the documentation: <a href=\"https://badlands.readthedocs.io/en/latest/xml.html\"><b>badlands readthedoc</b></a>.</div>"
   ]
  },
  {
   "cell_type": "code",
   "execution_count": null,
   "metadata": {
    "scrolled": true
   },
   "outputs": [],
   "source": [
    "from badlands.model import Model as badlandsModel\n",
    "\n",
    "# Initialise model\n",
    "model = badlandsModel()\n",
    "# Define the XmL input file\n",
    "model.load_xml('mountain.xml')"
   ]
  },
  {
   "cell_type": "markdown",
   "metadata": {},
   "source": [
    "## Running badlands\n",
    "\n",
    "We can run the model for a given period. The end time in the **XmL** input file is set to _50M years_ but you might want to run the model for a coupled of iterations and check the output before running the model for the entire simulation time. \n",
    "\n",
    "This is done by putting the time in the `run_to_time` function. \n",
    "\n",
    "Here we go for the full time directly... "
   ]
  },
  {
   "cell_type": "code",
   "execution_count": null,
   "metadata": {
    "scrolled": true
   },
   "outputs": [],
   "source": [
    "model.run_to_time(50000000)"
   ]
  },
  {
   "cell_type": "markdown",
   "metadata": {},
   "source": [
    "# Visualise in Paraview\n",
    "\n",
    "For an in-depth visualisation of the model output it is recommended to install on your local machine a visualisation package such as [Paraview](http://www.paraview.org) or [Visit](https://wci.llnl.gov/simulation/computer-codes/visit/).\n",
    "\n",
    "**Badlands** outputs are created in the directory you've specified in your **XmL** input file. In cases where you have ran several instances of the same input you will end up with multiple directories with the same name followed with the simulation number.\n",
    "\n",
    "The folder contains xdmf series files:\n",
    "+ **tin.series.xdmf** which will display the time series of surface evolution.\n",
    "+ **flow.series.xdmf** which will display the time series of drainage network evolution.\n",
    "\n",
    "## Elevation change\n",
    "\n",
    "| Time step 25| Time step 160 | \n",
    "| :-------------: |:-------------:|\n",
    "| <img src=\"images/step25.png\" alt=\"Step 25\" width=\"400\" height=\"200\" border=\"10\" />| <img src=\"images/step160.png\" alt=\"Step 160\" width=\"400\" height=\"200\" border=\"10\" /> | \n",
    "\n",
    "| Time step 250| Time step 400| \n",
    "| :-------------: |:-------------:|\n",
    "| <img src=\"images/step250.png\" alt=\"Step 250\" width=\"400\" height=\"200\" border=\"10\" /> | <img src=\"images/step400.png\" alt=\"Step 400\" width=\"400\" height=\"200\" border=\"10\" />|\n",
    "\n",
    "## Drainage network\n",
    "\n",
    "| Time step 159| Time step 400 | \n",
    "| :-------------: |:-------------:|\n",
    "| <img src=\"images/step159.png\" alt=\"Step 159\" width=\"400\" height=\"200\" border=\"10\" />| <img src=\"images/step400b.png\" alt=\"Step 400\" width=\"400\" height=\"200\" border=\"10\" /> | \n",
    "\n",
    "\n",
    "Using paraview you will be able to extract several of the information computed by badlands and there also in the [**badlands companion**](https://github.com/badlands-model/badlands-companion) container additional post-processing functions to look at:\n",
    "+ **morphometrics **\n",
    "+ **hydrometrics **\n",
    "\n",
    "In the next notebooks we will use the [**badlands companion**](https://github.com/badlands-model/badlands-companion)  python classes to look at some of the available post-processing functions."
   ]
  },
  {
   "cell_type": "code",
   "execution_count": null,
   "metadata": {},
   "outputs": [],
   "source": []
  }
 ],
 "metadata": {
  "kernelspec": {
   "display_name": "Python 3",
   "language": "python",
   "name": "python3"
  },
  "language_info": {
   "codemirror_mode": {
    "name": "ipython",
    "version": 3
   },
   "file_extension": ".py",
   "mimetype": "text/x-python",
   "name": "python",
   "nbconvert_exporter": "python",
   "pygments_lexer": "ipython3",
   "version": "3.5.3"
  }
 },
 "nbformat": 4,
 "nbformat_minor": 1
}
