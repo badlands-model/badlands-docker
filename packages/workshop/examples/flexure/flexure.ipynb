{
 "cells": [
  {
   "cell_type": "markdown",
   "metadata": {
    "collapsed": true
   },
   "source": [
    "# Flexural isostasy\n",
    "\n",
    "For flexural isostasy, **Badlands** uses the [**gFlex**](https://github.com/awickert/gFlex) code. This package is designed to solve elastic plate flexure for applications to Earth's lithosphere. For an in-depth understanding of the functionalities of the package, you might want to look at:\n",
    "\n",
    "**Wickert, A. D.: [Open-source modular solutions for flexural isostasy: gFlex v1.0](http://www.geosci-model-dev.net/9/997/2016/gmd-9-997-2016-discussion.html), Geosci. Model Dev. Discuss., 8, 4245-4292, doi:10.5194/gmdd-8-4245-2015, 2015.**\n",
    "\n",
    "> **Badlands** is designed to compute induced flexural isostasy using **gFlex** 2D finite difference solutions for both constant and arbitrarily varying lithospheric elastic thickness structures. For Badlands, these solutions follow the work of _van Wees et al. (1994)_. In addition Badlands includes the range of implementable boundary conditions from **gFlex**.  \n",
    "\n",
    "_Range of geological loads from Badlands model which can induced flexural isostasy response (adapted from A. Wickert, 2015)._\n",
    "\n",
    "<div align=\"center\">\n",
    "    <img src=\"images/isostatic.png\" alt=\"flexural isostasy\" width=\"500\" height=\"800\"/>\n",
    "</div>\n",
    "\n",
    "In this example, we analyse the **flexural isostasy response** induced by sediment loading/unloading on a simple sine wave topography designed with 2 highs and a shallow depression in the middle which is under-water. We run 3 tests using a uniform precipitation rate and test the following 3 scenarios:\n",
    "- no flexural isostasy response,\n",
    "- flexural isostasy induced by an **uniform elastic thickness** over the entire region,\n",
    "- flexural isostasy induced by a **variable elastic thickness** grid (the grid was created using this [notebook](/edit/volume/Examples/flexure/elastic_map.xml). \n",
    "\n",
    "\n",
    "## Initial settings\n",
    "\n",
    "The initial grid has an approximate resolution of _1_ km and consists of a _250_ by _100_ km area with an elevation ranging from _-200_ to _800_ m. A constant sea-level is set to _-120_ m so that the central section of the model represents a shallow marine environment where eroded sediments are transported and deposited. \n",
    "\n",
    "We use the *stream power law sediment transport model* which scale the incision rate $E$ as a power function of surface water discharge $A$ and slope $S=\\nabla z$:\n",
    "\n",
    "$$ E = \\kappa A^m (\\nabla z)^n$$\n",
    "\n",
    "where $\\kappa$ is the erodibility coefficient dependent on lithology and mean precipitation rate, channel width, flood frequency, channel hydraulics.\n",
    "\n",
    "The values given to these parameters ($\\kappa$, $m$, $n$) are set in the **XmL** input file. \n",
    "\n",
    "\n",
    "## Starting badlands\n",
    "\n",
    "\n",
    "First we initialise the model and set the path to the **XmL** input file.\n",
    "\n",
    "\n",
    "> You can edit the **XmL** configuration file at [flexure.xml](crater.xml) by changing the url from:\n",
    "+ http://localhost:32771/files/share/.../flexure.xml to \n",
    "+ http://localhost:32771/edit/share/.../flexure.xml\n",
    "where `files` has been modified to `edit`. \n",
    "\n",
    "\n",
    "<div class=\"alert alert-block alert-success\">To view the complete <b>XmL</b> options you can look at the documentation: <a href=\"https://badlands.readthedocs.io/en/latest/xml.html\"><b>badlands readthedoc</b></a>.</div>\n",
    "\n",
    "\n",
    "The XmL file is set to run the first scenario (_i.e_ no flexural isostasy). To run the other 2, you will need to modify the XmL file by first uncommenting the **flexure** section and by using the **elasticH** parameter for the _uniform elastic thickness scenario_ then the **elasticGrid** parameter for the _variable elastic thickness scenario_."
   ]
  },
  {
   "cell_type": "code",
   "execution_count": null,
   "metadata": {
    "scrolled": true
   },
   "outputs": [],
   "source": [
    "from badlands.model import Model as badlandsModel\n",
    "\n",
    "# initialise model\n",
    "model = badlandsModel()\n",
    "# Define the XmL input file\n",
    "model.load_xml('flexure.xml')"
   ]
  },
  {
   "cell_type": "markdown",
   "metadata": {},
   "source": [
    "## Running badlands\n",
    "\n",
    "We can run the model for a given period. The end time in the **XmL** input file is set to _1 Ma_ but you might want to run the model for a coupled of iterations and check the output before running the model for the entire simulation time. \n",
    "\n",
    "This is done by putting the time in the `run_to_time` function. \n",
    "\n",
    "Here we go for the full time directly...  "
   ]
  },
  {
   "cell_type": "code",
   "execution_count": null,
   "metadata": {
    "scrolled": false
   },
   "outputs": [],
   "source": [
    "model.run_to_time(1000000)"
   ]
  },
  {
   "cell_type": "markdown",
   "metadata": {},
   "source": [
    "# Visualise in Paraview\n",
    "\n",
    "For an in-depth visualisation of the model output it is recommended to install on your local machine a visualisation package such as [Paraview](http://www.paraview.org) or [Visit](https://wci.llnl.gov/simulation/computer-codes/visit/).\n",
    "\n",
    "**Badlands** outputs are created in the directory you've specified in your **XmL** input file. In cases where you have ran several instances of the same input you will end up with multiple directories with the same name followed with the simulation number.\n",
    "\n",
    "The folder contains xdmf series files:\n",
    "+ **tin.series.xdmf** which will display the time series of surface evolution.\n",
    "+ **flow.series.xdmf** which will display the time series of drainage network evolution.\n",
    "\n",
    "\n",
    "### Elevation change\n",
    "\n",
    "\n",
    "| Time step 25| Time step 50 | \n",
    "| :-------------: |:-------------:|\n",
    "| <img src=\"images/step25.png\" alt=\"Step 25\" width=\"490\" height=\"400\" border=\"5\" />| <img src=\"images/step50.png\" alt=\"Step 50\" width=\"490\" height=\"400\" border=\"5\" /> | \n",
    "\n",
    "\n",
    "\n",
    "### Cumulative flexural isostasy\n",
    "\n",
    "<div align=\"center\">\n",
    "    <img src=\"images/flex.png\" alt=\"flexural isostasy\" width=\"1000\" height=\"800\"/>\n",
    "</div>"
   ]
  },
  {
   "cell_type": "code",
   "execution_count": null,
   "metadata": {},
   "outputs": [],
   "source": []
  }
 ],
 "metadata": {
  "kernelspec": {
   "display_name": "Python 3",
   "language": "python",
   "name": "python3"
  },
  "language_info": {
   "codemirror_mode": {
    "name": "ipython",
    "version": 3
   },
   "file_extension": ".py",
   "mimetype": "text/x-python",
   "name": "python",
   "nbconvert_exporter": "python",
   "pygments_lexer": "ipython3",
   "version": "3.5.3"
  }
 },
 "nbformat": 4,
 "nbformat_minor": 1
}
