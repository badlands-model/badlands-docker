{
 "cells": [
  {
   "cell_type": "markdown",
   "metadata": {
    "collapsed": true
   },
   "source": [
    "# Real topography model\n",
    "\n",
    "Using the bathymetric/topographic grid produced with ETOPO1 using **badlands companion**, we investigate the geomorphological evolution of a real topography under sea-level fall and uniform precipitation. \n",
    "\n",
    "\n",
    "## Initial settings\n",
    " \n",
    "| Initial elevation | Selevel | \n",
    "| :-------------: |:-------------:|\n",
    "| <img src=\"images/step0.png\" alt=\"surface step 0\" width=\"400\" height=\"200\" border=\"10\" />| <img src=\"images/sea.level.png\" alt=\"sealevel\" width=\"300\" height=\"200\" border=\"10\" /> | \n",
    "|[Badlands companion](https://github.com/badlands-model/pyBadlands-Companion): **toolGrid python class**|[Badlands companion](https://github.com/badlands-model/pyBadlands-Companion): **toolSea python class**|\n",
    "\n",
    "For this model, we use the *stream power law sediment transport model* which scale the incision rate $E$ as a power function of surface water discharge $A$ and slope $S=\\nabla z$:\n",
    "\n",
    "$$ E = \\kappa A^m (\\nabla z)^n$$\n",
    "\n",
    "where $\\kappa$ is the erodibility coefficient dependent on lithology and mean precipitation rate, channel width, flood frequency, channel hydraulics.\n",
    "\n",
    "The values given to these parameters ($\\kappa$, $m$, $n$) need to be set in the **XmL** input file.\n",
    "\n",
    "\n",
    "## Starting badlands\n",
    "\n",
    "\n",
    "First we initialise the model and set the path to the **XmL** input file.\n",
    "\n",
    "\n",
    "> You can edit the **XmL** configuration file at [etopo.xml](etopo.xml) by changing the url from:\n",
    "+ http://localhost:32771/files/share/.../etopo.xml to \n",
    "+ http://localhost:32771/edit/share/.../etopo.xml\n",
    "where `files` has been modified to `edit`. \n",
    "\n",
    "\n",
    "<div class=\"alert alert-block alert-success\">To view the complete <b>XmL</b> options you can look at the documentation: <a href=\"https://badlands.readthedocs.io/en/latest/xml.html\"><b>badlands readthedoc</b></a>.</div>"
   ]
  },
  {
   "cell_type": "code",
   "execution_count": null,
   "metadata": {
    "scrolled": true
   },
   "outputs": [],
   "source": [
    "from badlands.model import Model as badlandsModel\n",
    "\n",
    "# Initialise model\n",
    "model = badlandsModel()\n",
    "\n",
    "# Define the XmL input file\n",
    "model.load_xml('etopo.xml')"
   ]
  },
  {
   "cell_type": "markdown",
   "metadata": {},
   "source": [
    "## Running pyBadlands\n",
    "\n",
    "We can run the model for a given period. The end time in the **XmL** input file is set to _500k years_ but you might want to run the model for a coupled of iterations and check the output before running the model for the entire simulation time. This is done by putting the time in the `run_to_time` function. \n",
    "\n",
    "Here we go for the full time directly... \n",
    "\n",
    "\n",
    "> By changing the **resfactor** in the _XmL input file_ you will change both the resolution and the computation time."
   ]
  },
  {
   "cell_type": "code",
   "execution_count": null,
   "metadata": {
    "scrolled": true
   },
   "outputs": [],
   "source": [
    "# Run model for 500k years. This takes a few minutes.\n",
    "model.run_to_time(500000)"
   ]
  },
  {
   "cell_type": "markdown",
   "metadata": {},
   "source": [
    "# Visualise in Paraview\n",
    "\n",
    "For an in-depth visualisation of the model output it is recommended to install on your local machine a visualisation package such as [Paraview](http://www.paraview.org) or [Visit](https://wci.llnl.gov/simulation/computer-codes/visit/).\n",
    "\n",
    "**Badlands** outputs are created in the directory you've specified in your **XmL** input file. In cases where you have ran several instances of the same input you will end up with multiple directories with the same name followed with the simulation number.\n",
    "\n",
    "The folder contains xdmf series files:\n",
    "+ **tin.series.xdmf** which will display the time series of surface evolution.\n",
    "+ **flow.series.xdmf** which will display the time series of drainage network evolution.\n",
    "\n",
    "### Topographic changes\n",
    "\n",
    "| Time step 20| Time step 50 | \n",
    "| :-------------: |:-------------:|\n",
    "| <img src=\"images/stept20.png\" alt=\"Step 20\" width=\"450\" height=\"180\" border=\"10\" />| <img src=\"images/stept50.png\" alt=\"Step 50\" width=\"450\" height=\"180\" border=\"10\" /> | \n",
    "\n",
    "| Time step 80| Time step 100| \n",
    "| :-------------: |:-------------:|\n",
    "| <img src=\"images/stept80.png\" alt=\"Step 80\" width=\"450\" height=\"180\" border=\"10\" /> | <img src=\"images/stept100.png\" alt=\"Step 100\" width=\"450\" height=\"180\" border=\"10\" />|\n",
    "\n",
    "### Erosion/deposition changes\n",
    "\n",
    "\n",
    "| Time step 20| Time step 50 | \n",
    "| :-------------: |:-------------:|\n",
    "| <img src=\"images/step.20.png\" alt=\"Step 20\" width=\"450\" height=\"180\" border=\"10\" />| <img src=\"images/step.50.png\" alt=\"Step 50\" width=\"450\" height=\"180\" border=\"10\" /> | \n",
    "\n",
    "| Time step 80| Time step 100| \n",
    "| :-------------: |:-------------:|\n",
    "| <img src=\"images/step.80.png\" alt=\"Step 80\" width=\"450\" height=\"180\" border=\"10\" /> | <img src=\"images/step.100.png\" alt=\"Step 100\" width=\"450\" height=\"180\" border=\"10\" />|\n"
   ]
  },
  {
   "cell_type": "code",
   "execution_count": null,
   "metadata": {},
   "outputs": [],
   "source": []
  }
 ],
 "metadata": {
  "kernelspec": {
   "display_name": "Python 3",
   "language": "python",
   "name": "python3"
  },
  "language_info": {
   "codemirror_mode": {
    "name": "ipython",
    "version": 3
   },
   "file_extension": ".py",
   "mimetype": "text/x-python",
   "name": "python",
   "nbconvert_exporter": "python",
   "pygments_lexer": "ipython3",
   "version": "3.5.3"
  }
 },
 "nbformat": 4,
 "nbformat_minor": 1
}
