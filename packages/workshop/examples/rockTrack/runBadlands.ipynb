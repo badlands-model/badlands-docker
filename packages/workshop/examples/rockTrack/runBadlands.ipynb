{
 "cells": [
  {
   "cell_type": "markdown",
   "metadata": {},
   "source": [
    "# Multiple rock types tracking\n",
    "\n",
    " \n",
    "<div class=\"alert alert-block alert-danger\">The option below has not really been tested and the performance of the code when using it will be really slow...</div>\n",
    "\n",
    "\n",
    "\n",
    "***\n",
    "\n",
    "<img src=\"images/rocktrack.png\" alt=\"geometry\" width=\"900\" height=\"500\"/>\n",
    "\n",
    "_Above image shows the proportion of a specific rock (rock 1 ranging between 0 and 1) after 100,000 years. The initial model is composed of stratigraphic layers. A top one made only of 250 m of rock 0 and a bottom one made of rock 0 on half of the domain and of rock 1 on the other half. As the model starts, the top layer is first eroded and as the erosion progesses the second layer starts to be exposed and rock 1 starts to be deposited in the marine environment._\n",
    "\n",
    "\n",
    "<img src=\"images/rock1.png\" alt=\"geometry\" width=\"500\" height=\"500\"/>\n",
    "\n",
    "_Proportion of rock 1 in the sedimentary record which is higher than 40% (using Paraview)._\n",
    "\n",
    "***\n",
    "\n",
    "The approach consists in assigning multiple stratigraphic layers initially in the model and for each **node a specific rock type**. Multiple rock types can be defined on a single layer and there are no restriction on the number of types though the run time will become slower and slower has you increase it!\n",
    "\n",
    "> One restriction is that on a single layer you will only be able to define for each point a single rock type. \n",
    "\n",
    "Basically you cannot have 50% of rock 1 and 50% of rock 2 on the one point of a single layer. But you can create 2 layers on top of each others one with only rock 1 and the second with rock 2. \n",
    "\n",
    "**Each layer has to be defined for all the nodes part of the computational domain but can have 0 thickness.**\n",
    "\n",
    "To use the option you will need to add the following `XmL` element in the input file. \n",
    "\n",
    "```xml\n",
    "\n",
    "    <!-- Erodibility structure\n",
    "         This option allows you to specify different erodibility values either on the surface\n",
    "         or within a number of initial stratigraphic layers. -->\n",
    "    <erocoeffs>\n",
    "        <!-- Active layer thickness [m]-->\n",
    "        <actlay>5.</actlay>\n",
    "        <!-- Stratal layer interval [a] -->\n",
    "        <laytime>5000.</laytime>\n",
    "        <!-- Number of rock types to track. -->\n",
    "        <rocktype>2</rocktype>\n",
    "        <!-- Definition of erodibility values for each rock types -->\n",
    "        <rockero>\n",
    "            <!-- Erodibility coefficient for rock type 1 -->\n",
    "            <erorock>1.e-5</erorock>\n",
    "        </rockero>\n",
    "        <rockero>\n",
    "            <!-- Erodibility coefficient for rock type 2 -->\n",
    "            <erorock>3.e-5</erorock>\n",
    "        </rockero>\n",
    "\n",
    "        <!-- Number of erosion layers. -->\n",
    "        <erolayers>2</erolayers>\n",
    "        <!-- The layering is defined from top to bottom, with a file containing the\n",
    "             following properties for each points of the regular grid (DEM):\n",
    "              - 1st column the thickness of the considered layer\n",
    "              - 2nd column the rock type ID (an integer) -->\n",
    "        <!-- Constant erodibility and layer thickness -->\n",
    "        <erolay>\n",
    "            <!-- Uniform erodibility value for the considered layer. -->\n",
    "            <laymap>data/thlay0.csv</laymap>\n",
    "        </erolay>\n",
    "        <erolay>\n",
    "            <!-- Uniform erodibility value for the considered layer. -->\n",
    "            <laymap>data/thlay1.csv</laymap>\n",
    "        </erolay>\n",
    "    </erocoeffs>\n",
    "```\n",
    "\n",
    "As seen above, we set 2 rocktypes, each rock is defined with a specific erodibility coefficient. Once eroded from their respective stratigraphic layer, all sediments will have an erodibility coefficient defined in the `<spl_law>` element of the `XmL` input file.   \n",
    "\n",
    "\n",
    "I guess, in your case, if the idea is to track a rock from a particular catchment you can set the erodibility coefficient to the same values everywhere...\n",
    "\n",
    "An example on how to create these stratigraphic layers is provided in the second notebook part of this folder:\n",
    "+ `buildLayer.ipynb`"
   ]
  },
  {
   "cell_type": "markdown",
   "metadata": {},
   "source": [
    "## Starting badlands\n",
    "\n",
    "First, we initialise the model and set the path to the **XmL** input file:\n",
    "\n",
    "+ **input.xml**\n",
    "\n",
    "> You can edit the **XmL** configuration file directly in the _Jupyter environment_ by clicking on it in the `tree` and changing in the **url** the **view** to **edit**."
   ]
  },
  {
   "cell_type": "code",
   "execution_count": 1,
   "metadata": {
    "scrolled": false
   },
   "outputs": [],
   "source": [
    "from badlands.model import Model as badlandsModel\n",
    "\n",
    "# Initialise model\n",
    "model = badlandsModel()\n",
    "\n",
    "# Define the XmL input file\n",
    "model.load_xml('input.xml')"
   ]
  },
  {
   "cell_type": "markdown",
   "metadata": {},
   "source": [
    "## Running badlands\n",
    "\n",
    "We can run the model for a given period. The end time in the **XmL** input file is set to _100 ky_ but you might want to run the model for a coupled of iterations and check the output before running the model for the entire simulation time. \n",
    "\n",
    "This is done by putting the time in the `run_to_time` function. "
   ]
  },
  {
   "cell_type": "code",
   "execution_count": 2,
   "metadata": {},
   "outputs": [
    {
     "name": "stdout",
     "output_type": "stream",
     "text": [
      "   - Writing outputs (0.25 seconds; tNow = 0.0)\n",
      "   - Write sediment mesh output 1.30 seconds\n",
      "tNow = 2250.0 (step took 0.57 seconds)\n",
      "tNow = 4500.0 (step took 0.58 seconds)\n",
      "   - Writing outputs (0.21 seconds; tNow = 5000.0)\n",
      "   - Write sediment mesh output 1.37 seconds\n",
      "tNow = 7250.0 (step took 0.60 seconds)\n",
      "tNow = 9500.0 (step took 0.68 seconds)\n",
      "   - Writing outputs (0.23 seconds; tNow = 10000.0)\n",
      "   - Write sediment mesh output 1.55 seconds\n",
      "tNow = 12000.0 (step took 0.73 seconds)\n",
      "tNow = 14000.0 (step took 0.64 seconds)\n",
      "   - Writing outputs (0.23 seconds; tNow = 15000.0)\n",
      "   - Write sediment mesh output 1.42 seconds\n",
      "tNow = 17000.0 (step took 0.64 seconds)\n",
      "tNow = 19000.0 (step took 0.70 seconds)\n",
      "   - Writing outputs (0.20 seconds; tNow = 20000.0)\n",
      "   - Write sediment mesh output 1.39 seconds\n",
      "tNow = 22250.0 (step took 0.60 seconds)\n",
      "tNow = 24500.0 (step took 0.60 seconds)\n",
      "   - Writing outputs (0.20 seconds; tNow = 25000.0)\n",
      "   - Write sediment mesh output 1.45 seconds\n",
      "tNow = 27000.0 (step took 0.68 seconds)\n",
      "tNow = 29000.0 (step took 0.61 seconds)\n",
      "   - Writing outputs (0.25 seconds; tNow = 30000.0)\n",
      "   - Write sediment mesh output 1.44 seconds\n",
      "tNow = 32000.0 (step took 0.63 seconds)\n",
      "tNow = 34000.0 (step took 0.65 seconds)\n",
      "   - Writing outputs (0.28 seconds; tNow = 35000.0)\n",
      "   - Write sediment mesh output 1.42 seconds\n",
      "tNow = 37000.0 (step took 0.65 seconds)\n",
      "tNow = 39000.0 (step took 0.69 seconds)\n",
      "   - Writing outputs (0.20 seconds; tNow = 40000.0)\n",
      "   - Write sediment mesh output 1.45 seconds\n",
      "tNow = 42250.0 (step took 0.68 seconds)\n",
      "tNow = 44250.0 (step took 0.63 seconds)\n",
      "   - Writing outputs (0.22 seconds; tNow = 45000.0)\n",
      "   - Write sediment mesh output 1.52 seconds\n",
      "tNow = 47000.0 (step took 0.70 seconds)\n",
      "tNow = 49000.0 (step took 0.60 seconds)\n",
      "   - Writing outputs (0.27 seconds; tNow = 50000.0)\n",
      "   - Write sediment mesh output 1.60 seconds\n",
      "tNow = 52000.0 (step took 0.74 seconds)\n",
      "tNow = 54000.0 (step took 0.71 seconds)\n",
      "   - Writing outputs (0.23 seconds; tNow = 55000.0)\n",
      "   - Write sediment mesh output 1.58 seconds\n",
      "tNow = 57250.0 (step took 0.60 seconds)\n",
      "tNow = 59250.0 (step took 0.72 seconds)\n",
      "   - Writing outputs (0.23 seconds; tNow = 60000.0)\n",
      "   - Write sediment mesh output 1.54 seconds\n",
      "tNow = 62000.0 (step took 0.70 seconds)\n",
      "tNow = 64250.0 (step took 0.61 seconds)\n",
      "   - Writing outputs (0.23 seconds; tNow = 65000.0)\n",
      "   - Write sediment mesh output 1.58 seconds\n",
      "tNow = 67000.0 (step took 0.67 seconds)\n",
      "tNow = 69000.0 (step took 0.68 seconds)\n",
      "   - Writing outputs (0.21 seconds; tNow = 70000.0)\n",
      "   - Write sediment mesh output 1.48 seconds\n",
      "tNow = 72000.0 (step took 0.66 seconds)\n",
      "tNow = 74000.0 (step took 0.64 seconds)\n",
      "   - Writing outputs (0.22 seconds; tNow = 75000.0)\n",
      "   - Write sediment mesh output 1.52 seconds\n",
      "tNow = 77000.0 (step took 0.67 seconds)\n",
      "tNow = 79000.0 (step took 0.64 seconds)\n",
      "   - Writing outputs (0.24 seconds; tNow = 80000.0)\n",
      "   - Write sediment mesh output 1.57 seconds\n",
      "tNow = 82000.0 (step took 0.70 seconds)\n",
      "tNow = 84000.0 (step took 0.65 seconds)\n",
      "   - Writing outputs (0.25 seconds; tNow = 85000.0)\n",
      "   - Write sediment mesh output 1.61 seconds\n",
      "tNow = 87000.0 (step took 0.68 seconds)\n",
      "tNow = 89000.0 (step took 0.62 seconds)\n",
      "   - Writing outputs (0.23 seconds; tNow = 90000.0)\n",
      "   - Write sediment mesh output 1.58 seconds\n",
      "tNow = 92000.0 (step took 0.63 seconds)\n",
      "tNow = 93750.0 (step took 0.85 seconds)\n",
      "   - Writing outputs (0.22 seconds; tNow = 95000.0)\n",
      "   - Write sediment mesh output 1.52 seconds\n",
      "tNow = 97000.0 (step took 0.70 seconds)\n",
      "tNow = 98750.0 (step took 0.70 seconds)\n",
      "tNow = 100000.0 (0.76 seconds)\n",
      "   - Writing outputs (0.25 seconds; tNow = 100000.0)\n"
     ]
    }
   ],
   "source": [
    "model.run_to_time(100000)"
   ]
  },
  {
   "cell_type": "markdown",
   "metadata": {
    "collapsed": true
   },
   "source": [
    "## Stratigraphic mesh\n",
    "\n",
    "Once the model has finished you will need to build the stratigraphic mesh. The following cells are used for this purpose... again depending of the size of your model this can be really slow..."
   ]
  },
  {
   "cell_type": "code",
   "execution_count": null,
   "metadata": {},
   "outputs": [],
   "source": [
    "from scripts import stratiMesh as strati"
   ]
  },
  {
   "cell_type": "markdown",
   "metadata": {},
   "source": [
    "The stratigraphic mesh will be store in the same folder as your output file (defined in the `XmL` input file) and will be call using the given `xdmfName` (in the example below: `stratal_series`). The newly created xdmf file can be open in `Paraview` like the tin.series and flow.series files... \n",
    "\n",
    "First we initialise the function:"
   ]
  },
  {
   "cell_type": "code",
   "execution_count": null,
   "metadata": {},
   "outputs": [],
   "source": [
    "mesh = strati.stratiMesh(folder='multiplerocks', xdmfName = 'stratal_series', layperstep=1, dispTime=5000.)"
   ]
  },
  {
   "cell_type": "markdown",
   "metadata": {},
   "source": [
    "Then we create the stratigraphic mesh for each stratigraphic layers:"
   ]
  },
  {
   "cell_type": "code",
   "execution_count": null,
   "metadata": {},
   "outputs": [],
   "source": [
    "mesh.outputSteps(startTime=0.,endTime=100000.)"
   ]
  },
  {
   "cell_type": "code",
   "execution_count": null,
   "metadata": {},
   "outputs": [],
   "source": []
  }
 ],
 "metadata": {
  "kernelspec": {
   "display_name": "Python 3",
   "language": "python",
   "name": "python3"
  },
  "language_info": {
   "codemirror_mode": {
    "name": "ipython",
    "version": 3
   },
   "file_extension": ".py",
   "mimetype": "text/x-python",
   "name": "python",
   "nbconvert_exporter": "python",
   "pygments_lexer": "ipython3",
   "version": "3.5.3"
  }
 },
 "nbformat": 4,
 "nbformat_minor": 1
}
