{
 "cells": [
  {
   "cell_type": "markdown",
   "metadata": {
    "collapsed": true
   },
   "source": [
    "# Circular landforms\n",
    "\n",
    "\n",
    "|<img src=\"images/circular_form.png\" alt=\"circular landform\" width=\"350\" height=\"200\"/>| <img src=\"images/tin.png\" alt=\"model mesh\" width=\"350\" height=\"200\"/> |\n",
    "|:-:|:-:|\n",
    "|circular landform|Badlands surface|\n",
    "\n",
    "Left figure shows a _satellite image draped over a topographic model of Kondyor Massif, Russia. [Credit: NASA/GSFC/METI/ERSDAC/JAROS, and U.S./Japan ASTER Science Team]_\n",
    "\n",
    "The above circular landform is neither a crater nor a volcano, have a look at this [post](http://space.gizmodo.com/this-is-not-a-crater-so-what-is-it-1677228983) for an explanation of its formation.  \n",
    "\n",
    "<div class=\"alert alert-block alert-info\">\n",
    "In this example, we analyse a <b>central pit crater</b> geomorphological evolution over 200k years induced by an uniform precipitation (1 m/a). \n",
    "</div>\n",
    "\n",
    "Central pit craters are a crater type that contains an approximately circular depression in their central peak. These craters have been found on _Earth_, _Mars_ or _Ganymede_. Here we use their typical shape to perform a high resolution simulation using Badlands.\n",
    "\n",
    "The initial grid has an approximate resolution of _10_ m and consists of a _2.5_ by _2.5_ km circular crater of _570_ m high with a central pit of _380_ m depth.\n",
    "\n",
    "\n",
    "> [**Harrat Khaybar, one of Saudi Arabia's largest volcanic fields**](https://volcano.si.edu/volcano.cfm?vn=231060) \n",
    "<img src=\"https://volcano.si.edu/Photos/full/119005.jpg\" alt=\"Harrat Khaybar\" width=\"350\" height=\"200\"/>\n",
    "\n",
    "\n",
    "## Initial settings\n",
    "\n",
    "For this model, we use the *stream power law sediment transport model* which scale the incision rate $E$ as a power function of surface water discharge $A$ and slope $S=\\nabla z$:\n",
    "\n",
    "$$ E = \\kappa A^m (\\nabla z)^n$$\n",
    "\n",
    "where $\\kappa$ is the erodibility coefficient dependent on lithology and mean precipitation rate, channel width, flood frequency, channel hydraulics.\n",
    "\n",
    "The values given to these parameters ($\\kappa$, $m$, $n$) need to be set in the **XmL** input file. \n",
    "\n",
    "### Depression filling method\n",
    "\n",
    "To handle depression in this version of **Badlands** (v 2.0.) we use a modified version of Planchon & Darboux depression-filling algorithm. In this approach the time step is automatically adjust in order to ensure stability and to prevent formation of depositional mount. The method consists in filling depressions with lakes of user-imposed maximum depth (parameter **fillmax**) and simulating the filling of the lake as an iterative process.\n",
    "\n",
    "## Starting badlands\n",
    "\n",
    "First we initialise the model and set the path to the **XmL** input file.\n",
    "\n",
    "\n",
    "> You can edit the **XmL** configuration file at [crater.xml](crater.xml) by changing the url from:\n",
    "+ http://localhost:32771/files/share/.../crater.xml to \n",
    "+ http://localhost:32771/edit/share/.../crater.xml\n",
    "where `files` has been modified to `edit`. \n",
    "\n",
    "\n",
    "<div class=\"alert alert-block alert-success\">To view the complete <b>XmL</b> options you can look at the documentation: <a href=\"https://badlands.readthedocs.io/en/latest/xml.html\"><b>badlands readthedoc</b></a>.</div>"
   ]
  },
  {
   "cell_type": "code",
   "execution_count": null,
   "metadata": {
    "scrolled": true
   },
   "outputs": [],
   "source": [
    "from badlands.model import Model as badlandsModel\n",
    "\n",
    "# initialise model\n",
    "model = badlandsModel()\n",
    "# Define the XmL input file\n",
    "model.load_xml('crater.xml')"
   ]
  },
  {
   "cell_type": "markdown",
   "metadata": {},
   "source": [
    "## Running badlands\n",
    "\n",
    "We can run the model for a given period. The end time in the **XmL** input file is set to _200k years_ but you might want to run the model for a coupled of iterations and check the output before running the model for the entire simulation time. \n",
    "\n",
    "This is done by putting the time in the `run_to_time` function. \n",
    "\n",
    "Here we go for the full time directly... "
   ]
  },
  {
   "cell_type": "code",
   "execution_count": null,
   "metadata": {
    "scrolled": false
   },
   "outputs": [],
   "source": [
    "model.run_to_time(200000)"
   ]
  },
  {
   "cell_type": "markdown",
   "metadata": {},
   "source": [
    "# Visualise in Paraview\n",
    "\n",
    "For an in-depth visualisation of the model output it is recommended to install on your local machine a visualisation package such as [Paraview](http://www.paraview.org) or [Visit](https://wci.llnl.gov/simulation/computer-codes/visit/).\n",
    "\n",
    "**Badlands** outputs are created in the directory you've specified in your **XmL** input file. In cases where you have ran several instances of the same input you will end up with multiple directories with the same name followed with the simulation number.\n",
    "\n",
    "The folder contains xdmf series files:\n",
    "+ **tin.series.xdmf** which will display the time series of surface evolution.\n",
    "+ **flow.series.xdmf** which will display the time series of drainage network evolution.\n",
    "\n",
    "### Elevation change\n",
    "\n",
    "The stream power law implies the infill of the crater pit with alluvial fan deposits, whereas the crater rim gradually backwastes while maintaining a generally steep slope.\n",
    "\n",
    "Both the backwasting and the downcutting of the crater rim occur, so that in later stages of erosion (after _100k_ years the crater becomes rimless).\n",
    "\n",
    "\n",
    "| Time step 20| Time step 50 | \n",
    "| :-------------: |:-------------:|\n",
    "| <img src=\"images/step20.png\" alt=\"Step 20\" width=\"400\" height=\"300\" border=\"10\" />| <img src=\"images/step50.png\" alt=\"Step 50\" width=\"400\" height=\"300\" border=\"10\" /> | \n",
    "\n",
    "| Time step 100| Time step 200| \n",
    "| :-------------: |:-------------:|\n",
    "| <img src=\"images/step100.png\" alt=\"Step 100\" width=\"400\" height=\"300\" border=\"10\" /> | <img src=\"images/step200.png\" alt=\"Step 200\" width=\"400\" height=\"300\" border=\"10\" />|\n",
    "\n",
    "### Crater infilling\n",
    "\n",
    "Degradation of craters by fluvial erosion and deposition in this simulation result in rapid initial infilling but a slowing rate through time due to:\n",
    "\n",
    "+ the decreasing height of interior crater walls and \n",
    "+ the increasing area of deposition as the crater enlarges due to crater wall erosion. \n",
    "\n",
    "<div align=\"center\">\n",
    "    <img src=\"images/fill.png\" alt=\"crater infilling\" width=\"800\" height=\"800\"/>\n",
    "</div>"
   ]
  },
  {
   "cell_type": "code",
   "execution_count": null,
   "metadata": {},
   "outputs": [],
   "source": []
  }
 ],
 "metadata": {
  "kernelspec": {
   "display_name": "Python 3",
   "language": "python",
   "name": "python3"
  },
  "language_info": {
   "codemirror_mode": {
    "name": "ipython",
    "version": 3
   },
   "file_extension": ".py",
   "mimetype": "text/x-python",
   "name": "python",
   "nbconvert_exporter": "python",
   "pygments_lexer": "ipython3",
   "version": "3.5.3"
  }
 },
 "nbformat": 4,
 "nbformat_minor": 1
}
