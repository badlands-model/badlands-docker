{
 "cells": [
  {
   "cell_type": "markdown",
   "metadata": {},
   "source": [
    "# Combined surface and stratigraphic evolution  \n",
    "\n",
    "We will simulate 6 Ma of evolution of the region that we created in the `inputGen` notebooks. \n",
    "\n",
    "Our input file integrates linear hillslope diffusion and river incision by means of the stream power law (_default fluvial incision_ -- **detachment-limited**), allowing for balanced sediment transport and deposition under varying tectonic and climatic forcings. \n",
    "\n",
    "\n",
    "Erosion rate $\\dot{\\epsilon}$ depends on drainage area $A$, net precipitation $P$ and local slope $S$ and takes the form:\n",
    "\n",
    "$\\dot{\\epsilon}=\\kappa_{d} P^l (PA)^m S^n$\n",
    "\n",
    "$\\kappa_{d}$ is a dimensional coefficient describing the erodibility of the channel bed as a function of rock strength, bed roughness and climate, $l$, $m$ and $n$ are dimensionless positive constants. \n",
    "\n",
    "Default formulation assumes $l=0$, $m=0.5$ and $n=1$. The precipitation exponent $l$ allows for representation of climate-dependent chemical weathering of river bed across non-uniform rainfall.\n",
    "\n",
    "In our simulation, we assume that:\n",
    "\n",
    "+ $l=0$, $m=0.5$ and $n=1$\n",
    "+ $\\kappa_{d} = 2.e^{-6}$\n",
    "\n",
    "> This value of $\\kappa_{d}$ will only be used for already mobilised sediment as we also impose underlying erodibility layers in this example. \n",
    "\n",
    "We also turn on the record of stratigraphic layers using a resolution for the grid of 2 km and a time interval for each layer of 100 ka. "
   ]
  },
  {
   "cell_type": "code",
   "execution_count": null,
   "metadata": {},
   "outputs": [],
   "source": [
    "from badlands.model import Model as badlandsModel"
   ]
  },
  {
   "cell_type": "markdown",
   "metadata": {},
   "source": [
    "## Starting badlands\n",
    "\n",
    "First, we initialise the model and set the path to the **XmL** input file:\n",
    "\n",
    "+ **strati.xml**\n",
    "\n",
    "> You can edit the **XmL** configuration file directly in the _Jupyter environment_ by clicking on it in the `tree` and changing in the **url** the **view** to **edit**."
   ]
  },
  {
   "cell_type": "code",
   "execution_count": null,
   "metadata": {
    "scrolled": true
   },
   "outputs": [],
   "source": [
    "model = badlandsModel()\n",
    "model.load_xml('strati.xml')"
   ]
  },
  {
   "cell_type": "markdown",
   "metadata": {},
   "source": [
    "## Running badlands\n",
    "\n",
    "We can run the model for a given period. The end time in the **XmL** input file is set to _6 Ma_ but you might want to run the model for a coupled of iterations and check the output before running the model for the entire simulation time. This is done by putting the time in the **run_to_time** function. \n",
    "\n",
    "Here we go for the full time directly..."
   ]
  },
  {
   "cell_type": "code",
   "execution_count": null,
   "metadata": {
    "scrolled": true
   },
   "outputs": [],
   "source": [
    "model.run_to_time(6000000)"
   ]
  },
  {
   "cell_type": "code",
   "execution_count": null,
   "metadata": {},
   "outputs": [],
   "source": []
  },
  {
   "cell_type": "code",
   "execution_count": null,
   "metadata": {},
   "outputs": [],
   "source": []
  }
 ],
 "metadata": {
  "kernelspec": {
   "display_name": "Python 3",
   "language": "python",
   "name": "python3"
  },
  "language_info": {
   "codemirror_mode": {
    "name": "ipython",
    "version": 3
   },
   "file_extension": ".py",
   "mimetype": "text/x-python",
   "name": "python",
   "nbconvert_exporter": "python",
   "pygments_lexer": "ipython3",
   "version": "3.5.3"
  }
 },
 "nbformat": 4,
 "nbformat_minor": 1
}
