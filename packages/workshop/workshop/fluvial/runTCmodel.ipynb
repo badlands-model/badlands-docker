{
 "cells": [
  {
   "cell_type": "markdown",
   "metadata": {},
   "source": [
    "# Testing the Tool & Cover approach\n",
    "\n",
    "Our second simulation uses the Tool & cover approach, which is one of the **transport-limited models** available in Badlands. \n",
    "\n",
    "Here, volumetric sediment transport capacity ($Q_t$) is defined using a power law function of unit stream power:\n",
    "\n",
    "$Q_t=\\kappa_{t} (PA)^{m_t} S^{n_t}$\n",
    "\n",
    "where $\\kappa_{t}$ is a dimensional coefficient describing the transportability of channel sediment and $m_t$ and $n_t$ are dimensionless positive constants. In equation above, the threshold of motion (the critical shear stress) is assumed to be negligible.\n",
    "\n",
    "An additional term is now introduced in the stream power model:\n",
    "\n",
    "$\\dot{\\epsilon}=\\kappa_{tc} f(Q_s) (PA)^m S^n$\n",
    "\n",
    "with $f(Q_{s})$ representing a variety of plausible models for the dependence of river incision rate on sediment flux. In the standard detachment-limited, $f(Q_{s})$ is equal to unity, which corresponds to cases where $Q_{s} \\ll Q_{t}$. Where sediment flux equals or exceeds transport capacity ($Q_s/Q_t \\ge 1$) the system is by definition transport-limited (and  depositional if $Q_s/Q_t > 1$).\n",
    "\n",
    "***\n",
    "\n",
    "<img src=\"images/toolcover.jpg\" alt=\"geometry\" width=\"800\" height=\"700\"/>\n",
    "\n",
    "***\n",
    "\n",
    "For this example, we will be using the **almost parabolic** approach. \n",
    "\n",
    "Both qualitative and experimental observations have shown that sediment flux has a dual role in the erosion process. First, when sediment flux is low relative to capacity, erosion potential increases with sediment flux (_tool effect_: bedrock abrasion and plucking). Then, with increased sediment flux, erosion is inhibited (_cover effect_: sediments protect the bed from impacts by saltating particles). Following Gasparini et al. (2007), we adopt a parabolic form that reaches a maximum at $Q_s/Q_t = 1/2$ (Sklar et al., 2006):\n",
    "\n",
    "\\begin{eqnarray}\n",
    " \\label{eq:schemeP}\n",
    " \tf(Q_s)=1-4\\left(\\frac{Q_s}{Q_t}-0.5\\right)^2 \\,\\,\\,\\, \\mathrm{if} \\,\\,\\,\\, Q_s/Q_t >0.1, \\nonumber \\\\\n",
    "   f(Q_s)=2.6 \\frac{Q_s}{Q_t}+0.1 \\,\\,\\,\\, \\mathrm{if} \\,\\,\\,\\, Q_s/Q_t \\leq 0.1\n",
    "\\end{eqnarray}"
   ]
  },
  {
   "cell_type": "markdown",
   "metadata": {},
   "source": [
    "In our example, we assume that:\n",
    "\n",
    "+ $m_t=1.5$ and $n_t=1$\n",
    "+ $\\kappa_{tc} = 5.e^{-6}$\n",
    "+ $\\kappa_{t} = 5.e^{-4}$"
   ]
  },
  {
   "cell_type": "code",
   "execution_count": null,
   "metadata": {
    "scrolled": true
   },
   "outputs": [],
   "source": [
    "from badlands.model import Model as badlandsModel"
   ]
  },
  {
   "cell_type": "markdown",
   "metadata": {},
   "source": [
    "## Starting badlands\n",
    "\n",
    "First, we initialise the model and set the path to the **XmL** input file:\n",
    "\n",
    "+ **toolcover.xml**\n",
    "\n",
    "You can edit the **XmL** configuration file directly in the _Jupyter environment_ by clicking on it in the `tree` and changing in the **url** the **view** to **edit**.\n",
    "\n",
    "Note the differences with the **spl.xml** input file."
   ]
  },
  {
   "cell_type": "code",
   "execution_count": null,
   "metadata": {},
   "outputs": [],
   "source": [
    "# Initialise model\n",
    "model = badlandsModel()\n",
    "# Define the XmL input file\n",
    "model.load_xml('toolcover.xml')"
   ]
  },
  {
   "cell_type": "markdown",
   "metadata": {},
   "source": [
    "## Running badlands\n",
    "\n",
    "We can run the model for a given period. The end time in the **XmL** input file is set to _10 My_ but you might want to run the model for a coupled of iterations and check the output before running the model for the entire simulation time. This is done by putting the time in the **run_to_time** function. \n",
    "\n",
    "Here we go for the full time directly... this simulation is going to run slower than the SPL one mainly due to the fact that we need to limit the time step to ensure erosion/deposition law numerical stability."
   ]
  },
  {
   "cell_type": "code",
   "execution_count": null,
   "metadata": {
    "scrolled": true
   },
   "outputs": [],
   "source": [
    "model.run_to_time(10000000)"
   ]
  },
  {
   "cell_type": "code",
   "execution_count": null,
   "metadata": {},
   "outputs": [],
   "source": []
  }
 ],
 "metadata": {
  "kernelspec": {
   "display_name": "Python 3",
   "language": "python",
   "name": "python3"
  },
  "language_info": {
   "codemirror_mode": {
    "name": "ipython",
    "version": 3
   },
   "file_extension": ".py",
   "mimetype": "text/x-python",
   "name": "python",
   "nbconvert_exporter": "python",
   "pygments_lexer": "ipython3",
   "version": "3.5.3"
  }
 },
 "nbformat": 4,
 "nbformat_minor": 1
}
