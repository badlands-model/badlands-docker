{
 "cells": [
  {
   "cell_type": "markdown",
   "metadata": {},
   "source": [
    "# Landscape dynamics analyse\n",
    "\n",
    "Using model outputs, we now track the evolution of erosion rate together with the evolution of topography, summarized by changes in the minimum, mean, and highest elevations of two diagnostic areas. \n",
    "\n",
    "These include the residual reliefs, annular stretches of low-relief surfaces around the residual reliefs, and low-relief surface, located farther afield and away from the influence of the residual relief, of similar extent and position with respect to the drainage divide.\n",
    "\n",
    "\n",
    "***\n",
    "\n",
    "<img src=\"images/analyse.jpg\" alt=\"geometry\" width=\"800\" height=\"400\"/>\n"
   ]
  },
  {
   "cell_type": "code",
   "execution_count": null,
   "metadata": {},
   "outputs": [],
   "source": [
    "import warnings\n",
    "warnings.filterwarnings('ignore')\n",
    "warnings.simplefilter(action = \"ignore\", category = FutureWarning)\n",
    "\n",
    "from scripts import analyseTopo as analyse\n",
    "\n",
    "# display plots in SVG format\n",
    "%config InlineBackend.figure_format = 'svg'\n",
    "%matplotlib inline"
   ]
  },
  {
   "cell_type": "markdown",
   "metadata": {},
   "source": [
    "## Loading the dataset\n",
    "\n",
    "First we pick the output folder name:"
   ]
  },
  {
   "cell_type": "code",
   "execution_count": null,
   "metadata": {},
   "outputs": [],
   "source": [
    "foldername = 'TCmodel'"
   ]
  },
  {
   "cell_type": "markdown",
   "metadata": {},
   "source": [
    "We then read and extract the relevant information for the desired regions. We define first the region around the island and then the reference region. These 2 regions are defined with a central area (which has a radius close the initial mount) and a annulus area corresponding to the plateau facing the central region.\n",
    "\n",
    "Here we use the following variable:\n",
    "\n",
    "+ definition of the **central** region: island center: [75000.,25000.]; reference center: [30000.,25000.]; radius: 2250.\n",
    "+ definition of the **surrounding** plateau region: 10000."
   ]
  },
  {
   "cell_type": "code",
   "execution_count": null,
   "metadata": {},
   "outputs": [],
   "source": [
    "time,island,plateau = analyse.readDataset(folder=foldername, isldPos=[75000.,25000.],isldRadius=2250., \n",
    "                                     refPos=[30000.,25000.], pltRadius=10000)"
   ]
  },
  {
   "cell_type": "markdown",
   "metadata": {},
   "source": [
    "## Plotting the analysed metrics\n",
    "\n",
    "#### Analysing elevation change through time\n",
    "\n",
    "***"
   ]
  },
  {
   "cell_type": "code",
   "execution_count": null,
   "metadata": {},
   "outputs": [],
   "source": [
    "analyse.elevationChange('model T&C',time,island,plateau,figsave=None)"
   ]
  },
  {
   "cell_type": "markdown",
   "metadata": {},
   "source": [
    "#### Analysing cumulative erosion change through time\n",
    "\n",
    "***"
   ]
  },
  {
   "cell_type": "code",
   "execution_count": null,
   "metadata": {},
   "outputs": [],
   "source": [
    "analyse.cumulativeErosion('model T&C',time,island,plateau,figsave=None)"
   ]
  },
  {
   "cell_type": "markdown",
   "metadata": {},
   "source": [
    "#### Analysing erosion rate through time\n",
    "\n",
    "***"
   ]
  },
  {
   "cell_type": "code",
   "execution_count": null,
   "metadata": {},
   "outputs": [],
   "source": [
    "analyse.erosionRate('model T&C',time,island,plateau,figsave=None)"
   ]
  },
  {
   "cell_type": "code",
   "execution_count": null,
   "metadata": {},
   "outputs": [],
   "source": []
  }
 ],
 "metadata": {
  "kernelspec": {
   "display_name": "Python 3",
   "language": "python",
   "name": "python3"
  },
  "language_info": {
   "codemirror_mode": {
    "name": "ipython",
    "version": 3
   },
   "file_extension": ".py",
   "mimetype": "text/x-python",
   "name": "python",
   "nbconvert_exporter": "python",
   "pygments_lexer": "ipython3",
   "version": "3.5.3"
  }
 },
 "nbformat": 4,
 "nbformat_minor": 1
}
