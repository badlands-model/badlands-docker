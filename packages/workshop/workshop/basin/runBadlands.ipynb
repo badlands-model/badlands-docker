{
 "cells": [
  {
   "cell_type": "markdown",
   "metadata": {},
   "source": [
    "# A simple basin filling\n",
    "\n",
    "This example shows the filling of a small-scale basin induced simply by an uniform precipitation and sea level change. \n",
    "\n",
    "The initial grid is a depression surface scaled by _30_ km by _30_ km with a resolution of _100_ m. The elevation ranges from _-100_ m to _300_ m. This case runs to _1000k_ years with an output interval of _10k_ year. A uniform precipitation rate of _3_ m/a is applied to the whole area. The sea-level is simply modelled using a sine curve. \n",
    "\n",
    "|<img src=\"images/geometry.png\" alt=\"geometry\" width=\"400\" height=\"200\"/>| <img src=\"images/sealevel.png\" alt=\"sea level\" width=\"250\" height=\"200\"/> |\n",
    "|:-:|:-:|\n",
    "|Initial surface (black lines are initial shoreline positions)|Sea level curve|\n",
    "\n",
    "In this case, we will present the workflow of stratal analysis of the depositional architecture. The stratal stacking petterns will be produced firstly, based on which the Wheeler diagram and \"well logs\" will then be obtained. In addition, three analysis methods can be applied to interpret the resulting stratigraphic sequences."
   ]
  },
  {
   "cell_type": "markdown",
   "metadata": {},
   "source": [
    "# 1. Generate the topographic grid\n",
    "\n",
    "Here, we use a sine wave function to generate the node file of the initial surface.\n",
    "\n",
    "The file provides for each line the following information:\n",
    "+ X coordinates in meters (this axis has a West to East orientation),\n",
    "+ Y coordinates in meters (this axis has a South to West orientation), \n",
    "+ Z coordinates in meters.\n",
    "\n",
    "**Note:** Nodes must be defined in increasing order from the South/West corner, first along the X axis.\n",
    "\n",
    "We create a sea level curve from scratch."
   ]
  },
  {
   "cell_type": "code",
   "execution_count": null,
   "metadata": {},
   "outputs": [],
   "source": [
    "%matplotlib inline\n",
    "\n",
    "# Import badlands grid generation toolbox\n",
    "import badlands_companion.toolGeo as simple\n",
    "\n",
    "# display plots in SVG format\n",
    "%config InlineBackend.figure_format = 'svg' "
   ]
  },
  {
   "cell_type": "markdown",
   "metadata": {},
   "source": [
    "We first initialize the extent of the simulation area.\n",
    "\n",
    "The function takes 3 arguments:\n",
    "+ the extent of the domain along the X-axis [xmin,xmax] in metres,\n",
    "+ the extent of the domain along the Y-axis [ymin,ymax] in metres,\n",
    "+ the grid spacing `dx` in metres."
   ]
  },
  {
   "cell_type": "code",
   "execution_count": null,
   "metadata": {},
   "outputs": [],
   "source": [
    "# help(simple.toolGeo.__init__)\n",
    "wave = simple.toolGeo(extentX=[0.,30000.], extentY=[0.,30000.], dx=100.)"
   ]
  },
  {
   "cell_type": "markdown",
   "metadata": {},
   "source": [
    "We create a wave by defining 3 parameters:\n",
    "\n",
    "+ the amplitude of the wave: A in metres,\n",
    "+ the period of the wave: P in metres,\n",
    "+ the base of the cumulative displacement in metres,\n",
    "+ the center of the wave.\n",
    "+ the axis used to build the wave function (either the X or Y axis)\n",
    "\n",
    "For more information regarding the function uncomment the following cell."
   ]
  },
  {
   "cell_type": "code",
   "execution_count": null,
   "metadata": {},
   "outputs": [],
   "source": [
    "# help(wave.buildWave)\n",
    "wave.Z = wave.buildWave(A=-400., P=30000., base=300., xcenter=15000.)"
   ]
  },
  {
   "cell_type": "code",
   "execution_count": null,
   "metadata": {},
   "outputs": [],
   "source": [
    "# It is possible to have a look at the grid surface \n",
    "# using **plotly** library before proceeding to the creation of the badlands surface.\n",
    "# \n",
    "# help(tecwave.dispView)\n",
    "wave.viewGrid(width=600, height=600, zmin=-500, zmax=500, zData=wave.Z, title='Export Grid')"
   ]
  },
  {
   "cell_type": "markdown",
   "metadata": {},
   "source": [
    "Once the surface has been generated, we export a **CSV** regular grid that will be loaded in the simulation."
   ]
  },
  {
   "cell_type": "code",
   "execution_count": null,
   "metadata": {},
   "outputs": [],
   "source": [
    "# help(wave.buildGrid)\n",
    "wave.buildGrid(elevation=wave.Z, nameCSV='data/node')"
   ]
  },
  {
   "cell_type": "markdown",
   "metadata": {},
   "source": [
    "# 2. Building sea-level curve\n",
    "\n",
    "The file (**CSV format**) provides for each line the following information:\n",
    "* Time in years,\n",
    "* Sea-level elevation for the considered time in meters.\n",
    "\n",
    "In addition, the defined fluctuation times should be set in **increasing order starting from the oldest time**.\n",
    "\n",
    "We create a sea level curve from scratch. For more details please refer to [/workspace/companion/seaLevel.ipynb](/workspace/companion/seaLevel.ipynb)."
   ]
  },
  {
   "cell_type": "code",
   "execution_count": null,
   "metadata": {},
   "outputs": [],
   "source": [
    "%matplotlib inline\n",
    "\n",
    "# Import badlands grid generation toolbox\n",
    "import badlands_companion.toolSea as tools\n",
    "\n",
    "# display plots in SVG format\n",
    "%config InlineBackend.figure_format = 'svg'"
   ]
  },
  {
   "cell_type": "code",
   "execution_count": null,
   "metadata": {},
   "outputs": [],
   "source": [
    "sea = tools.toolSea()\n",
    "sea.buildCurve(timeExt = [0.,1000000.], timeStep = 10000., seaExt = [0.,0.], \n",
    "                   ampExt = [20.,20.], periodExt = [500000.,500000.])\n",
    "# Visualize\n",
    "sea.plotCurves(fsize=(4,5), figName = 'Sea level')"
   ]
  },
  {
   "cell_type": "code",
   "execution_count": null,
   "metadata": {},
   "outputs": [],
   "source": [
    "# Export the sea-level file  to the data folder\n",
    "sea.exportCurve(nameCSV='data/sealevel_1myr')"
   ]
  },
  {
   "cell_type": "markdown",
   "metadata": {},
   "source": [
    "# 3. Running badlands\n",
    "\n",
    "We can run the model for a given period. The end time in the **XmL** input file is set to _500k years_ but you might want to run the model for a coupled of iterations and check the output before running the model for the entire simulation time. \n",
    "\n",
    "This is done by putting the time in the `run_to_time` function. \n",
    "\n",
    "Here we go for the full time directly... "
   ]
  },
  {
   "cell_type": "code",
   "execution_count": null,
   "metadata": {
    "scrolled": true
   },
   "outputs": [],
   "source": [
    "from badlands.model import Model as badlandsModel\n",
    "\n",
    "# initialise model\n",
    "model = badlandsModel()\n",
    "# Define the XmL input file\n",
    "model.load_xml('basin.xml')"
   ]
  },
  {
   "cell_type": "code",
   "execution_count": null,
   "metadata": {
    "scrolled": true
   },
   "outputs": [],
   "source": [
    "model.run_to_time(1000000)"
   ]
  },
  {
   "cell_type": "code",
   "execution_count": null,
   "metadata": {},
   "outputs": [],
   "source": []
  },
  {
   "cell_type": "code",
   "execution_count": null,
   "metadata": {},
   "outputs": [],
   "source": []
  }
 ],
 "metadata": {
  "kernelspec": {
   "display_name": "Python 3",
   "language": "python",
   "name": "python3"
  },
  "language_info": {
   "codemirror_mode": {
    "name": "ipython",
    "version": 3
   },
   "file_extension": ".py",
   "mimetype": "text/x-python",
   "name": "python",
   "nbconvert_exporter": "python",
   "pygments_lexer": "ipython3",
   "version": "3.5.3"
  }
 },
 "nbformat": 4,
 "nbformat_minor": 1
}
