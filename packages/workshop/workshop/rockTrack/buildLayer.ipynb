{
 "cells": [
  {
   "cell_type": "markdown",
   "metadata": {},
   "source": [
    "# Assign layers with specific thicknesses and rocktypes\n",
    "\n",
    "We set the dimension of the map based on the requested dimension from **Badlands XmL** input file."
   ]
  },
  {
   "cell_type": "code",
   "execution_count": null,
   "metadata": {},
   "outputs": [],
   "source": [
    "import warnings\n",
    "warnings.filterwarnings('ignore')\n",
    "warnings.simplefilter(action = \"ignore\", category = FutureWarning)\n",
    "\n",
    "import matplotlib\n",
    "import cmocean as cmo\n",
    "from matplotlib import cm\n",
    "\n",
    "import numpy as np\n",
    "import pandas as pd\n",
    "import matplotlib.pyplot as plt\n",
    "\n",
    "from mpl_toolkits.axes_grid1 import make_axes_locatable\n",
    "\n",
    "label_size = 8\n",
    "matplotlib.rcParams['xtick.labelsize'] = label_size \n",
    "matplotlib.rcParams['ytick.labelsize'] = label_size\n",
    "\n",
    "\n",
    "# display plots in SVG format\n",
    "%config InlineBackend.figure_format = 'svg'\n",
    "%matplotlib inline"
   ]
  },
  {
   "cell_type": "markdown",
   "metadata": {},
   "source": [
    "## 1- Reading surface file\n",
    "\n",
    "We first read the input topographic file given to **Badlands**"
   ]
  },
  {
   "cell_type": "code",
   "execution_count": null,
   "metadata": {},
   "outputs": [],
   "source": [
    "xyzfile = 'data/deltaHR.csv'\n",
    "xyz = pd.read_csv(xyzfile, sep=r'\\s+', engine='c', header=None, \n",
    "                  na_filter=False, dtype=np.float, low_memory=False)\n",
    "\n",
    "xr = xyz.values[:,0]\n",
    "yr = xyz.values[:,0]\n",
    "dx = xr[1]-xr[0]\n",
    "\n",
    "nx = int((xr[-1]-xr[0])/dx)+1\n",
    "ny = int((yr[-1]-yr[0])/dx)+1\n",
    "\n",
    "assert nx*ny==len(xr), 'Values not matching'\n",
    "\n",
    "xm = xr.reshape((nx,ny),order='F')\n",
    "ym = yr.reshape((nx,ny))\n",
    "\n",
    "print('Regular grid resolution:',nx,ny)"
   ]
  },
  {
   "cell_type": "markdown",
   "metadata": {},
   "source": [
    "## 2- Creating one thickness, one rock type layer\n",
    "\n",
    "In its most simple form a layer will be composed of an uniform thickness and only one rock type.\n",
    "\n",
    "In the example below we use a thickness of 250 m and we define a unique rock ID equals to 0"
   ]
  },
  {
   "cell_type": "code",
   "execution_count": null,
   "metadata": {},
   "outputs": [],
   "source": [
    "layth = 250.\n",
    "rockID = 0\n",
    "\n",
    "th = np.zeros(len(xr),dtype=float)\n",
    "rock = np.zeros(len(xr),dtype=int)\n",
    "\n",
    "th.fill(layth)\n",
    "rock.fill(rockID)"
   ]
  },
  {
   "cell_type": "markdown",
   "metadata": {},
   "source": [
    "The input file that baldands will read will be of the following format:"
   ]
  },
  {
   "cell_type": "code",
   "execution_count": null,
   "metadata": {},
   "outputs": [],
   "source": [
    "df = pd.DataFrame({'thickness':th,'rockID':rock},columns=['thickness','rockID'])\n",
    "df.head()"
   ]
  },
  {
   "cell_type": "markdown",
   "metadata": {},
   "source": [
    "We save the file in the data folder:"
   ]
  },
  {
   "cell_type": "code",
   "execution_count": null,
   "metadata": {},
   "outputs": [],
   "source": [
    "df.to_csv('data/thlay0.csv',columns=['thickness','rockID'], sep=' ', index=False ,header=0)"
   ]
  },
  {
   "cell_type": "markdown",
   "metadata": {},
   "source": [
    "## 2- Creating one thickness, multiple rock types layer\n",
    "\n",
    "To define multiple rock types, you can simply do like this... obviously this is a super simple example"
   ]
  },
  {
   "cell_type": "code",
   "execution_count": null,
   "metadata": {},
   "outputs": [],
   "source": [
    "layth = 250.\n",
    "\n",
    "th = np.zeros(len(xr),dtype=float)\n",
    "th.fill(layth)\n",
    "\n",
    "rock = np.zeros((nx,ny),dtype=int)\n",
    "\n",
    "rock[:240,:] = 0\n",
    "rock[240:,:] = 1"
   ]
  },
  {
   "cell_type": "code",
   "execution_count": null,
   "metadata": {},
   "outputs": [],
   "source": [
    "df = pd.DataFrame({'thickness':th,'rockID':rock.flatten(order='F')},columns=['thickness','rockID'])\n",
    "df.head()"
   ]
  },
  {
   "cell_type": "markdown",
   "metadata": {},
   "source": [
    "Looks like this"
   ]
  },
  {
   "cell_type": "code",
   "execution_count": null,
   "metadata": {},
   "outputs": [],
   "source": [
    "fig = plt.figure(1, figsize=(6,6))\n",
    "\n",
    "ax = plt.gca()\n",
    "im = ax.imshow(rock, interpolation='nearest', cmap='RdBu_r',\n",
    "                 vmin=-1, vmax=2)\n",
    "divider = make_axes_locatable(ax)\n",
    "cax = divider.append_axes(\"right\", size=\"3%\", pad=0.1)\n",
    "cbar = plt.colorbar(im,cax=cax)\n",
    "plt.tight_layout()\n",
    "\n",
    "plt.show()\n",
    "plt.close(fig)"
   ]
  },
  {
   "cell_type": "code",
   "execution_count": null,
   "metadata": {},
   "outputs": [],
   "source": [
    "df.to_csv('data/thlay1.csv',columns=['thickness','rockID'], sep=' ', index=False ,header=0)"
   ]
  },
  {
   "cell_type": "markdown",
   "metadata": {},
   "source": [
    "## 3- Creating variable thickness, one rock type layer\n",
    "\n",
    "Last example for this notebook with variable thicknesses:"
   ]
  },
  {
   "cell_type": "code",
   "execution_count": null,
   "metadata": {},
   "outputs": [],
   "source": [
    "th = np.zeros((nx,ny),dtype=float)\n",
    "\n",
    "tmpth = np.zeros(nx)\n",
    "tmpx = xm[:,0]\n",
    "tmpth = 100. * np.sin( 2.* np.pi * (tmpx - 8500) / 22000) + 30.\n",
    "tmpth[tmpth<30.] = 30.\n",
    "\n",
    "th = np.array([tmpth,]*ny)\n",
    "\n",
    "rockID = 0\n",
    "rock = np.zeros(len(xr),dtype=int)\n",
    "rock.fill(rockID)"
   ]
  },
  {
   "cell_type": "code",
   "execution_count": null,
   "metadata": {},
   "outputs": [],
   "source": [
    "df = pd.DataFrame({'thickness':th.flatten(order='F'),'rockID':rock},columns=['thickness','rockID'])\n",
    "df.head()"
   ]
  },
  {
   "cell_type": "code",
   "execution_count": null,
   "metadata": {},
   "outputs": [],
   "source": [
    "fig = plt.figure(1, figsize=(6,6))\n",
    "\n",
    "ax = plt.gca()\n",
    "im = ax.imshow(th, interpolation='nearest', cmap='RdBu_r',\n",
    "                 vmin=th.min(), vmax=th.max())\n",
    "divider = make_axes_locatable(ax)\n",
    "cax = divider.append_axes(\"right\", size=\"3%\", pad=0.1)\n",
    "cbar = plt.colorbar(im,cax=cax)\n",
    "plt.tight_layout()\n",
    "\n",
    "plt.show()\n",
    "plt.close(fig)"
   ]
  },
  {
   "cell_type": "code",
   "execution_count": null,
   "metadata": {},
   "outputs": [],
   "source": [
    "df.to_csv('data/thlay2.csv',columns=['thickness','rockID'], sep=' ', index=False ,header=0)"
   ]
  },
  {
   "cell_type": "markdown",
   "metadata": {},
   "source": [
    "Obviously you can make much more complex layer shapes and rock type distribution..."
   ]
  },
  {
   "cell_type": "code",
   "execution_count": null,
   "metadata": {},
   "outputs": [],
   "source": []
  }
 ],
 "metadata": {
  "kernelspec": {
   "display_name": "Python 3",
   "language": "python",
   "name": "python3"
  },
  "language_info": {
   "codemirror_mode": {
    "name": "ipython",
    "version": 3
   },
   "file_extension": ".py",
   "mimetype": "text/x-python",
   "name": "python",
   "nbconvert_exporter": "python",
   "pygments_lexer": "ipython3",
   "version": "3.5.3"
  }
 },
 "nbformat": 4,
 "nbformat_minor": 1
}
