{
 "cells": [
  {
   "cell_type": "markdown",
   "metadata": {},
   "source": [
    "This example is based on the following studies:\n",
    "\n",
    "> **Evaluating key controls on sediment flux to the Gulf of Corinth over the last 130 kyrs using a forward modeling approach** -- Sofia Pechlivanidou, Guillaume Duclaux, Tristan Salles, Casey Nixon, Patience Cowie, Robert Gawthorpe, Ritske Huismans \n",
    "\n",
    "+ AGU -- EP029:_'Mountain Peak to Sea Floor: Processes, Interactions and Feedbacks between Sediment Supply and Landscape Evolution'_, 2017 \n",
    "+ EGU  -- TS6.1/GD7.4/GM4.7/GMPV8.6/SSP3.17:_'Evolution and architecture of rifts and passive margins: from mantle dynamics to surface processes'_, 2018. "
   ]
  },
  {
   "cell_type": "code",
   "execution_count": null,
   "metadata": {},
   "outputs": [],
   "source": [
    "import warnings\n",
    "warnings.filterwarnings('ignore')\n",
    "warnings.simplefilter(action = \"ignore\", category = FutureWarning)\n",
    "\n",
    "import cmocean as cmo\n",
    "from matplotlib import cm\n",
    "from scripts import readInput as rInput\n",
    "\n",
    "# display plots in SVG format\n",
    "%config InlineBackend.figure_format = 'svg'\n",
    "%matplotlib inline"
   ]
  },
  {
   "cell_type": "markdown",
   "metadata": {},
   "source": [
    "# Evaluating key controls on erosion and deposition within active rifts\n",
    "\n",
    "\n",
    "We use a numerical modeling approach to explore key controls on erosion and deposition within active rifts. \n",
    " \n",
    "<div class=\"alert alert-block alert-info\">We will simulate the landscape development and basin stratigraphy for one of the most active rifts in the world, the **Corinth Rift**, over the past 130 kyrs.  We will see the different methods available in Badlands to constrain our model with field data and potentially assess the relative importance of: i) tectonic uplift/subsidence rate, ii) drainage area, iii) pre-existing topography, and iv) lithology on sediment delivered to the rift.</div>\n",
    "\n",
    "***\n",
    "\n",
    "## Study area\n",
    "\n",
    "The Corinth Rift in central Greece is considered one of the most rapidly extending continental rifts on Earth that initiated <5 Ma (Ori, 1989; Leeder et al., 2008).\n",
    "\n",
    "<img src=\"images/area.jpg\" alt=\"geometry\" width=\"400\" height=\"400\"/>\n",
    "\n",
    "Northward migration of fault activity since $\\sim$0.6 Ma and the progressive growth and linkage of predominantly north-dipping faults has resulted in the formation of an E - W oriented asym- metric marine graben, $\\sim$120 km long and up to 30 km wide (_i.e._ the Gulf of Corinth).\n",
    "\n",
    "The Gulf of Corinth records $\\sim$2.5 km of offshore syn-rift deposits. Over the Late Quaternary sedimentation was characterized by alternating marine and lacustrine conditions, related to 100 kyr glacio-eustatic cycles, that produce characteristic seismic reflection profiles (_e.g._ Bell et al., 2009; Taylor et al., 2011; Nixon et al., 2016).\n",
    "\n",
    "\n",
    "Isochore map highlighting the presence of a continuous depocenter developed as a responce to linkage of major north-dipping faults along the southern rift margin (Nixon et al., 2016).\n",
    "\n",
    "<img src=\"images/volume.jpg\" alt=\"geometry\" width=\"700\" height=\"400\"/>"
   ]
  },
  {
   "cell_type": "markdown",
   "metadata": {},
   "source": [
    "***\n",
    "\n",
    "Let's have a look at the initial forcing conditions that will be use in this example.\n",
    "\n",
    "\n",
    "## Initial surface "
   ]
  },
  {
   "cell_type": "code",
   "execution_count": null,
   "metadata": {},
   "outputs": [],
   "source": [
    "forcings = rInput.readInput()"
   ]
  },
  {
   "cell_type": "code",
   "execution_count": null,
   "metadata": {},
   "outputs": [],
   "source": [
    "forcings.readDEM('data/nodes.csv')"
   ]
  },
  {
   "cell_type": "markdown",
   "metadata": {},
   "source": [
    "On all the plots below we will use the cmocean [colormap](https://matplotlib.org/cmocean/)."
   ]
  },
  {
   "cell_type": "code",
   "execution_count": null,
   "metadata": {},
   "outputs": [],
   "source": [
    "forcings.plotInputGrid(data=forcings.Z,title=\"elevation\",\n",
    "                       mind=-2000.,maxd=2000,color=cmo.cm.delta)"
   ]
  },
  {
   "cell_type": "markdown",
   "metadata": {},
   "source": [
    "***\n",
    "\n",
    "## Sea level\n",
    "\n",
    "Global sea-level curve is used to account for eustatic vs. lacustrine fluctuations of the base-level."
   ]
  },
  {
   "cell_type": "code",
   "execution_count": null,
   "metadata": {},
   "outputs": [],
   "source": [
    "forcings.readSea('data/sealevel.csv') "
   ]
  },
  {
   "cell_type": "markdown",
   "metadata": {},
   "source": [
    "## Precipitation map \n",
    "\n",
    "The precipitation map has been extracted from present day annual rainfall regime using the following website **http://www.worldclim.org**."
   ]
  },
  {
   "cell_type": "code",
   "execution_count": null,
   "metadata": {},
   "outputs": [],
   "source": [
    "forcings.readRain('data/rain.csv')"
   ]
  },
  {
   "cell_type": "code",
   "execution_count": null,
   "metadata": {},
   "outputs": [],
   "source": [
    "forcings.plotInputGrid(data=forcings.rain,title=\"precipitation [m/y]\",\n",
    "                       mind=0.5,maxd=1,color=cmo.cm.ice_r)"
   ]
  },
  {
   "cell_type": "markdown",
   "metadata": {},
   "source": [
    "## Vertical displacement map\n",
    "\n",
    "Vertical displacement map, generated using a linear elastic dislocation model (_Coulomb 3.4, Toda et al., 2005_). Constraints on Quaternary fault uplift rates along the southern rift margin are used to validate the displacement map. The contours (see below) are cumulative displacement over 130 kyrs.\n",
    "\n",
    "<img src=\"images/disp.jpg\" alt=\"geometry\" width=\"500\" height=\"400\"/>\n",
    "\n",
    "The tectonic forcing for our simulation looks like:"
   ]
  },
  {
   "cell_type": "code",
   "execution_count": null,
   "metadata": {},
   "outputs": [],
   "source": [
    "forcings.readDisp('data/disp.csv')"
   ]
  },
  {
   "cell_type": "code",
   "execution_count": null,
   "metadata": {},
   "outputs": [],
   "source": [
    "forcings.readFault('data/faults.csv')"
   ]
  },
  {
   "cell_type": "code",
   "execution_count": null,
   "metadata": {},
   "outputs": [],
   "source": [
    "forcings.plotInputGrid(data=forcings.disp,title=\"tectonic [m]\",\n",
    "                       mind=-400.,maxd=400,color=cmo.cm.balance,fault=True)"
   ]
  },
  {
   "cell_type": "markdown",
   "metadata": {},
   "source": [
    "## Bedrock erodibility and underlying thickness map\n",
    "\n",
    "Mapped lithostratigraphic units are clustered based on elevation and slope and used to classify bedrock erodibility. In Sofia's model three groups are defined.\n",
    "\n",
    "<img src=\"images/ero.jpg\" alt=\"geometry\" width=\"500\" height=\"400\"/>"
   ]
  },
  {
   "cell_type": "code",
   "execution_count": null,
   "metadata": {},
   "outputs": [],
   "source": [
    "forcings.readEroLay('data/erolaytop.csv')"
   ]
  },
  {
   "cell_type": "code",
   "execution_count": null,
   "metadata": {},
   "outputs": [],
   "source": [
    "forcings.readThickLay('data/erothicktop.csv')"
   ]
  },
  {
   "cell_type": "markdown",
   "metadata": {},
   "source": [
    "In this example, we modify the initial setting and chose 2 different layers:\n",
    "+ **layer 1** is a bottom uniform layer -- erodibility: $\\kappa = 5.e^{-6}$; thickness: 1000. m\n",
    "+ **layer 2** is the surface layer with varying erodibility and thickness.\n",
    "\n",
    "\n",
    "In the top layer (layer 2), we simplify the bedrock erodibility map propose in Sofia's experiment and define only 2 groups based on _elevation_:\n",
    "+ **group 1**: erodibility ($\\kappa = 3.e^{-6}$) above 700 m elevation with a thickness of 5. m\n",
    "+ **group 2**: erodibility ($\\kappa = 1.e^{-6}$) below 700 m elevation with a thickness of 10. m\n",
    "\n",
    "We can visualise the top layer definition which is passed to Badlands:"
   ]
  },
  {
   "cell_type": "code",
   "execution_count": null,
   "metadata": {},
   "outputs": [],
   "source": [
    "forcings.plotInputGrid(data=forcings.erolays[0],title=\"erodibility layer 2\",\n",
    "                       mind=1.e-6,maxd=5.e-6,color=cmo.cm.matter)"
   ]
  },
  {
   "cell_type": "code",
   "execution_count": null,
   "metadata": {},
   "outputs": [],
   "source": [
    "forcings.plotInputGrid(data=forcings.thicklays[0],title=\"thickness layer 2\",\n",
    "                       mind=2.,maxd=12,color=cmo.cm.curl)"
   ]
  },
  {
   "cell_type": "code",
   "execution_count": null,
   "metadata": {},
   "outputs": [],
   "source": []
  },
  {
   "cell_type": "code",
   "execution_count": null,
   "metadata": {},
   "outputs": [],
   "source": []
  }
 ],
 "metadata": {
  "kernelspec": {
   "display_name": "Python 3",
   "language": "python",
   "name": "python3"
  },
  "language_info": {
   "codemirror_mode": {
    "name": "ipython",
    "version": 3
   },
   "file_extension": ".py",
   "mimetype": "text/x-python",
   "name": "python",
   "nbconvert_exporter": "python",
   "pygments_lexer": "ipython3",
   "version": "3.5.3"
  }
 },
 "nbformat": 4,
 "nbformat_minor": 2
}
