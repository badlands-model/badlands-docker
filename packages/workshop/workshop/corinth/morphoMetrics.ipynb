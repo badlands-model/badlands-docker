{
 "cells": [
  {
   "cell_type": "markdown",
   "metadata": {},
   "source": [
    "# Comparison with observations: deposited volume\n",
    "\n",
    "A way of calibrating the model consists in using offshore volumes obtained from seismic datasets. \n",
    "\n",
    "***\n",
    "\n",
    "<img src=\"images/obs.jpg\" alt=\"geometry\" width=\"940\" height=\"800\"/>\n",
    "\n",
    "***\n",
    "\n",
    "\n",
    "> To compare output volume from the simulation with observed volume, it is necessary to convert the offshore volumes into grain volume by subtracting the pore space (here Sofia's used 54% in situ porosity) and a weighted average onshore porosity (~33%). \n",
    "\n",
    "<div class=\"alert alert-block alert-info\">In this notebook, we will extract the value of deposited volume for a specific area and plot other metrics available to analyse the surface morphology.</div>"
   ]
  },
  {
   "cell_type": "code",
   "execution_count": null,
   "metadata": {},
   "outputs": [],
   "source": [
    "import warnings\n",
    "warnings.filterwarnings('ignore')\n",
    "warnings.simplefilter(action = \"ignore\", category = FutureWarning)\n",
    "\n",
    "import cmocean as cmo\n",
    "from matplotlib import cm\n",
    "\n",
    "from scripts import catchmentErosion as eroCatch\n",
    "\n",
    "# display plots in SVG format\n",
    "%config InlineBackend.figure_format = 'svg'\n",
    "%matplotlib inline"
   ]
  },
  {
   "cell_type": "markdown",
   "metadata": {},
   "source": [
    "## Loading the dataset\n",
    "\n",
    "We first load the simulation last output file (timestep=13) to pick a specific catchment."
   ]
  },
  {
   "cell_type": "code",
   "execution_count": null,
   "metadata": {},
   "outputs": [],
   "source": [
    "dataTIN = eroCatch.catchmentErosion(folder='output',timestep=2)"
   ]
  },
  {
   "cell_type": "code",
   "execution_count": null,
   "metadata": {},
   "outputs": [],
   "source": [
    "dataTIN.regridTINdataSet()"
   ]
  },
  {
   "cell_type": "markdown",
   "metadata": {},
   "source": [
    "We can plot a series of different parameters from our landscape:\n",
    "\n",
    "+ elevation: `dataTIN.z`\n",
    "+ slope: `dataTIN.slp`\n",
    "+ erosion/deposition: `dataTIN.dz`\n",
    "+ aspect: `dataTIN.aspect`\n",
    "+ horizontal curvature: `dataTIN.hcurv`\n",
    "+ vertical curvature: `dataTIN.vcurv`"
   ]
  },
  {
   "cell_type": "code",
   "execution_count": null,
   "metadata": {},
   "outputs": [],
   "source": [
    "dataTIN.plotdataSet(title='Elevation', data=dataTIN.z, color=cmo.cm.delta,crange=[-2000,2000])"
   ]
  },
  {
   "cell_type": "code",
   "execution_count": null,
   "metadata": {},
   "outputs": [],
   "source": [
    "dataTIN.plotdataSet(title='Slope', data=dataTIN.slp, color=cmo.cm.tempo,crange=[0.,1.])"
   ]
  },
  {
   "cell_type": "code",
   "execution_count": null,
   "metadata": {},
   "outputs": [],
   "source": [
    "dataTIN.plotdataSet(title='Erosion/Deposition [m]', data=dataTIN.dz, color=cmo.cm.balance,crange=[-300.,300.])"
   ]
  },
  {
   "cell_type": "code",
   "execution_count": null,
   "metadata": {},
   "outputs": [],
   "source": [
    "dataTIN.plotdataSet(title='Aspect', data=dataTIN.aspect, color=cmo.cm.haline,crange=[0.,2.],ctr='w')"
   ]
  },
  {
   "cell_type": "code",
   "execution_count": null,
   "metadata": {},
   "outputs": [],
   "source": [
    "dataTIN.plotdataSet(title='Horizontal curvature', data=dataTIN.hcurv, color=cmo.cm.balance,\n",
    "                      crange=[-0.001,0.001])"
   ]
  },
  {
   "cell_type": "code",
   "execution_count": null,
   "metadata": {},
   "outputs": [],
   "source": [
    "dataTIN.plotdataSet(title='Vertical curvature', data=dataTIN.vcurv, color=cmo.cm.balance,\n",
    "                      crange=[-0.0012,0.0012])"
   ]
  },
  {
   "cell_type": "markdown",
   "metadata": {},
   "source": [
    "## Finding deposited sediment volume\n",
    "\n",
    "As shown in the previous notebook on the erosion rate, we have access to the deposited volume over time and can perform from the notebook a calculation of the accumulated volume in the entire region or in a specific area. This can be done in this way:"
   ]
  },
  {
   "cell_type": "code",
   "execution_count": null,
   "metadata": {},
   "outputs": [],
   "source": [
    "dataTIN.plotdataSet(title='Erosion/Deposition [m]', data=dataTIN.dz, color=cmo.cm.amp,  \n",
    "                      crange=[0,500], erange=[570000,665000,4200000,4260000],\n",
    "                      depctr=(50,150,300,500),size=(10,10))"
   ]
  },
  {
   "cell_type": "code",
   "execution_count": null,
   "metadata": {},
   "outputs": [],
   "source": [
    "dataTIN.getDepositedVolume(time=130000.,erange=[570000,665000,4200000,4260000])"
   ]
  },
  {
   "cell_type": "markdown",
   "metadata": {},
   "source": [
    "***\n",
    "\n",
    "<img src=\"images/volume.jpg\" alt=\"geometry\" width=\"700\" height=\"500\"/>\n",
    "\n",
    "*** \n",
    "\n",
    "One other thing that can potentially be done is comparing the patterns and thicknesses of the deposits with the isochore map above from Nixon et al., 2016."
   ]
  },
  {
   "cell_type": "code",
   "execution_count": null,
   "metadata": {},
   "outputs": [],
   "source": []
  }
 ],
 "metadata": {
  "kernelspec": {
   "display_name": "Python 3",
   "language": "python",
   "name": "python3"
  },
  "language_info": {
   "codemirror_mode": {
    "name": "ipython",
    "version": 3
   },
   "file_extension": ".py",
   "mimetype": "text/x-python",
   "name": "python",
   "nbconvert_exporter": "python",
   "pygments_lexer": "ipython3",
   "version": "3.5.3"
  }
 },
 "nbformat": 4,
 "nbformat_minor": 2
}
