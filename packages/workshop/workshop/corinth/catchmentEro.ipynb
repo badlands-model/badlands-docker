{
 "cells": [
  {
   "cell_type": "markdown",
   "metadata": {},
   "source": [
    "# Comparison with observations: erosion rate\n",
    "\n",
    "A way of calibrating the model consists in using offshore volumes obtained from seismic datasets. \n",
    "\n",
    "***\n",
    "\n",
    "<img src=\"images/obs.jpg\" alt=\"geometry\" width=\"940\" height=\"800\"/>\n",
    "\n",
    "***\n",
    "\n",
    "\n",
    "> To compare output volume from the simulation with observed volume, it is necessary to convert the offshore volumes into grain volume by subtracting the pore space (here Sofia's used 54% in situ porosity) and a weighted average onshore porosity (~33%). \n",
    "\n",
    "<div class=\"alert alert-block alert-info\">In this notebook, we will extract the value of eroded volume and erosion rate for a specific catchment.</div>"
   ]
  },
  {
   "cell_type": "code",
   "execution_count": null,
   "metadata": {},
   "outputs": [],
   "source": [
    "import cmocean as cmo\n",
    "from matplotlib import cm\n",
    "\n",
    "from scripts import catchmentErosion as eroCatch\n",
    "\n",
    "# display plots in SVG format\n",
    "%config InlineBackend.figure_format = 'svg'\n",
    "%matplotlib inline"
   ]
  },
  {
   "cell_type": "markdown",
   "metadata": {},
   "source": [
    "## Loading the dataset\n",
    "\n",
    "We first load the simulation last output file (timestep=13) to pick a specific catchment."
   ]
  },
  {
   "cell_type": "code",
   "execution_count": null,
   "metadata": {},
   "outputs": [],
   "source": [
    "catchment = eroCatch.catchmentErosion(folder='output',timestep=1)\n",
    "catchment.regridTINdataSet()"
   ]
  },
  {
   "cell_type": "markdown",
   "metadata": {},
   "source": [
    "To extract the information from a particular catchment we only need to get a point belonging to this catchment. Here we chose the following point coordinates:\n",
    "\n",
    "+ `pt=[637936.,4210856.]`\n",
    "\n",
    "Let's see its position within the region..."
   ]
  },
  {
   "cell_type": "code",
   "execution_count": null,
   "metadata": {},
   "outputs": [],
   "source": [
    "catchment.plotdataSet(title='Elevation', data=catchment.z, color=cmo.cm.delta,  \n",
    "                      crange=[-2000,2000], pt=[637936.,4210856.])"
   ]
  },
  {
   "cell_type": "markdown",
   "metadata": {},
   "source": [
    "> We can zoom in to ensure that this is at the right spot... beware that the function will not work if the point is defined underwater!\n",
    "\n",
    "We specify the extent of the zoom region using:\n",
    "\n",
    "+ `erange=[x1,x2,y1,y2]`"
   ]
  },
  {
   "cell_type": "code",
   "execution_count": null,
   "metadata": {},
   "outputs": [],
   "source": [
    "catchment.plotdataSet(title='Elevation', data=catchment.z, color=cmo.cm.delta,  \n",
    "                      crange=[-2000,2000], pt=[637936.,4210856.],\n",
    "                      erange=[618000,649000,4190000,4230000])"
   ]
  },
  {
   "cell_type": "markdown",
   "metadata": {},
   "source": [
    "## Performing erosion analyse on the chosen catchment\n",
    "\n",
    "Now that we are sure about our catchment position we extract from the TIN the relevant points"
   ]
  },
  {
   "cell_type": "code",
   "execution_count": null,
   "metadata": {},
   "outputs": [],
   "source": [
    "catch = eroCatch.catchmentErosion(folder='output', timestep=1, pointXY=[637936.,4210856.])"
   ]
  },
  {
   "cell_type": "code",
   "execution_count": null,
   "metadata": {},
   "outputs": [],
   "source": [
    "catch.regridTINdataSet()"
   ]
  },
  {
   "cell_type": "markdown",
   "metadata": {},
   "source": [
    "The alpha parameter is used to perform the delineation of the catchment and define a convex hull."
   ]
  },
  {
   "cell_type": "code",
   "execution_count": null,
   "metadata": {},
   "outputs": [],
   "source": [
    "catch.extractRegion(alpha=0.0002)"
   ]
  },
  {
   "cell_type": "markdown",
   "metadata": {},
   "source": [
    "We can visualise the catchment, the points which have been taken to perform the analyse as well as the contour of the defined area. "
   ]
  },
  {
   "cell_type": "code",
   "execution_count": null,
   "metadata": {},
   "outputs": [],
   "source": [
    "catch.plotCatchment()"
   ]
  },
  {
   "cell_type": "markdown",
   "metadata": {},
   "source": [
    "Based on the extracted points from the figure above we can compute the **cumulative erosion** over the duration of the simulation (130 ky) as well as the **eroded sediment rate**. "
   ]
  },
  {
   "cell_type": "code",
   "execution_count": null,
   "metadata": {},
   "outputs": [],
   "source": [
    "catch.getErodedVolume(time=130000.)"
   ]
  },
  {
   "cell_type": "markdown",
   "metadata": {},
   "source": [
    "Obviously all the data outputed by badlands can be further process to look at other things depending of what you think will be useful...\n",
    "\n",
    "Here as an example, we can look at the **distribution of erosion rate versus elevation across the entire catchment**:"
   ]
  },
  {
   "cell_type": "code",
   "execution_count": null,
   "metadata": {},
   "outputs": [],
   "source": [
    "catch.plotEroElev(time=130000.)"
   ]
  },
  {
   "cell_type": "markdown",
   "metadata": {},
   "source": [
    "***\n",
    "\n",
    "<img src=\"images/model.jpg\" alt=\"geometry\" width=\"940\" height=\"900\"/>\n",
    "\n",
    "***\n",
    "\n",
    "<div class=\"alert alert-block alert-info\">Ok we've done one specific catchment, Sophia in her study looked at all the catchments from the North and South regions using different initial parameters and comparing it with published dataset!</div>\n"
   ]
  },
  {
   "cell_type": "code",
   "execution_count": null,
   "metadata": {},
   "outputs": [],
   "source": []
  }
 ],
 "metadata": {
  "kernelspec": {
   "display_name": "Python 3",
   "language": "python",
   "name": "python3"
  },
  "language_info": {
   "codemirror_mode": {
    "name": "ipython",
    "version": 3
   },
   "file_extension": ".py",
   "mimetype": "text/x-python",
   "name": "python",
   "nbconvert_exporter": "python",
   "pygments_lexer": "ipython3",
   "version": "3.5.3"
  }
 },
 "nbformat": 4,
 "nbformat_minor": 2
}
