{
 "cells": [
  {
   "cell_type": "markdown",
   "metadata": {},
   "source": [
    "# Carbonate growth control functions\n",
    "\n",
    "Based on a fuzzy logic approach, reefs evolution in our model is driven entirely by a set of rules which variables are fully adjustable. The utility and effectiveness of the approach is mostly based on the user’s understanding of the modelled reef system. \n",
    "\n",
    "Here, reef growth depends on three types of control variables: \n",
    "+ depth (accommodation space), \n",
    "+ wave height, and \n",
    "+ sedimentation rate. \n",
    "\n",
    "For each of these variables, one can define a range of __fuzzy sets__ using membership functions. Production of any specific coral assemblage is then computed from a series of fuzzy rules. Summation of multiple rules produces a fuzzy answer which is then defuzzified (using the centroid method) to return a value of coral assemblage growth on each cell of the simulated region.\n",
    "\n",
    "<div class=\"alert alert-block alert-info\">Here we show how to define these rules to simulate Reef Growth in Badlands.</div>\n",
    "\n",
    "***\n",
    "\n",
    "<img src=\"images/fuzzy.png\" alt=\"geometry\" width=\"900\" height=\"400\"/>\n",
    "\n",
    "Diagram of fuzzy logic process used to evaluate a specific coral assemblage growth rate.\n",
    "\n",
    "***"
   ]
  },
  {
   "cell_type": "code",
   "execution_count": null,
   "metadata": {},
   "outputs": [],
   "source": [
    "import warnings\n",
    "warnings.filterwarnings('ignore')\n",
    "warnings.simplefilter(action = \"ignore\", category = FutureWarning)\n",
    "\n",
    "import numpy as np\n",
    "import skfuzzy as fuzz\n",
    "\n",
    "from scripts import carbRules as carbFct\n",
    "\n",
    "# display plots in SVG format\n",
    "%config InlineBackend.figure_format = 'svg'\n",
    "%matplotlib inline"
   ]
  },
  {
   "cell_type": "markdown",
   "metadata": {},
   "source": [
    "We will use the **skfuzzy** library to define our membership function as there is already some function to build these curves ([documentation](http://pythonhosted.org/scikit-fuzzy/api/skfuzzy.membership.html)). However you can build these curves without using this library..."
   ]
  },
  {
   "cell_type": "markdown",
   "metadata": {},
   "source": [
    "# Depth control\n",
    "\n",
    "We first define a depth range and assume that it will be common for the 2 carbonates that will be simulated, we could have chosen 2 different ranges..."
   ]
  },
  {
   "cell_type": "code",
   "execution_count": null,
   "metadata": {},
   "outputs": [],
   "source": [
    "depth = np.linspace(-10.0, 40.0, num=101, endpoint=True)"
   ]
  },
  {
   "cell_type": "markdown",
   "metadata": {},
   "source": [
    "### Carbonate 1 control\n",
    "\n",
    "Now we build our membership function for carbonate 1:"
   ]
  },
  {
   "cell_type": "code",
   "execution_count": null,
   "metadata": {},
   "outputs": [],
   "source": [
    "# Parameters\n",
    "shallow_depth_sigma = 0.1\n",
    "shallow2 = fuzz.gaussmf(depth, 0.5, shallow_depth_sigma)\n",
    "shallow_depth_sigma = 3\n",
    "shallow = fuzz.gaussmf(depth, 5, shallow_depth_sigma)\n",
    "id1 = np.where(depth<0.5)[0]\n",
    "id2 = np.where(depth>5)[0]\n",
    "\n",
    "shallow[id1[-1]:id2[0]] = 1.\n",
    "shallow[:id1[-1]] = shallow2[:id1[-1]]\n",
    "id = np.where(depth<=0)[0]\n",
    "shallow[id] = 0\n",
    "shallow[shallow<0.00001] = 0."
   ]
  },
  {
   "cell_type": "markdown",
   "metadata": {},
   "source": [
    "Let's plot it to check what it looks like:"
   ]
  },
  {
   "cell_type": "code",
   "execution_count": null,
   "metadata": {},
   "outputs": [],
   "source": [
    "carbFct.plot_depth_control(depth,shallow,'Carbonate 1 - depth control function', xlabel='depth range [m]', \n",
    "                   color='#2577c4', size=(8,4)) #,fname='data/depthcontrol1')"
   ]
  },
  {
   "cell_type": "markdown",
   "metadata": {},
   "source": [
    "### Carbonate 2 control\n",
    "\n",
    "We do the same for carbonate 2."
   ]
  },
  {
   "cell_type": "code",
   "execution_count": null,
   "metadata": {},
   "outputs": [],
   "source": [
    "# Parameters\n",
    "shallow_depth_sigma = 2\n",
    "shallow2 = fuzz.gaussmf(depth, 9, shallow_depth_sigma)\n",
    "shallow_depth_sigma = 4\n",
    "shallow = fuzz.gaussmf(depth, 12, shallow_depth_sigma)\n",
    "id1 = np.where(depth<9)[0]\n",
    "id2 = np.where(depth>12)[0]\n",
    "shallow[id1[-1]:id2[0]] = 1.\n",
    "shallow[:id1[-1]] = shallow2[:id1[-1]]\n",
    "id = np.where(depth<=0)[0]\n",
    "shallow[id] = 0\n",
    "shallow[shallow<0.00001] = 0.\n",
    "\n",
    "carbFct.plot_depth_control(depth,shallow,'Carbonate 2 - depth control function', xlabel='depth range [m]', \n",
    "                   color='#25c447', size=(8,4)) #,fname='data/depthcontrol2')"
   ]
  },
  {
   "cell_type": "markdown",
   "metadata": {},
   "source": [
    "### Pelagic rain\n",
    "\n",
    "For hemipelagic sedimentation we will define a new range for the depth:"
   ]
  },
  {
   "cell_type": "code",
   "execution_count": null,
   "metadata": {},
   "outputs": [],
   "source": [
    "depth = np.linspace(0.0, 200.0, num=101, endpoint=True)"
   ]
  },
  {
   "cell_type": "markdown",
   "metadata": {},
   "source": [
    "And define a function which is maximum in deeper regions..."
   ]
  },
  {
   "cell_type": "code",
   "execution_count": null,
   "metadata": {},
   "outputs": [],
   "source": [
    "# Parameters\n",
    "pelagic_depth_sigma = 10\n",
    "pelagic = 1.-fuzz.gaussmf(depth, 90, pelagic_depth_sigma)\n",
    "id = np.where(depth<90)[0]\n",
    "pelagic[id] = 0\n",
    "\n",
    "carbFct.plot_depth_control(depth,pelagic,'Pelagic rain - depth control function', xlabel='depth range [m]', \n",
    "                   color='#7a083f', size=(8,4)) #,fname='data/pelagiccontrol')"
   ]
  },
  {
   "cell_type": "markdown",
   "metadata": {},
   "source": [
    "# Wave height control\n",
    "\n",
    "A similar approach is used for the wave control."
   ]
  },
  {
   "cell_type": "code",
   "execution_count": null,
   "metadata": {},
   "outputs": [],
   "source": [
    "wave_height = np.linspace(0.0, 5.0, num=101, endpoint=True)"
   ]
  },
  {
   "cell_type": "markdown",
   "metadata": {},
   "source": [
    "### Carbonate 1 control"
   ]
  },
  {
   "cell_type": "code",
   "execution_count": null,
   "metadata": {},
   "outputs": [],
   "source": [
    "# Parameters\n",
    "wave_sigma = 0.19\n",
    "wave2 = fuzz.gaussmf(wave_height, 1.2, wave_sigma)\n",
    "wave_sigma2 = 0.25\n",
    "wave3 = fuzz.gaussmf(wave_height, 0.6, wave_sigma2)\n",
    "id1 = np.where(wave_height<0.6)[0]\n",
    "id2 = np.where(wave_height>1.2)[0]\n",
    "wave2[id1[-1]:id2[0]] = 1.\n",
    "wave2[:id1[-1]] = wave3[:id1[-1]]\n",
    "wave2[wave2<0.01] = 0.\n",
    "\n",
    "carbFct.plot_depth_control(wave_height,wave2,'Carbonate 1 - wave control function', xlabel='wave height [m]', \n",
    "                   color='#2577c4', size=(8,4)) #,fname='data/wavecontrolcarb1')"
   ]
  },
  {
   "cell_type": "markdown",
   "metadata": {},
   "source": [
    "### Carbonate 2 control"
   ]
  },
  {
   "cell_type": "code",
   "execution_count": null,
   "metadata": {},
   "outputs": [],
   "source": [
    "# Parameters\n",
    "wave_sigma = 0.3\n",
    "wave2 = fuzz.gaussmf(wave_height, 1.5, wave_sigma)\n",
    "wave_sigma2 = 0.15\n",
    "wave3 = fuzz.gaussmf(wave_height, 0.45, wave_sigma2)\n",
    "id1 = np.where(wave_height<0.45)[0]\n",
    "id2 = np.where(wave_height>1.5)[0]\n",
    "wave2[id1[-1]:id2[0]] = 1.\n",
    "wave2[:id1[-1]] = wave3[:id1[-1]]\n",
    "wave2[wave2<0.001] = 0.\n",
    "\n",
    "carbFct.plot_depth_control(wave_height,wave2,'Carbonate 2 - wave control function', xlabel='wave height [m]', \n",
    "                   color='#25c447', size=(8,4)) #,fname='data/wavecontrolcarb2')"
   ]
  },
  {
   "cell_type": "markdown",
   "metadata": {
    "collapsed": true
   },
   "source": [
    "# Sedimentation control\n",
    "\n",
    "And again for the sedimentation control..."
   ]
  },
  {
   "cell_type": "code",
   "execution_count": null,
   "metadata": {},
   "outputs": [],
   "source": [
    "sed = np.linspace(0.0, 0.01, num=101, endpoint=True)"
   ]
  },
  {
   "cell_type": "markdown",
   "metadata": {},
   "source": [
    "### Carbonate 1 control"
   ]
  },
  {
   "cell_type": "code",
   "execution_count": null,
   "metadata": {},
   "outputs": [],
   "source": [
    "# Parameters\n",
    "sed_sigma = 0.0006\n",
    "sedmed = fuzz.gaussmf(sed, 0.0005, sed_sigma)\n",
    "sed_sigma2 = 0.004\n",
    "tmp_sed = fuzz.gaussmf(sed, 0.01, sed_sigma2)\n",
    "id1 = np.where(sed<0.01)[0]\n",
    "id2 = np.where(sed>0.0005)[0]\n",
    "sedmed[:id2[0]] = 1.\n",
    "sedmed[sedmed<0.0001] = 0.\n",
    "\n",
    "carbFct.plot_depth_control(sed,sedmed,'Carbonate 1 - sedimentation rate control function', xlabel='sedimentation rate [m/yr]', \n",
    "                   color='#2577c4', size=(8,4)) #,fname='data/sedcontrolcarb1')"
   ]
  },
  {
   "cell_type": "markdown",
   "metadata": {},
   "source": [
    "### Carbonate 2 control"
   ]
  },
  {
   "cell_type": "code",
   "execution_count": null,
   "metadata": {},
   "outputs": [],
   "source": [
    "# Parameters\n",
    "sed_sigma = 0.0008\n",
    "sedmed = fuzz.gaussmf(sed, 0.0007, sed_sigma)\n",
    "sed_sigma2 = 0.004\n",
    "tmp_sed = fuzz.gaussmf(sed, 0.01, sed_sigma2)\n",
    "id1 = np.where(sed<0.01)[0]\n",
    "id2 = np.where(sed>0.0007)[0]\n",
    "sedmed[:id2[0]] = 1.\n",
    "sedmed[sedmed<0.0001] = 0.\n",
    "\n",
    "carbFct.plot_depth_control(sed,sedmed,'Carbonate 2 - sedimentation rate control function', xlabel='sedimentation rate [m/yr]', \n",
    "                   color='#25c447', size=(8,4)) #,fname='data/sedcontrolcarb2')"
   ]
  },
  {
   "cell_type": "code",
   "execution_count": null,
   "metadata": {},
   "outputs": [],
   "source": []
  }
 ],
 "metadata": {
  "kernelspec": {
   "display_name": "Python 3",
   "language": "python",
   "name": "python3"
  },
  "language_info": {
   "codemirror_mode": {
    "name": "ipython",
    "version": 3
   },
   "file_extension": ".py",
   "mimetype": "text/x-python",
   "name": "python",
   "nbconvert_exporter": "python",
   "pygments_lexer": "ipython3",
   "version": "3.5.3"
  }
 },
 "nbformat": 4,
 "nbformat_minor": 1
}
