{
 "cells": [
  {
   "cell_type": "code",
   "execution_count": null,
   "metadata": {},
   "outputs": [],
   "source": [
    "import warnings\n",
    "warnings.filterwarnings('ignore')\n",
    "warnings.simplefilter(action = \"ignore\", category = FutureWarning)\n",
    "\n",
    "import numpy as np\n",
    "import cmocean as cmo\n",
    "from matplotlib import cm\n",
    "\n",
    "from scripts import sectionCarbonate2 as section\n",
    "\n",
    "# display plots in SVG format\n",
    "%config InlineBackend.figure_format = 'svg'\n",
    "%matplotlib inline"
   ]
  },
  {
   "cell_type": "code",
   "execution_count": null,
   "metadata": {},
   "outputs": [],
   "source": [
    "secCarb1 = section.sectionCarbonate(folder = 'output',step=22,erange=[100000,250000,540000,640000])"
   ]
  },
  {
   "cell_type": "code",
   "execution_count": null,
   "metadata": {},
   "outputs": [],
   "source": [
    "print('Extent of extracted dataset: ',secCarb1.nx,secCarb1.ny)\n",
    "print('X min/max: ',secCarb1.x.min(),secCarb1.x.max())\n",
    "print('Y min/max: ',secCarb1.y.min(),secCarb1.y.max())"
   ]
  },
  {
   "cell_type": "code",
   "execution_count": null,
   "metadata": {},
   "outputs": [],
   "source": [
    "# Section 1\n",
    "sec1=np.zeros((2,2))\n",
    "sec1[0,:] = [134722,626561]\n",
    "sec1[1,:] = [247105,550163]"
   ]
  },
  {
   "cell_type": "code",
   "execution_count": null,
   "metadata": {},
   "outputs": [],
   "source": [
    "pt = []\n",
    "pt.append(sec1)"
   ]
  },
  {
   "cell_type": "code",
   "execution_count": null,
   "metadata": {},
   "outputs": [],
   "source": [
    "secCarb1.plotSectionMap(title='Elevation', color=cmo.cm.delta, crange=[-5000,5000], pt=pt,size=(8,8))"
   ]
  },
  {
   "cell_type": "code",
   "execution_count": null,
   "metadata": {},
   "outputs": [],
   "source": [
    "secCarb1.interpolate(dump=False)\n",
    "secCarb1.buildSection(sec=sec1)"
   ]
  },
  {
   "cell_type": "code",
   "execution_count": null,
   "metadata": {},
   "outputs": [],
   "source": [
    "section.viewSection(width = 1000, height = 500, cs = secCarb1, \n",
    "            dnlay = 1, rangeX=[0,120000], rangeY=[-75,40],\n",
    "            linesize = 0.5, title='Cross-section 1')"
   ]
  },
  {
   "cell_type": "code",
   "execution_count": null,
   "metadata": {},
   "outputs": [],
   "source": []
  }
 ],
 "metadata": {
  "kernelspec": {
   "display_name": "Python 3",
   "language": "python",
   "name": "python3"
  },
  "language_info": {
   "codemirror_mode": {
    "name": "ipython",
    "version": 3
   },
   "file_extension": ".py",
   "mimetype": "text/x-python",
   "name": "python",
   "nbconvert_exporter": "python",
   "pygments_lexer": "ipython3",
   "version": "3.5.3"
  }
 },
 "nbformat": 4,
 "nbformat_minor": 2
}
