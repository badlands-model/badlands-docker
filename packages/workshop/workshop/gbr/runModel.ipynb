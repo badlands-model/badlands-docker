{
 "cells": [
  {
   "cell_type": "markdown",
   "metadata": {},
   "source": [
    "# Holocene Great Barrier Reef evolution\n",
    "\n",
    "\n",
    "At basin-scale sediment transport and reef evolution are strongly controlled by large-scale forcings. Our model allows consideration of the following set of external forcing mechanisms: \n",
    "+ sea-level oscillations, \n",
    "+ rates of tectonic changes, \n",
    "+ rainfall regimes and \n",
    "+ boundary wave conditions. \n",
    "\n",
    "Spatial and temporal variations in precipitation can be applied as a set of maps representing an annual rainfall regime. The tectonic changes are provided as a series of temporal maps. Each map can have variable spatial cumulative displacements making it possible to simulate complex 3D tectonic evolution with both vertical (uplift and subsidence) and horizontal directions. The combination of these forcing mechanisms controls the evolution of the hydrodynamic conditions and the associated sediment transport regimes as well as marine carbonate production.\n",
    "\n",
    "***\n",
    "\n",
    "<img src=\"images/erodep.jpg\" alt=\"geometry\" width=\"1000\" height=\"500\"/>\n",
    "\n",
    "***\n",
    "\n",
    "Maps of cumulative erosion/deposition in metres at final time step combining fluvial, waves and coral reef processes for northern (left) and southern (right) GBR regions - for higher resolution simulation than the one propose in this example."
   ]
  },
  {
   "cell_type": "code",
   "execution_count": null,
   "metadata": {
    "scrolled": true
   },
   "outputs": [],
   "source": [
    "from badlands.model import Model as badlandsModel"
   ]
  },
  {
   "cell_type": "markdown",
   "metadata": {},
   "source": [
    "## Starting badlands\n",
    "\n",
    "First, we initialise the model and set the path to the **XmL** input file:\n",
    "\n",
    "+ **input_fast.xml**\n",
    "\n",
    "> You can edit the **XmL** configuration file directly in the _Jupyter environment_ by clicking on it in the `tree` and changing in the **url** the **view** to **edit**."
   ]
  },
  {
   "cell_type": "code",
   "execution_count": null,
   "metadata": {},
   "outputs": [],
   "source": [
    "# Initialise model\n",
    "model = badlandsModel()\n",
    "\n",
    "# Define the XmL input file\n",
    "model.load_xml('input_fast.xml')"
   ]
  },
  {
   "cell_type": "markdown",
   "metadata": {},
   "source": [
    "## Running badlands\n",
    "\n",
    "We can run the model for a given period. The end time in the **XmL** input file is set to _0_ (present day) but you might want to run the model for a coupled of iterations and check the output before running the model for the entire simulation time. \n",
    "\n",
    "This is done by putting the time in the `run_to_time` function. \n",
    "\n",
    "Here we go for the full time directly..."
   ]
  },
  {
   "cell_type": "code",
   "execution_count": null,
   "metadata": {
    "scrolled": false
   },
   "outputs": [],
   "source": [
    "model.run_to_time(0)"
   ]
  },
  {
   "cell_type": "code",
   "execution_count": null,
   "metadata": {},
   "outputs": [],
   "source": []
  }
 ],
 "metadata": {
  "kernelspec": {
   "display_name": "Python 3",
   "language": "python",
   "name": "python3"
  },
  "language_info": {
   "codemirror_mode": {
    "name": "ipython",
    "version": 3
   },
   "file_extension": ".py",
   "mimetype": "text/x-python",
   "name": "python",
   "nbconvert_exporter": "python",
   "pygments_lexer": "ipython3",
   "version": "3.5.3"
  }
 },
 "nbformat": 4,
 "nbformat_minor": 1
}
