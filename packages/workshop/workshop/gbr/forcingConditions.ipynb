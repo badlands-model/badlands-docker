{
 "cells": [
  {
   "cell_type": "markdown",
   "metadata": {},
   "source": [
    "This example is based on the following studies:\n",
    "\n",
    "> **A unified framework for modelling sediment fate from source to sink and its interactions with reef systems over geological times** -- Tristan Salles, Xuesong Ding, Jody M. Webster, Ana Vila-Concejo, Gilles Brocard, & Jodie Pall -- Nature Scientific Report -- in Press."
   ]
  },
  {
   "cell_type": "code",
   "execution_count": null,
   "metadata": {},
   "outputs": [],
   "source": [
    "import warnings\n",
    "warnings.filterwarnings('ignore')\n",
    "warnings.simplefilter(action = \"ignore\", category = FutureWarning)\n",
    "\n",
    "import cmocean as cmo\n",
    "from matplotlib import cm\n",
    "from scripts import readInput as rInput\n",
    "\n",
    "# display plots in SVG format\n",
    "%config InlineBackend.figure_format = 'svg'\n",
    "%matplotlib inline"
   ]
  },
  {
   "cell_type": "markdown",
   "metadata": {},
   "source": [
    "# Sediment transport processes in mixed siliciclastic-carbonate systems\n",
    "\n",
    "<div class=\"alert alert-block alert-info\">We will simulate the post-glacial evolution of sediment accumulation along the **Great Barrier Reef** and explore landscape erosion, sedimentation patterns and reef growth with Badlands.</div>\n",
    "\n",
    "***\n",
    "\n",
    "## Study area\n",
    "\n",
    "<img src=\"images/gbr.jpg\" alt=\"geometry\" width=\"900\" height=\"400\"/>\n",
    "\n",
    "The initial surface used in the model is based on a 100 m resolution grid33 that combines high-resolution bathymetry and a land digital elevation model. The dataset was resampled to a resolution of 2 km. To construct the paleo-surface we further modified the bathymetry to account for (1) sediment accumulation along the coast and the inner shelf and (2) coral reef development since the Holocene.\n",
    "\n",
    "To construct our initial paleo-surface to run the model, we assumed an average maximum 7.5 m deposition along the entire coast at around the 15 m isobath, tapering to 0 m at the coast and at the 25 m isobath, and removed this estimated sediment wedge from the initial surface. \n",
    "\n",
    "The paleo-surface is then further refined by removing the average thickness of the Holocene reefs. Details of reef cores reaching the Pleistocene surface in the GBR show variations in reef thicknesses from 5 to 25 m. To remove the Holocene coral reefs, we first obtained the modern reef positions and remove estimated Holocene coral reef thicknesses in these locations."
   ]
  },
  {
   "cell_type": "markdown",
   "metadata": {},
   "source": [
    "***\n",
    "\n",
    "\n",
    "## Initial surface "
   ]
  },
  {
   "cell_type": "code",
   "execution_count": null,
   "metadata": {},
   "outputs": [],
   "source": [
    "forcings = rInput.readInput()"
   ]
  },
  {
   "cell_type": "code",
   "execution_count": null,
   "metadata": {},
   "outputs": [],
   "source": [
    "forcings.readDEM('data/gbrnodes.csv')"
   ]
  },
  {
   "cell_type": "markdown",
   "metadata": {},
   "source": [
    "On all the plots below we will use the cmocean [colormap](https://matplotlib.org/cmocean/)."
   ]
  },
  {
   "cell_type": "code",
   "execution_count": null,
   "metadata": {},
   "outputs": [],
   "source": [
    "forcings.plotInputGrid(data=forcings.Z,title=\"elevation\",\n",
    "                       mind=-4000.,maxd=4000,color=cmo.cm.delta)"
   ]
  },
  {
   "cell_type": "markdown",
   "metadata": {},
   "source": [
    "***\n",
    "\n",
    "## Sea level\n",
    "\n",
    "The Australian region was relatively stable tectonically over the simulated period (11 ky), therefore, sea level changes represent the main factor controlling sediment accumulation across the GBR shelf. \n",
    "\n",
    "Holocene sea level variability around Australia has been the focus of many studies, there is a general consensus in regards to the timing and magnitude of mid-Holocene sea level highstand. \n",
    "\n",
    "However, the evidence is contradictory about the timing of the late Holocene sea level fall. Here, we used the sea level curve from Lambeck et al. "
   ]
  },
  {
   "cell_type": "code",
   "execution_count": null,
   "metadata": {},
   "outputs": [],
   "source": [
    "forcings.readSea('data/lambeck14.csv') "
   ]
  },
  {
   "cell_type": "markdown",
   "metadata": {},
   "source": [
    "From 14 to ∼ 8.2 ka, the average rate of rise was about 12 m/ka and progressively decreased to ∼ 2.5 ka after which ocean volumes remained nearly constant.\n",
    "\n",
    "## Precipitation map \n",
    "\n",
    "Rainfall varies substantially across the region and occurs mainly during Austral summer (from November to April). Mountains along the escarpment between Cairns and Trully receive the highest rainfall, owing to orographic effects.\n",
    "\n",
    "We use the 30-year average rainfall map as a proxy for regional distribution of precipitation patterns. This assumption is valid as trade-winds have not changed significantly in direction and because orographic effects in the past would have certainly cause local rainfall anomalies similar to the ones observed at present day. "
   ]
  },
  {
   "cell_type": "code",
   "execution_count": null,
   "metadata": {},
   "outputs": [],
   "source": [
    "forcings.readRain('data/gbrrain.csv')"
   ]
  },
  {
   "cell_type": "code",
   "execution_count": null,
   "metadata": {},
   "outputs": [],
   "source": [
    "forcings.plotInputGrid(data=forcings.rain,title=\"precipitation [m/y]\",\n",
    "                       mind=0.,maxd=4,color=cmo.cm.ice_r)"
   ]
  },
  {
   "cell_type": "markdown",
   "metadata": {},
   "source": [
    "## Antecedent hard rock surface\n",
    "\n",
    "Reef growth in the model requires prior knowledge of antecedent Pleistocene substrate and uses this information to simulate coral reef evolution. \n",
    "\n",
    "Here we assign a value of 0 (_i.e._ hard rock) to today's reef growth location and of 1 (_i.e._ loose sediment) to the other area."
   ]
  },
  {
   "cell_type": "code",
   "execution_count": null,
   "metadata": {},
   "outputs": [],
   "source": [
    "forcings.readEroLay('data/gbrbase.csv')"
   ]
  },
  {
   "cell_type": "code",
   "execution_count": null,
   "metadata": {},
   "outputs": [],
   "source": [
    "forcings.plotInputGrid(data=forcings.erolays[0],title=\"erodibility layer 2\",\n",
    "                       mind=0,maxd=2,color=cmo.cm.matter)"
   ]
  },
  {
   "cell_type": "code",
   "execution_count": null,
   "metadata": {},
   "outputs": [],
   "source": []
  }
 ],
 "metadata": {
  "kernelspec": {
   "display_name": "Python 3",
   "language": "python",
   "name": "python3"
  },
  "language_info": {
   "codemirror_mode": {
    "name": "ipython",
    "version": 3
   },
   "file_extension": ".py",
   "mimetype": "text/x-python",
   "name": "python",
   "nbconvert_exporter": "python",
   "pygments_lexer": "ipython3",
   "version": "3.5.3"
  }
 },
 "nbformat": 4,
 "nbformat_minor": 2
}
