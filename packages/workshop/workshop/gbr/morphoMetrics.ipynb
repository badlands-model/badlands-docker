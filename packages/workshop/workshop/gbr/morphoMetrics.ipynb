{
 "cells": [
  {
   "cell_type": "markdown",
   "metadata": {},
   "source": [
    "# Extracting model outputs\n",
    "\n",
    "***\n",
    "\n",
    "<img src=\"images/wavegbr.jpg\" alt=\"geometry\" width=\"800\" height=\"550\"/>\n",
    "\n",
    "*** \n",
    "\n",
    "\n",
    "> To compare output volume from the simulation with observed volume, it is necessary to convert the offshore volumes into grain volume by subtracting the pore space (here Sofia's used 54% in situ porosity) and a weighted average onshore porosity (~33%). \n",
    "\n",
    "<div class=\"alert alert-block alert-info\">In this notebook, we will extract different parameters from our simulation and do some basic post-processing analyses.</div>\n",
    "\n",
    "Some of the things that could be explore:\n",
    "\n",
    "+ how high sediment loads from catchments erosion influenced coral growth during the transgression phase,\n",
    "+ what is the relation between inland incision and sediment gravity-flows in the deepest parts of the basin floor; \n",
    "+ what are the relationships between climate, sea-level, and margin physiography and how it enabled coral reefs to thrive."
   ]
  },
  {
   "cell_type": "code",
   "execution_count": null,
   "metadata": {},
   "outputs": [],
   "source": [
    "import warnings\n",
    "warnings.filterwarnings('ignore')\n",
    "warnings.simplefilter(action = \"ignore\", category = FutureWarning)\n",
    "\n",
    "import numpy as np\n",
    "import cmocean as cmo\n",
    "from matplotlib import cm\n",
    "\n",
    "from scripts import analyseWaveReef as wrAnalyse\n",
    "\n",
    "# display plots in SVG format\n",
    "%config InlineBackend.figure_format = 'svg'\n",
    "%matplotlib inline"
   ]
  },
  {
   "cell_type": "markdown",
   "metadata": {},
   "source": [
    "## Loading the dataset\n",
    "\n",
    "We first load the simulation last output file (timestep=22)"
   ]
  },
  {
   "cell_type": "code",
   "execution_count": null,
   "metadata": {},
   "outputs": [],
   "source": [
    "dataTIN = wrAnalyse.analyseWaveReef(folder='output',timestep=22)"
   ]
  },
  {
   "cell_type": "code",
   "execution_count": null,
   "metadata": {},
   "outputs": [],
   "source": [
    "dataTIN.regridTINdataSet()"
   ]
  },
  {
   "cell_type": "markdown",
   "metadata": {},
   "source": [
    "We can plot a series of different parameters from the model for the chosen timestep:\n",
    "\n",
    "+ elevation: `dataTIN.z`\n",
    "+ slope: `dataTIN.slp`\n",
    "+ total erosion/deposition: `dataTIN.dz`\n",
    "+ wave-induced erosion/deposition: `dataTIN.wavesed`\n",
    "+ wave-induced shear stress: `dataTIN.wavestress`\n",
    "+ hillslope induced erosion/deposition : `dataTIN.cumhill`\n",
    "+ reef present/absent: `dataTIN.depreef`\n",
    "+ aspect: `dataTIN.aspect`\n",
    "+ horizontal curvature: `dataTIN.hcurv`\n",
    "+ vertical curvature: `dataTIN.vcurv`"
   ]
  },
  {
   "cell_type": "code",
   "execution_count": null,
   "metadata": {},
   "outputs": [],
   "source": [
    "dataTIN.plotdataSet(title='Elevation', data=dataTIN.z, color=cmo.cm.delta,crange=[-2000,2000])"
   ]
  },
  {
   "cell_type": "code",
   "execution_count": null,
   "metadata": {},
   "outputs": [],
   "source": [
    "dataTIN.plotdataSet(title='Total erosion/deposition [m]', data=dataTIN.dz, color=cmo.cm.balance,crange=[-20.,20.])"
   ]
  },
  {
   "cell_type": "code",
   "execution_count": null,
   "metadata": {},
   "outputs": [],
   "source": [
    "dataTIN.plotdataSet(title='Wave erosion/deposition [m]', data=dataTIN.wavesed, color=cmo.cm.balance,crange=[-5.,5.])"
   ]
  },
  {
   "cell_type": "code",
   "execution_count": null,
   "metadata": {},
   "outputs": [],
   "source": [
    "dataTIN.plotdataSet(title='Hillslope erosion/deposition [m]', data=dataTIN.cumhill, color=cmo.cm.balance,\n",
    "                      crange=[-2.5,2.5])"
   ]
  },
  {
   "cell_type": "code",
   "execution_count": null,
   "metadata": {},
   "outputs": [],
   "source": [
    "dataTIN.plotdataSet(title='Wave induced stress', data=dataTIN.wavestress, color=cmo.cm.tempo,crange=[0.,2.],ctr='k')"
   ]
  },
  {
   "cell_type": "code",
   "execution_count": null,
   "metadata": {},
   "outputs": [],
   "source": [
    "dataTIN.plotdataSet(title='Reef absent/present', data=dataTIN.depreef, color=cm.Blues,\n",
    "                      crange=[0,2])"
   ]
  },
  {
   "cell_type": "markdown",
   "metadata": {},
   "source": [
    "## Analysing sediment erosion/deposition and reef growth\n",
    "\n",
    "We have access to the deposited volume over time and can perform with IPython notebook calculation of the accumulated volume in the entire region or in a specific area. This can be done in this way:"
   ]
  },
  {
   "cell_type": "markdown",
   "metadata": {},
   "source": [
    "\n",
    "We will use the following area for this example:\n",
    "\n",
    "***\n",
    "\n",
    "<img src=\"images/geo.jpg\" alt=\"geometry\" width=\"800\" height=\"550\"/>\n",
    "\n",
    "*** \n",
    "\n",
    "\n",
    "We first define the area where we will perform our analyse:\n",
    "\n",
    "+ `erange`: [100000,250000,540000,640000]\n",
    "\n",
    "and plot the total sedimentation change (erosion & deposition) `dataTIN.dz`."
   ]
  },
  {
   "cell_type": "code",
   "execution_count": null,
   "metadata": {},
   "outputs": [],
   "source": [
    "dataTIN.plotdataSet(title='Erosion/Deposition [m]', data=dataTIN.dz, color=cmo.cm.balance,  \n",
    "                      crange=[-25,25], erange=[100000,250000,540000,640000],\n",
    "                      depctr=(-2,10),ctr='k',size=(10,10))"
   ]
  },
  {
   "cell_type": "markdown",
   "metadata": {},
   "source": [
    "Then we look if there is any reef in the region... we should have some based on the GoogleMap image above!"
   ]
  },
  {
   "cell_type": "code",
   "execution_count": null,
   "metadata": {},
   "outputs": [],
   "source": [
    "dataTIN.plotdataSet(title='Reef position', data=dataTIN.depreef, color=cmo.cm.balance,  \n",
    "                      crange=[-2,2], erange=[100000,250000,540000,640000],\n",
    "                      depctr=(1),ctr='k',size=(10,10))"
   ]
  },
  {
   "cell_type": "markdown",
   "metadata": {},
   "source": [
    "We can now compute a series of information regarding erosion/deposition volume for the selected region.\n",
    "\n",
    "### Total volume of erosion and deposition"
   ]
  },
  {
   "cell_type": "code",
   "execution_count": null,
   "metadata": {},
   "outputs": [],
   "source": [
    "dataTIN.getDepositedVolume(data=dataTIN.dz,time=11000.,erange=[100000,250000,540000,640000])\n",
    "print('----')\n",
    "dataTIN.getErodedVolume(data=dataTIN.dz,time=11000.,erange=[100000,250000,540000,640000])"
   ]
  },
  {
   "cell_type": "markdown",
   "metadata": {},
   "source": [
    "### Total volume of erosion and deposition induced by hillslope processes"
   ]
  },
  {
   "cell_type": "code",
   "execution_count": null,
   "metadata": {},
   "outputs": [],
   "source": [
    "dataTIN.getDepositedVolume(data=dataTIN.cumhill,time=11000.,erange=[100000,250000,540000,640000])\n",
    "print('----')\n",
    "dataTIN.getErodedVolume(data=dataTIN.cumhill,time=11000.,erange=[100000,250000,540000,640000])"
   ]
  },
  {
   "cell_type": "markdown",
   "metadata": {},
   "source": [
    "### Total volume of erosion and deposition induced by wave processes"
   ]
  },
  {
   "cell_type": "code",
   "execution_count": null,
   "metadata": {},
   "outputs": [],
   "source": [
    "dataTIN.getDepositedVolume(data=dataTIN.wavesed,time=11000.,erange=[100000,250000,540000,640000])\n",
    "print('----')\n",
    "dataTIN.getErodedVolume(data=dataTIN.wavesed,time=11000.,erange=[100000,250000,540000,640000])"
   ]
  },
  {
   "cell_type": "markdown",
   "metadata": {},
   "source": [
    "### Total volume of erosion and deposition around reef systems"
   ]
  },
  {
   "cell_type": "code",
   "execution_count": null,
   "metadata": {},
   "outputs": [],
   "source": [
    "r,c = np.where(dataTIN.depreef>0)\n",
    "erodepreef = np.zeros(dataTIN.dz.shape)\n",
    "erodepreef[r,c] = dataTIN.dz[r,c]\n",
    "dataTIN.getDepositedVolume(data=erodepreef,time=11000.,erange=[100000,250000,540000,640000])\n",
    "print('----')\n",
    "dataTIN.getErodedVolume(data=erodepreef,time=11000.,erange=[100000,250000,540000,640000])"
   ]
  },
  {
   "cell_type": "markdown",
   "metadata": {},
   "source": [
    "## Temporal analyse of reef growth\n",
    "\n",
    "Up to now, we have only looked at the last time step, obviously we have access to all these information over time in our model. \n",
    "\n",
    "Here is an example of how to plot deposition and erosion rate through time on the reefs only. It can give some information on the timing of the reefs _turn-on_ for example in this particular area. \n",
    "\n",
    "This can be done in this way:"
   ]
  },
  {
   "cell_type": "code",
   "execution_count": null,
   "metadata": {},
   "outputs": [],
   "source": [
    "time = np.linspace(-10000.0, 0.0, num=21)\n",
    "time,ero,depo = wrAnalyse.temporalGrowth(folder='output',step=22,vtime=time,\n",
    "                                         smooth=100,vrange=[100000,250000,540000,640000])\n",
    "wrAnalyse.temporalPlot(time,ero,depo,size=(8,5))"
   ]
  },
  {
   "cell_type": "markdown",
   "metadata": {},
   "source": [
    "# Additional comparisons...\n",
    "\n",
    "***\n",
    "\n",
    "<img src=\"images/obs.jpg\" alt=\"geometry\" width=\"1000\" height=\"550\"/>\n",
    "\n",
    "*** \n",
    "\n",
    "3D view of the GBR between Cairns and Cooktown highlighting sediment transport from mountain ranges to the coast, and from the coast to the Queensland Trough. On the inner shelf dominant wave direction (SE) rework sediments to the North (black arrows). On the mid shelf, coral reef develops. Sediment transfer across the slope happens through V-shaped canyons. White lines (1–2–3) mark the location of seismic lines in b. b) Topas seismic section illustrating sediment gravity flow (SGF) and thin-bedded deposits for Canyon 8. c) 3D view of the Noggin region (canyons and slope) with draped GLORIA side-scan sonar backscatter imagery. High-reflectivity (white toned) areas correspond to SGFs and landslide deposits (b and c are adapted from Puga-Bernabeu et al.)"
   ]
  },
  {
   "cell_type": "code",
   "execution_count": null,
   "metadata": {},
   "outputs": [],
   "source": []
  }
 ],
 "metadata": {
  "kernelspec": {
   "display_name": "Python 3",
   "language": "python",
   "name": "python3"
  },
  "language_info": {
   "codemirror_mode": {
    "name": "ipython",
    "version": 3
   },
   "file_extension": ".py",
   "mimetype": "text/x-python",
   "name": "python",
   "nbconvert_exporter": "python",
   "pygments_lexer": "ipython3",
   "version": "3.5.3"
  }
 },
 "nbformat": 4,
 "nbformat_minor": 2
}
