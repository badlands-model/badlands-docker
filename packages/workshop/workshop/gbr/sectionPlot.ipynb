{
 "cells": [
  {
   "cell_type": "markdown",
   "metadata": {},
   "source": [
    "# Reef cross section\n",
    "\n",
    "\n",
    "***\n",
    "\n",
    "<img src=\"images/section.jpg\" alt=\"geometry\" width=\"940\" height=\"800\"/>\n",
    "\n",
    "***\n",
    "\n",
    "Example of cross sections through one Badlands model predicted stratigraphy showing time layers of mixed siliciclastic-carbonate accretion NW of Swain Reef and offshore of Princess Charlotte Bay.\n",
    "\n",
    "\n",
    "<div class=\"alert alert-block alert-info\">In this notebook, we will use the recorded underlying stratigraphy to extract information regarding reef growth in different regions of the continental shelf.</div>\n"
   ]
  },
  {
   "cell_type": "code",
   "execution_count": null,
   "metadata": {},
   "outputs": [],
   "source": [
    "import warnings\n",
    "warnings.filterwarnings('ignore')\n",
    "warnings.simplefilter(action = \"ignore\", category = FutureWarning)\n",
    "\n",
    "import numpy as np\n",
    "import cmocean as cmo\n",
    "from matplotlib import cm\n",
    "\n",
    "from scripts import sectionCarbonate as section\n",
    "\n",
    "# display plots in SVG format\n",
    "%config InlineBackend.figure_format = 'svg'\n",
    "%matplotlib inline"
   ]
  },
  {
   "cell_type": "markdown",
   "metadata": {},
   "source": [
    "# Section locations\n",
    "\n",
    "First we will define the locations where we would like to make some cross-sections.\n",
    "\n",
    "We define the model output `folder` in our case it is called _output_ and the time `step` we want to plot (here 22, the final time). "
   ]
  },
  {
   "cell_type": "code",
   "execution_count": null,
   "metadata": {},
   "outputs": [],
   "source": [
    "secmap = section.sectionCarbonate(folder = 'output',step=22)"
   ]
  },
  {
   "cell_type": "markdown",
   "metadata": {},
   "source": [
    "We define each cross-sections based on their X,Y coordinates as _numpy_ vector (_np_)."
   ]
  },
  {
   "cell_type": "code",
   "execution_count": null,
   "metadata": {},
   "outputs": [],
   "source": [
    "# Section 1\n",
    "sec1=np.zeros((2,2))\n",
    "sec1[0,:] = [287882,469598]\n",
    "sec1[1,:] = [368169,572448]\n",
    "\n",
    "# Section 2\n",
    "sec2=np.zeros((2,2))\n",
    "sec2[0,:] = [134722,626561]\n",
    "sec2[1,:] = [257105,500163]\n",
    "\n",
    "# Section 3\n",
    "sec3=np.zeros((2,2))\n",
    "sec3[0,:] = [481670,62921.5]\n",
    "sec3[1,:] = [603090,26405]"
   ]
  },
  {
   "cell_type": "markdown",
   "metadata": {},
   "source": [
    "We then combine them together in a Python list using the command `append()`"
   ]
  },
  {
   "cell_type": "code",
   "execution_count": null,
   "metadata": {},
   "outputs": [],
   "source": [
    "pt = []\n",
    "pt.append(sec1)\n",
    "pt.append(sec2)\n",
    "pt.append(sec3)"
   ]
  },
  {
   "cell_type": "markdown",
   "metadata": {},
   "source": [
    "Let's have a look at where our cross-sections are:"
   ]
  },
  {
   "cell_type": "code",
   "execution_count": null,
   "metadata": {},
   "outputs": [],
   "source": [
    "secmap.plotSectionMap(title='Elevation', color=cmo.cm.delta, crange=[-5000,5000], pt=pt,size=(8,8))"
   ]
  },
  {
   "cell_type": "markdown",
   "metadata": {},
   "source": [
    "<div class=\"alert alert-block alert-info\">We will now plot each of these sections in the notebook.</div>\n",
    "\n",
    "\n",
    "# Cross section 1"
   ]
  },
  {
   "cell_type": "code",
   "execution_count": null,
   "metadata": {},
   "outputs": [],
   "source": [
    "secCarb1 = section.sectionCarbonate(folder = 'output',step=22)"
   ]
  },
  {
   "cell_type": "code",
   "execution_count": null,
   "metadata": {},
   "outputs": [],
   "source": [
    "secCarb1.interpolate(dump=False)\n",
    "secCarb1.buildSection(sec=sec1)"
   ]
  },
  {
   "cell_type": "code",
   "execution_count": null,
   "metadata": {},
   "outputs": [],
   "source": [
    "section.viewSection(width = 700, height = 500, cs = secCarb1, \n",
    "            dnlay = 1, rangeX=[30000, 98000], rangeY=[-75,40],\n",
    "            linesize = 0.5, title='Cross-section 1')"
   ]
  },
  {
   "cell_type": "markdown",
   "metadata": {},
   "source": [
    "# Cross section 2"
   ]
  },
  {
   "cell_type": "code",
   "execution_count": null,
   "metadata": {},
   "outputs": [],
   "source": [
    "secCarb2 = section.sectionCarbonate(folder = 'output',step=22)"
   ]
  },
  {
   "cell_type": "code",
   "execution_count": null,
   "metadata": {},
   "outputs": [],
   "source": [
    "secCarb2.interpolate(dump=False)\n",
    "secCarb2.buildSection(sec=sec2)"
   ]
  },
  {
   "cell_type": "code",
   "execution_count": null,
   "metadata": {},
   "outputs": [],
   "source": [
    "section.viewSection(width = 1000, height = 600, cs = secCarb2, \n",
    "            dnlay = 1, rangeX=[0, 170000], rangeY=[-75,120],\n",
    "            linesize = 0.5, title='Cross-section 2')"
   ]
  },
  {
   "cell_type": "markdown",
   "metadata": {},
   "source": [
    "# Cross section 3"
   ]
  },
  {
   "cell_type": "code",
   "execution_count": null,
   "metadata": {},
   "outputs": [],
   "source": [
    "secCarb3 = section.sectionCarbonate(folder = 'output',step=22)"
   ]
  },
  {
   "cell_type": "code",
   "execution_count": null,
   "metadata": {},
   "outputs": [],
   "source": [
    "secCarb3.interpolate(dump=False)\n",
    "secCarb3.buildSection(sec=sec3)"
   ]
  },
  {
   "cell_type": "code",
   "execution_count": null,
   "metadata": {},
   "outputs": [],
   "source": [
    "section.viewSection(width = 800, height = 500, cs = secCarb3, \n",
    "            dnlay = 1, rangeX=[0, 120000], rangeY=[-75,50],\n",
    "            linesize = 0.5, title='Cross-section 3')"
   ]
  },
  {
   "cell_type": "code",
   "execution_count": null,
   "metadata": {},
   "outputs": [],
   "source": []
  }
 ],
 "metadata": {
  "kernelspec": {
   "display_name": "Python 3",
   "language": "python",
   "name": "python3"
  },
  "language_info": {
   "codemirror_mode": {
    "name": "ipython",
    "version": 3
   },
   "file_extension": ".py",
   "mimetype": "text/x-python",
   "name": "python",
   "nbconvert_exporter": "python",
   "pygments_lexer": "ipython3",
   "version": "3.5.3"
  }
 },
 "nbformat": 4,
 "nbformat_minor": 2
}
