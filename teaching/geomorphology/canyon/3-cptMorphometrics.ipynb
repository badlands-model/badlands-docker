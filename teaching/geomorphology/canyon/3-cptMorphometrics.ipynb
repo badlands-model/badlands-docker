{
 "cells": [
  {
   "cell_type": "markdown",
   "metadata": {},
   "source": [
    "# Morphometrics\n",
    "\n",
    "We will see how we can use any given surface from Badlands to extract several parameters relative to **morphometrics analysis**. The analysis relies only on the `tin` files (*i.e.* surface) produced by Badlands."
   ]
  },
  {
   "cell_type": "code",
   "execution_count": null,
   "metadata": {},
   "outputs": [],
   "source": [
    "%matplotlib inline\n",
    "\n",
    "import numpy as np\n",
    "# Import badlands grid generation toolbox\n",
    "from scripts import morphoGrid as morph\n",
    "\n",
    "# display plots in SVG format\n",
    "%config InlineBackend.figure_format = 'svg' "
   ]
  },
  {
   "cell_type": "markdown",
   "metadata": {
    "collapsed": true
   },
   "source": [
    "# 1. Define analyse bounding box\n",
    "\n",
    "We first have to define the path to the Badlands outputs we want to analyse. \n",
    "\n",
    "We then need to provide the extent of the area we want to perform morphometrics analysis on using the `bbox` parameters which is numpy array containing the extent in the following order [xlow,ylow,xup,yup]. \n",
    "\n",
    "Finally you need to specify the resolution you want to work on. Usually Badlands model are ran on resolution of several hundred of metres but you might want to extract the morphemetrics attributes at a much higher resolution. This is done using the `dx` parameter which is in metres.\n",
    "\n",
    "For more information regarding the function uncomment the following line."
   ]
  },
  {
   "cell_type": "code",
   "execution_count": null,
   "metadata": {},
   "outputs": [],
   "source": [
    "#help(morph.morphoGrid.__init__)"
   ]
  },
  {
   "cell_type": "code",
   "execution_count": null,
   "metadata": {},
   "outputs": [],
   "source": [
    "morpho = morph.morphoGrid(folder='output/h5', bbox = [230150,3935150,449750,4084850], \\\n",
    "                          dx=125)"
   ]
  },
  {
   "cell_type": "markdown",
   "metadata": {},
   "source": [
    "# 2. Cross-sections analyses\n",
    "\n",
    "This function helps you to create a cross-section from 2 points (xo,yo) and (xm,ym). The create section will interpolate the attributes over the desired slice using a bivariate spline method. \n",
    "\n",
    "The resulting section is then plotted as a 2D scatter and line graph using **plotly** library."
   ]
  },
  {
   "cell_type": "code",
   "execution_count": null,
   "metadata": {},
   "outputs": [],
   "source": [
    "# Number of points per cross-section\n",
    "nbPts = 401\n",
    "# Extent of the cross-section along X-axis\n",
    "xmin = 277413.\n",
    "xmax = 277413.\n",
    "# Extent of the cross-section along Y-axis\n",
    "ymin = 3935150\n",
    "ymax = 4084850.\n",
    "# Define timestep and according time interval based on display time in the XML input file\n",
    "timeStp = [0,6,12]"
   ]
  },
  {
   "cell_type": "markdown",
   "metadata": {},
   "source": [
    "Now that we have defined the parameters we use the following loop to create the cross-section along the specify X,Y coordinates for each time step of the landscape.\n",
    "\n",
    "For more information regarding the functions used here uncomment the following line."
   ]
  },
  {
   "cell_type": "code",
   "execution_count": null,
   "metadata": {},
   "outputs": [],
   "source": [
    "#help(morpho.extractSection)\n",
    "#help(morpho.statProfiles)"
   ]
  },
  {
   "cell_type": "code",
   "execution_count": null,
   "metadata": {},
   "outputs": [],
   "source": [
    "zlist = np.zeros((1,nbPts))\n",
    "    \n",
    "zmin = np.zeros((len(timeStp),nbPts))\n",
    "zmean = np.zeros((len(timeStp),nbPts))\n",
    "zmax = np.zeros((len(timeStp),nbPts))\n",
    "\n",
    "# Loop over the different time steps \n",
    "for t in range(len(timeStp)):\n",
    "    \n",
    "    step = timeStp[t]\n",
    "    \n",
    "    # Load Badlands output for each required time step\n",
    "    morpho.loadHDF5(timestep=step)\n",
    "\n",
    "    dist, zlist[0,:] = morpho.extractSection(xo = xmin, yo = ymin, xm = xmax, ym = ymax, pts = nbPts, vData = morpho.z, \n",
    "                   view = False, width = 800, height = 200, color = 'black', linesize = 3, \n",
    "                   markersize = 1, title = 'Cross section %d'% step)\n",
    "        \n",
    "    zmin[t,:], zmean[t,:], zmax[t,:] = morpho.statProfiles(pData = zlist, pDist = dist, width = 1000, height = 300, \n",
    "                   color = 'black', linesize = 3, title = 'Analyse sections at time %5.2f Ma' %timeStp[t])"
   ]
  },
  {
   "cell_type": "markdown",
   "metadata": {},
   "source": [
    "# 4. Time evolution\n",
    "\n",
    "We can then visualise the profiles through time on a single graph:"
   ]
  },
  {
   "cell_type": "code",
   "execution_count": null,
   "metadata": {},
   "outputs": [],
   "source": [
    "#help(morpho.timeProfiles)"
   ]
  },
  {
   "cell_type": "code",
   "execution_count": null,
   "metadata": {},
   "outputs": [],
   "source": [
    "morpho.timeProfiles(pData = zmean, pDist = dist, width = 1000, height = 400, linesize = 3,\n",
    "                    title = 'Profiles evolution with time')"
   ]
  },
  {
   "cell_type": "code",
   "execution_count": null,
   "metadata": {},
   "outputs": [],
   "source": []
  }
 ],
 "metadata": {
  "kernelspec": {
   "display_name": "Python 3 (ipykernel)",
   "language": "python",
   "name": "python3"
  },
  "language_info": {
   "codemirror_mode": {
    "name": "ipython",
    "version": 3
   },
   "file_extension": ".py",
   "mimetype": "text/x-python",
   "name": "python",
   "nbconvert_exporter": "python",
   "pygments_lexer": "ipython3",
   "version": "3.8.13"
  }
 },
 "nbformat": 4,
 "nbformat_minor": 1
}
