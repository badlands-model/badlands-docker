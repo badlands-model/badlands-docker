{
 "cells": [
  {
   "cell_type": "markdown",
   "metadata": {},
   "source": [
    "# Analyse Badlands stratigraphic output\n",
    "\n",
    "If the stratigraphic structure is turned on in the XmL input file, **pyBadlands** produces sedimentary layers Hdf5 files. The stratigraphic layers are defined on a regularly spaced grid and a layer is recorded at each layer time interval given by the user.\n",
    "\n",
    "Here we show how we can visualise quickly the structure of the stratigraphic layer in an IPython notebook."
   ]
  },
  {
   "cell_type": "code",
   "execution_count": null,
   "metadata": {},
   "outputs": [],
   "source": [
    "import warnings\n",
    "warnings.filterwarnings('ignore')\n",
    "\n",
    "import numpy as np\n",
    "import matplotlib.mlab as ml\n",
    "import matplotlib.pyplot as plt\n",
    "import scipy.ndimage.filters as filters\n",
    "from scipy.interpolate import RectBivariateSpline\n",
    "from scipy.ndimage.filters import gaussian_filter\n",
    "\n",
    "from scripts import stratalAnalyse as strata\n",
    "\n",
    "# display plots in SVG format\n",
    "%config InlineBackend.figure_format = 'svg'\n",
    "%matplotlib inline"
   ]
  },
  {
   "cell_type": "markdown",
   "metadata": {},
   "source": [
    "# Loading stratigraphic file\n",
    "\n",
    "First we need to load the stratigraphic file. The files are located in the **h5/** folder in the simulation main output folder and are named using the following convention:\n",
    "- `sed.time`T`.hdf5`\n",
    "\n",
    "with T the display time index. \n",
    "\n",
    "For more information regarding the function uncomment the following line."
   ]
  },
  {
   "cell_type": "code",
   "execution_count": null,
   "metadata": {},
   "outputs": [],
   "source": [
    "# help(strata.stratalSection.__init__)"
   ]
  },
  {
   "cell_type": "code",
   "execution_count": null,
   "metadata": {},
   "outputs": [],
   "source": [
    "folder = 'exp2/h5'\n",
    "strat = strata.stratalSection(folder)"
   ]
  },
  {
   "cell_type": "markdown",
   "metadata": {},
   "source": [
    "Then we need to load a particular output time interval (this is the T parameter in the hdf5 file name convention).\n",
    "\n",
    "**Note**\n",
    "\n",
    "This number is not always the number of sedimentary layers for this particular time step as you could have chosen in the input file to have more than 1 sedimentary layer recorded by output interval!"
   ]
  },
  {
   "cell_type": "code",
   "execution_count": null,
   "metadata": {},
   "outputs": [],
   "source": [
    "# help(strat.loadStratigraphy)"
   ]
  },
  {
   "cell_type": "code",
   "execution_count": null,
   "metadata": {},
   "outputs": [],
   "source": [
    "strat.loadStratigraphy(20) "
   ]
  },
  {
   "cell_type": "markdown",
   "metadata": {},
   "source": [
    "# Building a cross-section\n",
    "\n",
    "We then slice the stratigraphic mesh to visualise the sedimentary architecture along a given cross-section.\n",
    "\n",
    "To create the cross-section you will need to provide:\n",
    "+ the position of the segment in the simulation space _(xo,yo)_ and _(xm,ym)_, \n",
    "+ a gaussian filter value for smoothing (_gfilt_ a value of 0 can be used for non-smoothing) and \n",
    "+ the resolution of the cross-section (based on a number of points: _nbpts_). "
   ]
  },
  {
   "cell_type": "code",
   "execution_count": null,
   "metadata": {},
   "outputs": [],
   "source": [
    "# Build a cross-section along X axis\n",
    "x1 = 0.\n",
    "x2 = 300000.\n",
    "y1 = 75000.\n",
    "y2 = 75000.\n",
    "\n",
    "#x1 = 271500.\n",
    "#x2 = 271500.\n",
    "#y1 = 0.\n",
    "#y2 = 200000.\n",
    "\n",
    "# Interpolation parameters\n",
    "nbpts = 301\n",
    "gfilt = 1"
   ]
  },
  {
   "cell_type": "code",
   "execution_count": null,
   "metadata": {},
   "outputs": [],
   "source": [
    "# help(strat.buildSection)"
   ]
  },
  {
   "cell_type": "code",
   "execution_count": null,
   "metadata": {},
   "outputs": [],
   "source": [
    "strat.buildSection(xo = x1, yo = y1, xm = x2, ym = y2, pts = nbpts, gfilter = gfilt)"
   ]
  },
  {
   "cell_type": "markdown",
   "metadata": {},
   "source": [
    "# Stratal stacking pattern\n",
    "\n",
    "We use **plotly** to visualise the vertival cross-section of stratal stacking apttern."
   ]
  },
  {
   "cell_type": "code",
   "execution_count": null,
   "metadata": {},
   "outputs": [],
   "source": [
    "#help(strata.viewSection)\n",
    "strata.viewSection(width = 1000, height = 500, cs = strat, \n",
    "            dnlay = 1, rangeX=[220000, 300000], rangeY=[-1050,-50],\n",
    "            linesize = 0.5, title='Stratal stacking pattern coloured by time')"
   ]
  },
  {
   "cell_type": "markdown",
   "metadata": {},
   "source": [
    "# Sequence stratigraphy methods proposed in this notebook\n",
    "\n",
    "New analytical methods are proposed in recent years on the interpretation of depositional systems. Here, we apply three methods, including \n",
    "+ **(i) the systems tracts method** in which the declaration of stratigraphic sequences is based on relative sea-level change; \n",
    "+ **(ii) the shoreline trajectory analysis** that defines different trajectory classes according to the migration of shoreline; \n",
    "+ **(iii) the accommodation sucession method** that focuses on the objective observation of depositional trends and then defines different sequence sets reponding to the competing ration between the change of accommodation and sediment supply."
   ]
  },
  {
   "cell_type": "markdown",
   "metadata": {},
   "source": [
    "# Systems Tracts Method - based on relative sea-level\n",
    "\n",
    "There are several models of systems tracts within depositional sequences, here we use the most simple one called the four systems tract model (figure is from [Helland-Hansen & Hampson (2009)](http://onlinelibrary.wiley.com/wol1/doi/10.1111/j.1365-2117.2009.00425.x/full)): <img src=\"images/SystemsTract_RSL.png\" alt=\"Systems tract defined based on relative sea-level\"  width=\"300\" height=\"300\" border=\"10\" />\n",
    "- highstand systems tract **HST** \n",
    "- falling-stage systems tract **FSST**\n",
    "- lowstand systems tract **LST**\n",
    "- transgressive systems tract **TST**\n",
    "\n",
    "For each of these system tracts we define a given color. We use the 'colorlover' library [link](http://moderndata.plot.ly/color-scales-in-ipython-notebook/)"
   ]
  },
  {
   "cell_type": "markdown",
   "metadata": {},
   "source": [
    "## Relative base-level\n",
    "\n",
    "We first visualize the sea-level curve, and then extract **manually** the time intervals that bound different systems tracts, as showed in the above figure."
   ]
  },
  {
   "cell_type": "code",
   "execution_count": null,
   "metadata": {},
   "outputs": [],
   "source": [
    "time, Sealevel = strata.readSea('data/sealevel.csv')\n",
    "timeStep = 500000\n",
    "\n",
    "# Plot sea-level\n",
    "strata.viewData(x0 = time/timeStep, y0 = Sealevel, width = 1000, height = 500, linesize = 3, \n",
    "                color = '#6666FF',title='Sea-level curve',xlegend='display steps',ylegend='sea-level position')"
   ]
  },
  {
   "cell_type": "markdown",
   "metadata": {},
   "source": [
    "We will assign 4 different colors based on relative sea-level change. To visualise the colors you can copy the html code below in the following [website](https://www.w3schools.com/cssref/tryit.asp?filename=trycss_color_rgba):\n",
    "\n",
    "```html\n",
    "<!DOCTYPE html><html>\n",
    "  <head>\n",
    "\t<style>\n",
    "      #p1 {background-color:rgba(213,139,214,0.8);}\n",
    "      #p2 {background-color:rgba(215,171,117,0.8);}\n",
    "      #p3 {background-color:rgba(39,123,70,0.8);}\n",
    "      #p4 {background-color:rgba(82,128,233,0.8);}\n",
    "    </style>\n",
    "  </head>\n",
    "  <body>\n",
    "    <p>RGB colors with opacity for Systems-Tracts:</p>\n",
    "    <p id=\"p1\">HST</p>\n",
    "    <p id=\"p2\">FSST</p>\n",
    "    <p id=\"p3\">LST</p>\n",
    "    <p id=\"p4\">TST</p>\n",
    "  </body>\n",
    "</html>\n",
    "```\n",
    "Define different colors for different systems tracts"
   ]
  },
  {
   "cell_type": "code",
   "execution_count": null,
   "metadata": {},
   "outputs": [],
   "source": [
    "cHST = 'rgba(213,139,214,0.8)' \n",
    "cFSST = 'rgba(215,171,117,0.8)' \n",
    "cLST = 'rgba(39,123,70,0.8)' \n",
    "cTST = 'rgba(82,128,233,0.8)' "
   ]
  },
  {
   "cell_type": "markdown",
   "metadata": {},
   "source": [
    "Specify the extent of every systems tracts according to the relative sea-level change"
   ]
  },
  {
   "cell_type": "code",
   "execution_count": null,
   "metadata": {},
   "outputs": [],
   "source": [
    "HST1 = np.array([0,2],dtype=int)\n",
    "FSST1 = np.array([2,4],dtype=int)\n",
    "LST1 = np.array([4,6],dtype=int)\n",
    "TST1 = np.array([6,8],dtype=int)\n",
    "HST2 = np.array([8,9],dtype=int)\n",
    "FSST2 = np.array([9,12],dtype=int)\n",
    "LST2 = np.array([12,15],dtype=int)\n",
    "TST2 = np.array([15,17],dtype=int)\n",
    "HST3 = np.array([17,21],dtype=int)"
   ]
  },
  {
   "cell_type": "markdown",
   "metadata": {},
   "source": [
    "Build the color list for each systems tract"
   ]
  },
  {
   "cell_type": "code",
   "execution_count": null,
   "metadata": {},
   "outputs": [],
   "source": [
    "# Build the color list\n",
    "STcolors = []\n",
    "for k in range(HST1[0],HST1[1]):\n",
    "    STcolors.append(cHST)\n",
    "for k in range(FSST1[0],FSST1[1]):\n",
    "    STcolors.append(cFSST)\n",
    "for k in range(LST1[0],LST1[1]):\n",
    "    STcolors.append(cLST)\n",
    "for k in range(TST1[0],TST1[1]):\n",
    "    STcolors.append(cTST)\n",
    "for k in range(HST2[0],HST2[1]):\n",
    "    STcolors.append(cHST)\n",
    "for k in range(FSST2[0],FSST2[1]):\n",
    "    STcolors.append(cFSST)\n",
    "for k in range(LST2[0],LST2[1]):\n",
    "    STcolors.append(cLST)\n",
    "for k in range(TST2[0],TST2[1]):\n",
    "    STcolors.append(cTST)\n",
    "for k in range(HST3[0],HST3[1]+3):\n",
    "    STcolors.append(cHST)"
   ]
  },
  {
   "cell_type": "markdown",
   "metadata": {},
   "source": [
    "## Plotting the resulting systems tracts"
   ]
  },
  {
   "cell_type": "code",
   "execution_count": null,
   "metadata": {},
   "outputs": [],
   "source": [
    "# help(strata.viewSectionST)\n",
    "strata.viewSectionST(width = 1000, height = 500, cs=strat, colors=STcolors,\n",
    "                   dnlay = 1, rangeX=[220000, 300000], rangeY=[-1050,-50], \n",
    "                   linesize=0.5, title='Systems tracts interpreted based on relative sea-level (RSL)')"
   ]
  },
  {
   "cell_type": "markdown",
   "metadata": {},
   "source": [
    "# Vertical stacking pattern\n",
    "\n",
    "Vertical stacking patterns (synthetic wells) could also be extracted at different positions to show the thickness of parasequences and the trend of depositional units through time.\n",
    "\n",
    "To extract the vertical staking, first we need to calculate the stacked strata thickness at each position, then color the strata according to the water depth when they are deposited."
   ]
  },
  {
   "cell_type": "code",
   "execution_count": null,
   "metadata": {},
   "outputs": [],
   "source": [
    "# Specify the depositional environment based on water depth\n",
    "envIDs = [-30, 0, 50, 200, 400, 600]  \n",
    "# For each depositional environments define a color \n",
    "color = ['limegreen','darkkhaki','sandybrown','khaki','c', 'teal', 'white']"
   ]
  },
  {
   "cell_type": "code",
   "execution_count": null,
   "metadata": {},
   "outputs": [],
   "source": [
    "# help(strata.getStack)"
   ]
  },
  {
   "cell_type": "code",
   "execution_count": null,
   "metadata": {},
   "outputs": [],
   "source": [
    "# position of wells /km\n",
    "posit = [230, 240, 250, 260, 270]\n",
    "\n",
    "colorFill, layTh = strata.getStack(cs = strat, posit = posit, envIDs = envIDs, color = color, dn = 1)"
   ]
  },
  {
   "cell_type": "markdown",
   "metadata": {},
   "source": [
    "Visualise the synthetic wells"
   ]
  },
  {
   "cell_type": "code",
   "execution_count": null,
   "metadata": {},
   "outputs": [],
   "source": [
    "strata.viewStack(width = 4, height = 5, layTh = layTh, colorFill = colorFill)"
   ]
  },
  {
   "cell_type": "code",
   "execution_count": null,
   "metadata": {},
   "outputs": [],
   "source": []
  }
 ],
 "metadata": {
  "anaconda-cloud": {},
  "kernelspec": {
   "display_name": "Python 3 (ipykernel)",
   "language": "python",
   "name": "python3"
  },
  "language_info": {
   "codemirror_mode": {
    "name": "ipython",
    "version": 3
   },
   "file_extension": ".py",
   "mimetype": "text/x-python",
   "name": "python",
   "nbconvert_exporter": "python",
   "pygments_lexer": "ipython3",
   "version": "3.8.13"
  }
 },
 "nbformat": 4,
 "nbformat_minor": 1
}
